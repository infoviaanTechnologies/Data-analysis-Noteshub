{
 "cells": [
  {
   "cell_type": "code",
   "execution_count": 2,
   "id": "99a46f3d-92e6-4a9c-a63f-f35bb2ed2b22",
   "metadata": {},
   "outputs": [],
   "source": [
    "import pandas as pd"
   ]
  },
  {
   "cell_type": "code",
   "execution_count": 3,
   "id": "bf2df05d-f0f8-41be-b120-6bcb957eada7",
   "metadata": {},
   "outputs": [
    {
     "data": {
      "text/plain": [
       "marks    [10, 20, 30, 40, 50]\n",
       "dtype: object"
      ]
     },
     "execution_count": 3,
     "metadata": {},
     "output_type": "execute_result"
    }
   ],
   "source": [
    "data={'marks':[10,20,30,40,50]}\n",
    "ss=pd.Series(data)\n",
    "ss"
   ]
  },
  {
   "cell_type": "code",
   "execution_count": 4,
   "id": "ea2fe529-863c-46ef-9232-557554ef403e",
   "metadata": {},
   "outputs": [
    {
     "name": "stdout",
     "output_type": "stream",
     "text": [
      "<class 'pandas.core.series.Series'>\n"
     ]
    }
   ],
   "source": [
    "print(type(ss))"
   ]
  },
  {
   "cell_type": "code",
   "execution_count": 5,
   "id": "b2682fa9-24fa-495b-8c21-107b480c0f35",
   "metadata": {},
   "outputs": [
    {
     "name": "stdout",
     "output_type": "stream",
     "text": [
      "0    10\n",
      "1    20\n",
      "2    30\n",
      "3    40\n",
      "4    50\n",
      "dtype: int64\n"
     ]
    }
   ],
   "source": [
    "numbers=[10,20,30,40,50]\n",
    "ss=pd.Series(numbers)\n",
    "print(ss)"
   ]
  },
  {
   "cell_type": "code",
   "execution_count": 6,
   "id": "3e8340b5-7290-4b04-9aa5-a448fe00cb4f",
   "metadata": {},
   "outputs": [
    {
     "name": "stdout",
     "output_type": "stream",
     "text": [
      "a    10\n",
      "b    20\n",
      "c    30\n",
      "dtype: int64\n"
     ]
    }
   ],
   "source": [
    "#Example : Series from a dictionary\n",
    "\n",
    "data = {'a': 10, 'b': 20, 'c': 30}\n",
    "series = pd.Series(data)\n",
    "print(series)\n"
   ]
  },
  {
   "cell_type": "code",
   "execution_count": 7,
   "id": "cd4a353a-f1fd-432b-8fec-56ce0900a186",
   "metadata": {},
   "outputs": [
    {
     "name": "stdout",
     "output_type": "stream",
     "text": [
      "x    100\n",
      "y    200\n",
      "z    300\n",
      "dtype: int64\n"
     ]
    }
   ],
   "source": [
    "#Example : Series with a custom index\n",
    "\n",
    "data = [100, 200, 300]\n",
    "idx = ['x', 'y', 'z']\n",
    "series = pd.Series(data, index=idx)\n",
    "print(series)\n"
   ]
  },
  {
   "cell_type": "code",
   "execution_count": 8,
   "id": "eeb6b5bd-3d2f-4048-9d32-451ebe3ef350",
   "metadata": {},
   "outputs": [
    {
     "name": "stdout",
     "output_type": "stream",
     "text": [
      "a    5\n",
      "b    5\n",
      "c    5\n",
      "dtype: int64\n"
     ]
    }
   ],
   "source": [
    "#Scalar Value with Index\n",
    "s = pd.Series(5, index=['a', 'b', 'c'])\n",
    "print(s)\n"
   ]
  },
  {
   "cell_type": "code",
   "execution_count": 9,
   "id": "49dd5aa5-3b5e-409d-b066-e9026d8a5cdc",
   "metadata": {},
   "outputs": [
    {
     "name": "stdout",
     "output_type": "stream",
     "text": [
      "5\n",
      "5\n",
      "5\n"
     ]
    }
   ],
   "source": [
    "for i in s:\n",
    "    print(i)"
   ]
  },
  {
   "cell_type": "code",
   "execution_count": 10,
   "id": "5dc1ff7e-f657-4c4d-9d73-9c02a8da31ba",
   "metadata": {},
   "outputs": [
    {
     "name": "stdout",
     "output_type": "stream",
     "text": [
      "x    100\n",
      "y    200\n",
      "z    300\n",
      "dtype: int64\n"
     ]
    }
   ],
   "source": [
    "data = [100, 200, 300]\n",
    "idx = ['x', 'y', 'z']\n",
    "ss = pd.Series(data, index=idx)\n",
    "print(ss)\n"
   ]
  },
  {
   "cell_type": "code",
   "execution_count": 11,
   "id": "b3641d52-2948-492b-9a30-3f5f371f85f3",
   "metadata": {
    "scrolled": true
   },
   "outputs": [
    {
     "name": "stdout",
     "output_type": "stream",
     "text": [
      "Index(['x', 'y', 'z'], dtype='object')\n"
     ]
    }
   ],
   "source": [
    "print(ss.index)"
   ]
  },
  {
   "cell_type": "code",
   "execution_count": 12,
   "id": "b8d81623-8d84-4dbb-80d2-610d8f6a63ef",
   "metadata": {},
   "outputs": [
    {
     "name": "stdout",
     "output_type": "stream",
     "text": [
      "[100 200 300]\n"
     ]
    }
   ],
   "source": [
    "print(ss.values)"
   ]
  },
  {
   "cell_type": "code",
   "execution_count": 13,
   "id": "ca8a3dc1-5b0c-4beb-a319-be8bec766591",
   "metadata": {},
   "outputs": [
    {
     "name": "stdout",
     "output_type": "stream",
     "text": [
      "int64\n"
     ]
    }
   ],
   "source": [
    "print(ss.dtype)"
   ]
  },
  {
   "cell_type": "code",
   "execution_count": 14,
   "id": "651f89f5-1d1e-4b5f-84b0-ce3386723dd9",
   "metadata": {},
   "outputs": [
    {
     "name": "stdout",
     "output_type": "stream",
     "text": [
      "3\n"
     ]
    }
   ],
   "source": [
    "print(ss.size)"
   ]
  },
  {
   "cell_type": "code",
   "execution_count": 15,
   "id": "739b0bec-0a72-4b63-8031-295e93628aa0",
   "metadata": {},
   "outputs": [
    {
     "name": "stdout",
     "output_type": "stream",
     "text": [
      "(3,)\n"
     ]
    }
   ],
   "source": [
    "print(ss.shape)"
   ]
  },
  {
   "cell_type": "code",
   "execution_count": 16,
   "id": "82c92189-7e54-41de-8194-8edc1711797d",
   "metadata": {},
   "outputs": [
    {
     "name": "stdout",
     "output_type": "stream",
     "text": [
      "x    110\n",
      "y    210\n",
      "z    310\n",
      "dtype: int64\n"
     ]
    }
   ],
   "source": [
    "print(ss+10)"
   ]
  },
  {
   "cell_type": "code",
   "execution_count": 17,
   "id": "82ed41f9-fa2d-4614-a462-a4e99efe4d0f",
   "metadata": {},
   "outputs": [
    {
     "name": "stdout",
     "output_type": "stream",
     "text": [
      "x    1000\n",
      "y    2000\n",
      "z    3000\n",
      "dtype: int64\n"
     ]
    }
   ],
   "source": [
    "print(ss*10)"
   ]
  },
  {
   "cell_type": "code",
   "execution_count": 18,
   "id": "6991cfc3-9c34-4665-83d4-849e079df550",
   "metadata": {},
   "outputs": [
    {
     "name": "stdout",
     "output_type": "stream",
     "text": [
      "x    100\n",
      "y    200\n",
      "z    300\n",
      "dtype: int64\n"
     ]
    }
   ],
   "source": [
    "data = [100, 200, 300]\n",
    "idx = ['x', 'y', 'z']\n",
    "ss = pd.Series(data, index=idx)\n",
    "print(ss)\n"
   ]
  },
  {
   "cell_type": "code",
   "execution_count": 19,
   "id": "6a6d633c-5835-4648-8089-a1b8b0a5927b",
   "metadata": {},
   "outputs": [
    {
     "name": "stdout",
     "output_type": "stream",
     "text": [
      "100\n"
     ]
    }
   ],
   "source": [
    "#access the on the baces of index\n",
    "print(ss['x'])"
   ]
  },
  {
   "cell_type": "code",
   "execution_count": 20,
   "id": "ed557b0f-01db-452a-a163-4dd9458c3689",
   "metadata": {},
   "outputs": [],
   "source": [
    "#int indexing  0,1,2,\n",
    "#lable indexing  'x','y','z'\n",
    "#loc[] --> use for access value through lable indexing \n",
    "#iloc[] -->use for access value through int indexing "
   ]
  },
  {
   "cell_type": "code",
   "execution_count": 21,
   "id": "7f8d6e9c-046b-419a-8f8d-0daf52c47091",
   "metadata": {},
   "outputs": [
    {
     "name": "stdout",
     "output_type": "stream",
     "text": [
      "100\n",
      "200\n",
      "100\n",
      "------------\n",
      "x    100\n",
      "y    200\n",
      "dtype: int64\n"
     ]
    }
   ],
   "source": [
    "print(ss.loc['x'])\n",
    "print(ss.loc['y'])\n",
    "print(ss.loc['x'])\n",
    "print('------------')\n",
    "print(ss.loc['x':'y'])"
   ]
  },
  {
   "cell_type": "code",
   "execution_count": 22,
   "id": "2b816bfa-5962-48db-95aa-4b9d39ccd93a",
   "metadata": {},
   "outputs": [
    {
     "name": "stdout",
     "output_type": "stream",
     "text": [
      "100\n",
      "200\n",
      "300\n",
      "--------------\n",
      "x    100\n",
      "y    200\n",
      "dtype: int64\n"
     ]
    }
   ],
   "source": [
    "print(ss.iloc[0])\n",
    "print(ss.iloc[1])\n",
    "print(ss.iloc[2])\n",
    "print('--------------')\n",
    "print(ss.iloc[0:2])"
   ]
  },
  {
   "cell_type": "code",
   "execution_count": 25,
   "id": "32041647-1268-4945-bbe3-f517b240483c",
   "metadata": {},
   "outputs": [
    {
     "name": "stdout",
     "output_type": "stream",
     "text": [
      "0    30\n",
      "1    20\n",
      "2    40\n",
      "3    20\n",
      "4    50\n",
      "5    20\n",
      "dtype: int64\n"
     ]
    }
   ],
   "source": [
    "ss=pd.Series([30,20,40,20,50,20])\n",
    "print(ss)"
   ]
  },
  {
   "cell_type": "code",
   "execution_count": 26,
   "id": "cc875fdc-99e0-4c75-be8c-db8487eec045",
   "metadata": {},
   "outputs": [
    {
     "name": "stdout",
     "output_type": "stream",
     "text": [
      "0    30\n",
      "2    40\n",
      "4    50\n",
      "dtype: int64\n"
     ]
    }
   ],
   "source": [
    "print(ss[ss>20])"
   ]
  },
  {
   "cell_type": "code",
   "execution_count": 30,
   "id": "fbfed491-ee08-42e9-93ed-9c5bb0190d29",
   "metadata": {},
   "outputs": [
    {
     "name": "stdout",
     "output_type": "stream",
     "text": [
      "1    20\n",
      "3    20\n",
      "5    20\n",
      "0    30\n",
      "2    40\n",
      "4    50\n",
      "dtype: int64\n"
     ]
    }
   ],
   "source": [
    "print(ss.sort_values())"
   ]
  },
  {
   "cell_type": "code",
   "execution_count": 32,
   "id": "2281f5a6-5110-49f1-8873-740ec702a3db",
   "metadata": {},
   "outputs": [
    {
     "data": {
      "text/plain": [
       "0    30\n",
       "1    20\n",
       "2    40\n",
       "dtype: int64"
      ]
     },
     "execution_count": 32,
     "metadata": {},
     "output_type": "execute_result"
    }
   ],
   "source": [
    "#ss.head()\n",
    "ss.head(3)     #top threee"
   ]
  },
  {
   "cell_type": "code",
   "execution_count": 36,
   "id": "cc2483fb-bb2f-4275-a189-216eeb0981e3",
   "metadata": {},
   "outputs": [
    {
     "data": {
      "text/plain": [
       "3    20\n",
       "4    50\n",
       "5    20\n",
       "dtype: int64"
      ]
     },
     "execution_count": 36,
     "metadata": {},
     "output_type": "execute_result"
    }
   ],
   "source": [
    "#ss.tail()\n",
    "ss.tail(3)     #bottom three"
   ]
  },
  {
   "cell_type": "code",
   "execution_count": null,
   "id": "8e652885-8850-49c8-a54e-9638a759fc57",
   "metadata": {},
   "outputs": [],
   "source": []
  }
 ],
 "metadata": {
  "kernelspec": {
   "display_name": "Python 3 (ipykernel)",
   "language": "python",
   "name": "python3"
  },
  "language_info": {
   "codemirror_mode": {
    "name": "ipython",
    "version": 3
   },
   "file_extension": ".py",
   "mimetype": "text/x-python",
   "name": "python",
   "nbconvert_exporter": "python",
   "pygments_lexer": "ipython3",
   "version": "3.13.2"
  }
 },
 "nbformat": 4,
 "nbformat_minor": 5
}
