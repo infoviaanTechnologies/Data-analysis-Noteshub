{
 "cells": [
  {
   "cell_type": "code",
   "execution_count": 19,
   "id": "83034330-ae62-4411-944e-b238e747a163",
   "metadata": {},
   "outputs": [],
   "source": [
    "import pandas as pd"
   ]
  },
  {
   "cell_type": "code",
   "execution_count": 20,
   "id": "a9e248e2-2abc-45a8-bd63-9372ff2547ee",
   "metadata": {},
   "outputs": [
    {
     "data": {
      "text/html": [
       "<div>\n",
       "<style scoped>\n",
       "    .dataframe tbody tr th:only-of-type {\n",
       "        vertical-align: middle;\n",
       "    }\n",
       "\n",
       "    .dataframe tbody tr th {\n",
       "        vertical-align: top;\n",
       "    }\n",
       "\n",
       "    .dataframe thead th {\n",
       "        text-align: right;\n",
       "    }\n",
       "</style>\n",
       "<table border=\"1\" class=\"dataframe\">\n",
       "  <thead>\n",
       "    <tr style=\"text-align: right;\">\n",
       "      <th></th>\n",
       "      <th>Date</th>\n",
       "      <th>Region</th>\n",
       "      <th>Product</th>\n",
       "      <th>Quantity</th>\n",
       "      <th>Unit_Price</th>\n",
       "      <th>Total</th>\n",
       "    </tr>\n",
       "  </thead>\n",
       "  <tbody>\n",
       "    <tr>\n",
       "      <th>0</th>\n",
       "      <td>2023-12-23</td>\n",
       "      <td>North</td>\n",
       "      <td>Product A</td>\n",
       "      <td>NaN</td>\n",
       "      <td>100</td>\n",
       "      <td>1700</td>\n",
       "    </tr>\n",
       "    <tr>\n",
       "      <th>1</th>\n",
       "      <td>2023-11-14</td>\n",
       "      <td>West</td>\n",
       "      <td>NaN</td>\n",
       "      <td>18.0</td>\n",
       "      <td>150</td>\n",
       "      <td>2700</td>\n",
       "    </tr>\n",
       "    <tr>\n",
       "      <th>2</th>\n",
       "      <td>2023-09-02</td>\n",
       "      <td>South</td>\n",
       "      <td>Product C</td>\n",
       "      <td>10.0</td>\n",
       "      <td>150</td>\n",
       "      <td>1500</td>\n",
       "    </tr>\n",
       "    <tr>\n",
       "      <th>3</th>\n",
       "      <td>2023-12-01</td>\n",
       "      <td>North</td>\n",
       "      <td>Product B</td>\n",
       "      <td>13.0</td>\n",
       "      <td>100</td>\n",
       "      <td>1300</td>\n",
       "    </tr>\n",
       "    <tr>\n",
       "      <th>4</th>\n",
       "      <td>2023-05-14</td>\n",
       "      <td>West</td>\n",
       "      <td>Product B</td>\n",
       "      <td>16.0</td>\n",
       "      <td>150</td>\n",
       "      <td>2400</td>\n",
       "    </tr>\n",
       "    <tr>\n",
       "      <th>5</th>\n",
       "      <td>2023-06-09</td>\n",
       "      <td>West</td>\n",
       "      <td>Product C</td>\n",
       "      <td>7.0</td>\n",
       "      <td>100</td>\n",
       "      <td>700</td>\n",
       "    </tr>\n",
       "    <tr>\n",
       "      <th>6</th>\n",
       "      <td>NaN</td>\n",
       "      <td>West</td>\n",
       "      <td>Product C</td>\n",
       "      <td>15.0</td>\n",
       "      <td>100</td>\n",
       "      <td>1500</td>\n",
       "    </tr>\n",
       "    <tr>\n",
       "      <th>7</th>\n",
       "      <td>2023-09-22</td>\n",
       "      <td>West</td>\n",
       "      <td>Product B</td>\n",
       "      <td>2.0</td>\n",
       "      <td>100</td>\n",
       "      <td>200</td>\n",
       "    </tr>\n",
       "    <tr>\n",
       "      <th>8</th>\n",
       "      <td>2023-05-07</td>\n",
       "      <td>South</td>\n",
       "      <td>Product A</td>\n",
       "      <td>5.0</td>\n",
       "      <td>200</td>\n",
       "      <td>1000</td>\n",
       "    </tr>\n",
       "    <tr>\n",
       "      <th>9</th>\n",
       "      <td>2023-01-14</td>\n",
       "      <td>West</td>\n",
       "      <td>Product C</td>\n",
       "      <td>17.0</td>\n",
       "      <td>150</td>\n",
       "      <td>2550</td>\n",
       "    </tr>\n",
       "  </tbody>\n",
       "</table>\n",
       "</div>"
      ],
      "text/plain": [
       "         Date Region    Product  Quantity  Unit_Price  Total\n",
       "0  2023-12-23  North  Product A       NaN         100   1700\n",
       "1  2023-11-14   West        NaN      18.0         150   2700\n",
       "2  2023-09-02  South  Product C      10.0         150   1500\n",
       "3  2023-12-01  North  Product B      13.0         100   1300\n",
       "4  2023-05-14   West  Product B      16.0         150   2400\n",
       "5  2023-06-09   West  Product C       7.0         100    700\n",
       "6         NaN   West  Product C      15.0         100   1500\n",
       "7  2023-09-22   West  Product B       2.0         100    200\n",
       "8  2023-05-07  South  Product A       5.0         200   1000\n",
       "9  2023-01-14   West  Product C      17.0         150   2550"
      ]
     },
     "execution_count": 20,
     "metadata": {},
     "output_type": "execute_result"
    }
   ],
   "source": [
    "df=pd.read_csv(\"C:\\\\Users\\\\HP\\\\Downloads\\\\sales_data.csv\")\n",
    "df\n",
    "df.head(10)"
   ]
  },
  {
   "cell_type": "code",
   "execution_count": 21,
   "id": "77975e11-2c33-4502-b690-b454a34483bf",
   "metadata": {},
   "outputs": [
    {
     "data": {
      "text/plain": [
       "Date           object\n",
       "Region         object\n",
       "Product        object\n",
       "Quantity      float64\n",
       "Unit_Price      int64\n",
       "Total           int64\n",
       "dtype: object"
      ]
     },
     "execution_count": 21,
     "metadata": {},
     "output_type": "execute_result"
    }
   ],
   "source": [
    "df.dtypes"
   ]
  },
  {
   "cell_type": "code",
   "execution_count": 22,
   "id": "68810dfd-e66d-489b-901c-bb4639582d21",
   "metadata": {},
   "outputs": [
    {
     "data": {
      "text/plain": [
       "Index(['Date', 'Region', 'Product', 'Quantity', 'Unit_Price', 'Total'], dtype='object')"
      ]
     },
     "execution_count": 22,
     "metadata": {},
     "output_type": "execute_result"
    }
   ],
   "source": [
    "df.columns"
   ]
  },
  {
   "cell_type": "code",
   "execution_count": 23,
   "id": "05b56825-38e0-45e8-9b2c-0a7ae71fab6a",
   "metadata": {},
   "outputs": [
    {
     "name": "stdout",
     "output_type": "stream",
     "text": [
      "<class 'pandas.core.frame.DataFrame'>\n",
      "RangeIndex: 500 entries, 0 to 499\n",
      "Data columns (total 6 columns):\n",
      " #   Column      Non-Null Count  Dtype  \n",
      "---  ------      --------------  -----  \n",
      " 0   Date        498 non-null    object \n",
      " 1   Region      500 non-null    object \n",
      " 2   Product     499 non-null    object \n",
      " 3   Quantity    499 non-null    float64\n",
      " 4   Unit_Price  500 non-null    int64  \n",
      " 5   Total       500 non-null    int64  \n",
      "dtypes: float64(1), int64(2), object(3)\n",
      "memory usage: 23.6+ KB\n"
     ]
    }
   ],
   "source": [
    "df.info()"
   ]
  },
  {
   "cell_type": "code",
   "execution_count": 29,
   "id": "7eefc654-5965-4994-8feb-32c77b6392ed",
   "metadata": {},
   "outputs": [
    {
     "name": "stdout",
     "output_type": "stream",
     "text": [
      "Collecting openpyxl\n",
      "  Using cached openpyxl-3.1.5-py2.py3-none-any.whl.metadata (2.5 kB)\n",
      "Collecting et-xmlfile (from openpyxl)\n",
      "  Using cached et_xmlfile-2.0.0-py3-none-any.whl.metadata (2.7 kB)\n",
      "Using cached openpyxl-3.1.5-py2.py3-none-any.whl (250 kB)\n",
      "Using cached et_xmlfile-2.0.0-py3-none-any.whl (18 kB)\n",
      "Installing collected packages: et-xmlfile, openpyxl\n",
      "Successfully installed et-xmlfile-2.0.0 openpyxl-3.1.5\n",
      "Note: you may need to restart the kernel to use updated packages.\n"
     ]
    }
   ],
   "source": [
    "pip install openpyxl"
   ]
  },
  {
   "cell_type": "code",
   "execution_count": 30,
   "id": "ba551f7a-2302-4d49-a189-aabc9ef94904",
   "metadata": {},
   "outputs": [
    {
     "data": {
      "text/html": [
       "<div>\n",
       "<style scoped>\n",
       "    .dataframe tbody tr th:only-of-type {\n",
       "        vertical-align: middle;\n",
       "    }\n",
       "\n",
       "    .dataframe tbody tr th {\n",
       "        vertical-align: top;\n",
       "    }\n",
       "\n",
       "    .dataframe thead th {\n",
       "        text-align: right;\n",
       "    }\n",
       "</style>\n",
       "<table border=\"1\" class=\"dataframe\">\n",
       "  <thead>\n",
       "    <tr style=\"text-align: right;\">\n",
       "      <th></th>\n",
       "      <th>orderId</th>\n",
       "      <th>productId</th>\n",
       "      <th>Qty</th>\n",
       "      <th>payMode</th>\n",
       "    </tr>\n",
       "  </thead>\n",
       "  <tbody>\n",
       "    <tr>\n",
       "      <th>0</th>\n",
       "      <td>101</td>\n",
       "      <td>p1</td>\n",
       "      <td>1</td>\n",
       "      <td>online</td>\n",
       "    </tr>\n",
       "    <tr>\n",
       "      <th>1</th>\n",
       "      <td>102</td>\n",
       "      <td>p2</td>\n",
       "      <td>4</td>\n",
       "      <td>online</td>\n",
       "    </tr>\n",
       "    <tr>\n",
       "      <th>2</th>\n",
       "      <td>103</td>\n",
       "      <td>p4</td>\n",
       "      <td>2</td>\n",
       "      <td>offline</td>\n",
       "    </tr>\n",
       "    <tr>\n",
       "      <th>3</th>\n",
       "      <td>104</td>\n",
       "      <td>p1</td>\n",
       "      <td>3</td>\n",
       "      <td>online</td>\n",
       "    </tr>\n",
       "    <tr>\n",
       "      <th>4</th>\n",
       "      <td>105</td>\n",
       "      <td>p2</td>\n",
       "      <td>2</td>\n",
       "      <td>online</td>\n",
       "    </tr>\n",
       "    <tr>\n",
       "      <th>5</th>\n",
       "      <td>106</td>\n",
       "      <td>p3</td>\n",
       "      <td>4</td>\n",
       "      <td>online</td>\n",
       "    </tr>\n",
       "    <tr>\n",
       "      <th>6</th>\n",
       "      <td>107</td>\n",
       "      <td>p4</td>\n",
       "      <td>5</td>\n",
       "      <td>offline</td>\n",
       "    </tr>\n",
       "    <tr>\n",
       "      <th>7</th>\n",
       "      <td>108</td>\n",
       "      <td>p2</td>\n",
       "      <td>2</td>\n",
       "      <td>offline</td>\n",
       "    </tr>\n",
       "    <tr>\n",
       "      <th>8</th>\n",
       "      <td>109</td>\n",
       "      <td>p3</td>\n",
       "      <td>4</td>\n",
       "      <td>online</td>\n",
       "    </tr>\n",
       "    <tr>\n",
       "      <th>9</th>\n",
       "      <td>110</td>\n",
       "      <td>p1</td>\n",
       "      <td>2</td>\n",
       "      <td>offline</td>\n",
       "    </tr>\n",
       "  </tbody>\n",
       "</table>\n",
       "</div>"
      ],
      "text/plain": [
       "   orderId productId  Qty  payMode\n",
       "0      101        p1    1   online\n",
       "1      102        p2    4   online\n",
       "2      103        p4    2  offline\n",
       "3      104        p1    3   online\n",
       "4      105        p2    2   online\n",
       "5      106        p3    4   online\n",
       "6      107        p4    5  offline\n",
       "7      108        p2    2  offline\n",
       "8      109        p3    4   online\n",
       "9      110        p1    2  offline"
      ]
     },
     "execution_count": 30,
     "metadata": {},
     "output_type": "execute_result"
    }
   ],
   "source": [
    "#to import excel file\n",
    "import openpyxl\n",
    "#pd.read_excel()\n",
    "df=pd.read_excel(\"C:\\\\Users\\\\HP\\\\Desktop\\\\DigitalProducts.xlsx\",\n",
    "                 sheet_name='Order_table')\n",
    "df"
   ]
  },
  {
   "cell_type": "code",
   "execution_count": 31,
   "id": "7436460f-e438-41e0-92dc-188f951af3a1",
   "metadata": {},
   "outputs": [
    {
     "data": {
      "text/html": [
       "<div>\n",
       "<style scoped>\n",
       "    .dataframe tbody tr th:only-of-type {\n",
       "        vertical-align: middle;\n",
       "    }\n",
       "\n",
       "    .dataframe tbody tr th {\n",
       "        vertical-align: top;\n",
       "    }\n",
       "\n",
       "    .dataframe thead th {\n",
       "        text-align: right;\n",
       "    }\n",
       "</style>\n",
       "<table border=\"1\" class=\"dataframe\">\n",
       "  <thead>\n",
       "    <tr style=\"text-align: right;\">\n",
       "      <th></th>\n",
       "      <th>ProductId</th>\n",
       "      <th>ProductName</th>\n",
       "      <th>CostPrice</th>\n",
       "      <th>SellingPrice</th>\n",
       "      <th>Stock</th>\n",
       "    </tr>\n",
       "  </thead>\n",
       "  <tbody>\n",
       "    <tr>\n",
       "      <th>0</th>\n",
       "      <td>p1</td>\n",
       "      <td>Laptop</td>\n",
       "      <td>10000</td>\n",
       "      <td>20000</td>\n",
       "      <td>10</td>\n",
       "    </tr>\n",
       "    <tr>\n",
       "      <th>1</th>\n",
       "      <td>p2</td>\n",
       "      <td>Printer</td>\n",
       "      <td>100000</td>\n",
       "      <td>300000</td>\n",
       "      <td>20</td>\n",
       "    </tr>\n",
       "    <tr>\n",
       "      <th>2</th>\n",
       "      <td>p3</td>\n",
       "      <td>Ac</td>\n",
       "      <td>15000</td>\n",
       "      <td>25000</td>\n",
       "      <td>20</td>\n",
       "    </tr>\n",
       "    <tr>\n",
       "      <th>3</th>\n",
       "      <td>p4</td>\n",
       "      <td>TV</td>\n",
       "      <td>12000</td>\n",
       "      <td>15000</td>\n",
       "      <td>15</td>\n",
       "    </tr>\n",
       "  </tbody>\n",
       "</table>\n",
       "</div>"
      ],
      "text/plain": [
       "  ProductId ProductName  CostPrice  SellingPrice  Stock\n",
       "0        p1      Laptop      10000         20000     10\n",
       "1        p2     Printer     100000        300000     20\n",
       "2        p3          Ac      15000         25000     20\n",
       "3        p4          TV      12000         15000     15"
      ]
     },
     "execution_count": 31,
     "metadata": {},
     "output_type": "execute_result"
    }
   ],
   "source": [
    "df=pd.read_excel(\"C:\\\\Users\\\\HP\\\\Desktop\\\\DigitalProducts.xlsx\",\n",
    "                 sheet_name='product')\n",
    "df"
   ]
  },
  {
   "cell_type": "code",
   "execution_count": 34,
   "id": "ae7bb608-3ec6-49cc-8def-65822bf9bff0",
   "metadata": {},
   "outputs": [
    {
     "data": {
      "text/html": [
       "<div>\n",
       "<style scoped>\n",
       "    .dataframe tbody tr th:only-of-type {\n",
       "        vertical-align: middle;\n",
       "    }\n",
       "\n",
       "    .dataframe tbody tr th {\n",
       "        vertical-align: top;\n",
       "    }\n",
       "\n",
       "    .dataframe thead th {\n",
       "        text-align: right;\n",
       "    }\n",
       "</style>\n",
       "<table border=\"1\" class=\"dataframe\">\n",
       "  <thead>\n",
       "    <tr style=\"text-align: right;\">\n",
       "      <th></th>\n",
       "      <th>Name</th>\n",
       "      <th>age</th>\n",
       "      <th>marks</th>\n",
       "    </tr>\n",
       "  </thead>\n",
       "  <tbody>\n",
       "    <tr>\n",
       "      <th>0</th>\n",
       "      <td>AAAA</td>\n",
       "      <td>10</td>\n",
       "      <td>74.23</td>\n",
       "    </tr>\n",
       "    <tr>\n",
       "      <th>1</th>\n",
       "      <td>BBBBB</td>\n",
       "      <td>13</td>\n",
       "      <td>67.40</td>\n",
       "    </tr>\n",
       "    <tr>\n",
       "      <th>2</th>\n",
       "      <td>CCCCC</td>\n",
       "      <td>25</td>\n",
       "      <td>25.30</td>\n",
       "    </tr>\n",
       "    <tr>\n",
       "      <th>3</th>\n",
       "      <td>DDDDD</td>\n",
       "      <td>23</td>\n",
       "      <td>23.23</td>\n",
       "    </tr>\n",
       "  </tbody>\n",
       "</table>\n",
       "</div>"
      ],
      "text/plain": [
       "    Name  age  marks\n",
       "0   AAAA   10  74.23\n",
       "1  BBBBB   13  67.40\n",
       "2  CCCCC   25  25.30\n",
       "3  DDDDD   23  23.23"
      ]
     },
     "execution_count": 34,
     "metadata": {},
     "output_type": "execute_result"
    }
   ],
   "source": [
    "data={\n",
    "     'Name':['AAAA','BBBBB','CCCCC','DDDDD'],\n",
    "      'age':[10,13,25,23],\n",
    "       'marks':[74.23,67.4,25.3,23.23]\n",
    "}\n",
    "df=pd.DataFrame(data)\n",
    "df"
   ]
  },
  {
   "cell_type": "code",
   "execution_count": 36,
   "id": "a7dff26f-bc70-44b7-bdab-6b6d5ef8d227",
   "metadata": {},
   "outputs": [],
   "source": [
    "#Export the data\n",
    "df.to_csv(\"C:\\\\Users\\\\HP\\\\Desktop\\\\pandas_12pm\\\\new_data.csv\")"
   ]
  },
  {
   "cell_type": "code",
   "execution_count": 37,
   "id": "47aa9c35-8575-46c7-babe-23a1ececf094",
   "metadata": {},
   "outputs": [],
   "source": [
    "df.to_csv(\"C:\\\\Users\\\\HP\\\\Desktop\\\\pandas_12pm\\\\new_data2.csv\",index=True)"
   ]
  },
  {
   "cell_type": "code",
   "execution_count": 38,
   "id": "d45eab8e-a1dd-47c0-af8f-ef2120ca4daf",
   "metadata": {},
   "outputs": [],
   "source": [
    "df.to_json('C:\\\\Users\\\\HP\\\\Desktop\\\\pandas_12pm\\\\new_data2.json', \n",
    "           orient='records')  # List of records\n"
   ]
  },
  {
   "cell_type": "code",
   "execution_count": 39,
   "id": "61563ae6-3b2c-4a90-b109-a8320b84fb27",
   "metadata": {},
   "outputs": [],
   "source": [
    "df.to_excel('C:\\\\Users\\\\HP\\\\Desktop\\\\pandas_12pm\\\\new_data2.xlsx',\n",
    "            sheet_name=\"Sheet1\")  # List of records\n"
   ]
  },
  {
   "cell_type": "code",
   "execution_count": null,
   "id": "4f280c48-2e7a-4390-959a-f06127ab64f6",
   "metadata": {},
   "outputs": [],
   "source": []
  }
 ],
 "metadata": {
  "kernelspec": {
   "display_name": "Python 3 (ipykernel)",
   "language": "python",
   "name": "python3"
  },
  "language_info": {
   "codemirror_mode": {
    "name": "ipython",
    "version": 3
   },
   "file_extension": ".py",
   "mimetype": "text/x-python",
   "name": "python",
   "nbconvert_exporter": "python",
   "pygments_lexer": "ipython3",
   "version": "3.13.2"
  }
 },
 "nbformat": 4,
 "nbformat_minor": 5
}
