{
 "cells": [
  {
   "cell_type": "code",
   "execution_count": 65,
   "id": "709619dc-7eed-4502-ae22-3a5b303766ab",
   "metadata": {},
   "outputs": [],
   "source": [
    "import numpy as np\n"
   ]
  },
  {
   "cell_type": "code",
   "execution_count": 66,
   "id": "cbd7ed2c-e5d2-4280-bfd5-525aec434386",
   "metadata": {},
   "outputs": [
    {
     "name": "stdout",
     "output_type": "stream",
     "text": [
      "[[11 22 33]\n",
      " [10 20 30]\n",
      " [10 20 30]]\n",
      "<class 'numpy.ndarray'>\n"
     ]
    }
   ],
   "source": [
    "ar=np.array([[11,22,33],\n",
    "             [10,20,30],\n",
    "            [10,20,30]])\n",
    "print(ar)\n",
    "print(type(ar))"
   ]
  },
  {
   "cell_type": "code",
   "execution_count": 67,
   "id": "70fe96c2-0c4e-4687-9f4f-ecf6d78a18c8",
   "metadata": {},
   "outputs": [
    {
     "name": "stdout",
     "output_type": "stream",
     "text": [
      "(3, 3)\n"
     ]
    }
   ],
   "source": [
    "print(ar.shape)"
   ]
  },
  {
   "cell_type": "code",
   "execution_count": 68,
   "id": "88ccdfbe-2ef7-42f1-9542-a6ea2e4b7228",
   "metadata": {},
   "outputs": [
    {
     "name": "stdout",
     "output_type": "stream",
     "text": [
      "int64\n"
     ]
    }
   ],
   "source": [
    "print(ar.dtype)"
   ]
  },
  {
   "cell_type": "code",
   "execution_count": 69,
   "id": "de68966a-2cc0-4bee-a16b-85f696b938c3",
   "metadata": {},
   "outputs": [
    {
     "name": "stdout",
     "output_type": "stream",
     "text": [
      "2\n"
     ]
    }
   ],
   "source": [
    "print(ar.ndim)   #dimesion 1d,2d,3d"
   ]
  },
  {
   "cell_type": "code",
   "execution_count": 70,
   "id": "4a5b621f-6604-4565-a349-15638d16793f",
   "metadata": {},
   "outputs": [
    {
     "name": "stdout",
     "output_type": "stream",
     "text": [
      "Size of array:  9\n"
     ]
    }
   ],
   "source": [
    "print(\"Size of array: \",ar.size)"
   ]
  },
  {
   "cell_type": "code",
   "execution_count": 71,
   "id": "4a022c43-03d6-458b-9e11-279937a6332a",
   "metadata": {},
   "outputs": [
    {
     "name": "stdout",
     "output_type": "stream",
     "text": [
      "[[10. 20.]\n",
      " [11. 22.]]\n",
      "float64\n"
     ]
    }
   ],
   "source": [
    "data=[[10,20],[11,22]]\n",
    "ar=np.array(data,dtype='float')\n",
    "print(ar)\n",
    "print(ar.dtype)"
   ]
  },
  {
   "cell_type": "code",
   "execution_count": 72,
   "id": "c7a18aa7-8ac9-43ae-98a8-dd2aae963925",
   "metadata": {},
   "outputs": [
    {
     "name": "stdout",
     "output_type": "stream",
     "text": [
      "[[0. 0. 0. 0.]\n",
      " [0. 0. 0. 0.]\n",
      " [0. 0. 0. 0.]]\n"
     ]
    }
   ],
   "source": [
    "#zero matrix / zero array\n",
    "ar=np.zeros((3,4))\n",
    "print(ar)"
   ]
  },
  {
   "cell_type": "code",
   "execution_count": 73,
   "id": "fea4ee32-d802-48e5-9333-06608dccb4b6",
   "metadata": {},
   "outputs": [
    {
     "name": "stdout",
     "output_type": "stream",
     "text": [
      "[[1 1 1]\n",
      " [1 1 1]]\n"
     ]
    }
   ],
   "source": [
    "#identity matrix/ ones arry\n",
    "ar=np.ones((2,3),dtype='int')\n",
    "print(ar)"
   ]
  },
  {
   "cell_type": "code",
   "execution_count": 74,
   "id": "40f956ff-4e9d-416a-bc16-48f25bc6dba4",
   "metadata": {},
   "outputs": [
    {
     "name": "stdout",
     "output_type": "stream",
     "text": [
      "[[5 5 5 5]\n",
      " [5 5 5 5]\n",
      " [5 5 5 5]]\n"
     ]
    }
   ],
   "source": [
    "n=5\n",
    "ar=np.full((3,4),n)\n",
    "print(ar)"
   ]
  },
  {
   "cell_type": "code",
   "execution_count": 75,
   "id": "1496630b-78a1-4f92-aedc-3a2e3a914c52",
   "metadata": {},
   "outputs": [
    {
     "name": "stdout",
     "output_type": "stream",
     "text": [
      "[[5 5 5 5]\n",
      " [5 5 5 5]\n",
      " [5 5 5 5]]\n"
     ]
    }
   ],
   "source": [
    "n=5.3\n",
    "ar=np.full((3,4),n,dtype='int')\n",
    "print(ar)"
   ]
  },
  {
   "cell_type": "code",
   "execution_count": 76,
   "id": "98120409-f168-4886-9dc7-7eee2f714da2",
   "metadata": {},
   "outputs": [
    {
     "name": "stdout",
     "output_type": "stream",
     "text": [
      "[[11 22 33 44]\n",
      " [10 20 30 40]\n",
      " [10 20 30 40]\n",
      " [10 20 30 40]]\n"
     ]
    }
   ],
   "source": [
    "ar=np.array([[11,22,33,44],\n",
    "             [10,20,30,40],\n",
    "            [10,20,30,40],\n",
    "            [10,20,30,40]])\n",
    "\n",
    "print(ar)\n"
   ]
  },
  {
   "cell_type": "code",
   "execution_count": 77,
   "id": "e91f38dd-89ac-419f-b96c-6a6229999774",
   "metadata": {},
   "outputs": [
    {
     "name": "stdout",
     "output_type": "stream",
     "text": [
      "[[11]\n",
      " [10]]\n"
     ]
    }
   ],
   "source": [
    "x=ar[:2,:1]\n",
    "print(x)"
   ]
  },
  {
   "cell_type": "code",
   "execution_count": 81,
   "id": "7f94c211-97ba-400d-b12c-69e5372c4a57",
   "metadata": {},
   "outputs": [
    {
     "name": "stdout",
     "output_type": "stream",
     "text": [
      "[[11 22 33 44]\n",
      " [10 20 30 40]\n",
      " [10 20 30 40]\n",
      " [10 20 30 40]]\n"
     ]
    }
   ],
   "source": [
    "x=ar[[0,1,2,3]]\n",
    "print(x)"
   ]
  },
  {
   "cell_type": "code",
   "execution_count": 80,
   "id": "36e78064-396f-4679-ae52-14e13d2477d3",
   "metadata": {},
   "outputs": [
    {
     "name": "stdout",
     "output_type": "stream",
     "text": [
      "[44 40 40 40]\n"
     ]
    }
   ],
   "source": [
    "x=ar[[0,1,2,3],[3]]\n",
    "print(x)"
   ]
  },
  {
   "cell_type": "code",
   "execution_count": 85,
   "id": "4d094d4f-cd21-4448-806e-31e37ac09a4e",
   "metadata": {},
   "outputs": [
    {
     "name": "stdout",
     "output_type": "stream",
     "text": [
      "[44 30 20 10]\n"
     ]
    }
   ],
   "source": [
    "x=ar[[0,1,2,3],[3,2,1,0]]\n",
    "print(x)"
   ]
  },
  {
   "cell_type": "code",
   "execution_count": 91,
   "id": "2caad7b1-896f-4b47-8e4e-eef6f9e7d224",
   "metadata": {},
   "outputs": [
    {
     "name": "stdout",
     "output_type": "stream",
     "text": [
      "[[44 33 22 11]\n",
      " [40 30 20 10]\n",
      " [40 30 20 10]\n",
      " [40 30 20 10]]\n"
     ]
    }
   ],
   "source": [
    "x=ar[::,3::-1]\n",
    "print(x)"
   ]
  },
  {
   "cell_type": "code",
   "execution_count": 92,
   "id": "f2208f1b-1267-47cb-b2aa-c697afd5d268",
   "metadata": {},
   "outputs": [
    {
     "name": "stdout",
     "output_type": "stream",
     "text": [
      "[[False False  True  True]\n",
      " [False False  True  True]\n",
      " [False False  True  True]\n",
      " [False False  True  True]]\n"
     ]
    }
   ],
   "source": [
    "x=(ar>=30)\n",
    "print(x)"
   ]
  },
  {
   "cell_type": "code",
   "execution_count": 93,
   "id": "7264e566-26d0-47c7-9f91-4037b1b1e8b2",
   "metadata": {},
   "outputs": [
    {
     "name": "stdout",
     "output_type": "stream",
     "text": [
      "[33 44 30 40 30 40 30 40]\n"
     ]
    }
   ],
   "source": [
    "x=(ar>=30)\n",
    "print(ar[x])"
   ]
  },
  {
   "cell_type": "code",
   "execution_count": 95,
   "id": "ee3cd028-da7d-4404-a3d1-8fb1182821e6",
   "metadata": {},
   "outputs": [
    {
     "name": "stdout",
     "output_type": "stream",
     "text": [
      "(array([0, 0, 0, 1, 1, 1, 2, 2, 2, 3, 3, 3]), array([1, 2, 3, 1, 2, 3, 1, 2, 3, 1, 2, 3]))\n",
      "[22 33 44 20 30 40 20 30 40 20 30 40]\n"
     ]
    }
   ],
   "source": [
    "x=np.where(ar>=20)\n",
    "print(x)   #index values\n",
    "print(ar[x]) "
   ]
  },
  {
   "cell_type": "code",
   "execution_count": null,
   "id": "3e6f498d-f8e9-467e-94a0-1ca3f36bcb84",
   "metadata": {},
   "outputs": [],
   "source": []
  }
 ],
 "metadata": {
  "kernelspec": {
   "display_name": "Python 3 (ipykernel)",
   "language": "python",
   "name": "python3"
  },
  "language_info": {
   "codemirror_mode": {
    "name": "ipython",
    "version": 3
   },
   "file_extension": ".py",
   "mimetype": "text/x-python",
   "name": "python",
   "nbconvert_exporter": "python",
   "pygments_lexer": "ipython3",
   "version": "3.13.2"
  }
 },
 "nbformat": 4,
 "nbformat_minor": 5
}
