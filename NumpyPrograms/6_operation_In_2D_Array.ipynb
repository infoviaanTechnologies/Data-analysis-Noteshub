{
 "cells": [
  {
   "cell_type": "markdown",
   "id": "6c28ea0d-dc12-49ab-bb1f-d8d273543305",
   "metadata": {},
   "source": [
    "Airthametic Operation in 2D array"
   ]
  },
  {
   "cell_type": "code",
   "execution_count": 2,
   "id": "742363e5-111f-4e97-9492-7d63519f3a77",
   "metadata": {},
   "outputs": [],
   "source": [
    "import numpy as np"
   ]
  },
  {
   "cell_type": "code",
   "execution_count": 3,
   "id": "23cb33b9-7d83-447a-848e-1a2fb1f55421",
   "metadata": {},
   "outputs": [
    {
     "name": "stdout",
     "output_type": "stream",
     "text": [
      "[[11 22 33]\n",
      " [10 20 30]]\n"
     ]
    }
   ],
   "source": [
    "ar=np.array([[11,22,33],\n",
    "             [10,20,30]])\n",
    "print(ar)"
   ]
  },
  {
   "cell_type": "code",
   "execution_count": 4,
   "id": "4ae63dc8-4a8b-434f-b665-1a86255ca772",
   "metadata": {},
   "outputs": [
    {
     "name": "stdout",
     "output_type": "stream",
     "text": [
      "[[13 24 35]\n",
      " [12 22 32]]\n"
     ]
    }
   ],
   "source": [
    "print(ar+2)"
   ]
  },
  {
   "cell_type": "code",
   "execution_count": 5,
   "id": "bdc2f1f2-b2cf-4917-8228-e0909ea2f3cd",
   "metadata": {},
   "outputs": [
    {
     "name": "stdout",
     "output_type": "stream",
     "text": [
      "[11 22 33]\n"
     ]
    }
   ],
   "source": [
    "print(ar[0])"
   ]
  },
  {
   "cell_type": "code",
   "execution_count": 6,
   "id": "ba45524b-6a44-4f9f-8c3b-c6e3cff4029a",
   "metadata": {},
   "outputs": [
    {
     "name": "stdout",
     "output_type": "stream",
     "text": [
      "[21 32 43]\n"
     ]
    }
   ],
   "source": [
    "print(ar[0]+10)"
   ]
  },
  {
   "cell_type": "code",
   "execution_count": 8,
   "id": "35e403a7-dd9f-470a-87f2-5fb9d4a628df",
   "metadata": {},
   "outputs": [
    {
     "name": "stdout",
     "output_type": "stream",
     "text": [
      "[[21 32 43]\n",
      " [10 20 30]]\n",
      "----------------\n",
      "[[31 42 53]\n",
      " [10 20 30]]\n"
     ]
    }
   ],
   "source": [
    "print(ar)\n",
    "print('----------------')\n",
    "ar[0]+=10\n",
    "print(ar)"
   ]
  },
  {
   "cell_type": "markdown",
   "id": "6bce30e5-38f8-431a-bc22-ae9aff32c1ae",
   "metadata": {},
   "source": [
    "#### min , Max ,Sum Opertaion in array"
   ]
  },
  {
   "cell_type": "code",
   "execution_count": 9,
   "id": "f1b60a72-09f4-476c-ad5c-f051c40e5cf4",
   "metadata": {},
   "outputs": [
    {
     "name": "stdout",
     "output_type": "stream",
     "text": [
      "[10 20 40 20]\n"
     ]
    }
   ],
   "source": [
    "ar=np.array([10,20,40,20])\n",
    "print(ar)"
   ]
  },
  {
   "cell_type": "code",
   "execution_count": 12,
   "id": "0ef61b64-75ee-40ae-855a-1b5a2a03765c",
   "metadata": {},
   "outputs": [
    {
     "name": "stdout",
     "output_type": "stream",
     "text": [
      "Minimum value -->  10\n",
      "Maximum Value -->  40\n",
      "Sum of all elements -->  90\n"
     ]
    }
   ],
   "source": [
    "print('Minimum value --> ',np.min(ar))\n",
    "print('Maximum Value --> ',np.max(ar))\n",
    "print('Sum of all elements --> ',np.sum(ar))"
   ]
  },
  {
   "cell_type": "code",
   "execution_count": 16,
   "id": "c53c5bc3-3a17-4a76-a109-371be5896ae5",
   "metadata": {},
   "outputs": [
    {
     "name": "stdout",
     "output_type": "stream",
     "text": [
      "[[11 22 33]\n",
      " [10 20 30]]\n"
     ]
    }
   ],
   "source": [
    "#### In 2D -> Array\n",
    "\n",
    "ar=np.array([[11,22,33],\n",
    "             [10,20,30]])\n",
    "print(ar)"
   ]
  },
  {
   "cell_type": "code",
   "execution_count": 22,
   "id": "8d980d50-9f93-45aa-a295-cafe0ddb8d80",
   "metadata": {},
   "outputs": [
    {
     "name": "stdout",
     "output_type": "stream",
     "text": [
      "10\n",
      "11\n",
      "[10 20 30]\n"
     ]
    }
   ],
   "source": [
    "print(np.min(ar))\n",
    "print(np.min(ar[0]))\n",
    "print(np.min(ar,axis=0))\n"
   ]
  },
  {
   "cell_type": "code",
   "execution_count": 21,
   "id": "42a0b846-3186-4653-836a-771d923f4da9",
   "metadata": {},
   "outputs": [
    {
     "name": "stdout",
     "output_type": "stream",
     "text": [
      "Column-wise minimum elements: [10 20 30]\n"
     ]
    }
   ],
   "source": [
    "print (\"Column-wise minimum elements:\",ar.min(axis = 0))"
   ]
  },
  {
   "cell_type": "code",
   "execution_count": 23,
   "id": "dff21869-156b-4325-950b-9168ec1d5332",
   "metadata": {},
   "outputs": [
    {
     "name": "stdout",
     "output_type": "stream",
     "text": [
      "Row-wise minimum elements: [11 10]\n"
     ]
    }
   ],
   "source": [
    "print (\"Row-wise minimum elements:\",ar.min(axis = 1))"
   ]
  },
  {
   "cell_type": "code",
   "execution_count": 26,
   "id": "f39f42c6-a829-4e25-9e5d-3fd7d1477993",
   "metadata": {},
   "outputs": [
    {
     "name": "stdout",
     "output_type": "stream",
     "text": [
      "Max value -->  33\n",
      "Max values Column-wise -->:  [11 22 33]\n",
      "Max values Row-wise -->:  [33 30]\n"
     ]
    }
   ],
   "source": [
    "print(\"Max value --> \",ar.max())\n",
    "print(\"Max values Column-wise -->: \",ar.max(axis=0))\n",
    "print(\"Max values Row-wise -->: \",ar.max(axis=1))"
   ]
  },
  {
   "cell_type": "code",
   "execution_count": 29,
   "id": "cee5a475-d7b9-41f4-849a-e7e2af297058",
   "metadata": {},
   "outputs": [
    {
     "name": "stdout",
     "output_type": "stream",
     "text": [
      "Sum -->  126\n",
      "Sum row1-->  66\n",
      "Sum row1-->  60\n"
     ]
    }
   ],
   "source": [
    "print(\"Sum --> \",ar.sum())\n",
    "print(\"Sum row1--> \",ar[0].sum())\n",
    "print(\"Sum row1--> \",ar[1].sum())"
   ]
  },
  {
   "cell_type": "code",
   "execution_count": 32,
   "id": "f2c30e44-a34a-417d-8e07-f163ec6af0da",
   "metadata": {},
   "outputs": [
    {
     "name": "stdout",
     "output_type": "stream",
     "text": [
      "[[11 22 33]\n",
      " [10 20 30]]\n",
      "-------------\n",
      "Cumulative sum along each row:\n",
      " [[11 33 66]\n",
      " [10 30 60]]\n"
     ]
    }
   ],
   "source": [
    "# axis 0 --> col\n",
    "# axis 1 -->row\n",
    "# cumulative sum along each row\n",
    "print(ar)\n",
    "print('-------------')\n",
    "print (\"Cumulative sum along each row:\\n\", ar.cumsum(axis = 1))\n",
    "\n",
    "#0 --> 11  22  33\n",
    " 11  11+22   11+22+33\n",
    "\n",
    "#1 --> 10 20 30\n",
    " 10   10+20   10+20+30"
   ]
  },
  {
   "cell_type": "code",
   "execution_count": 34,
   "id": "fdcb2db9-46d9-4cbe-af74-7d643b3d07e9",
   "metadata": {},
   "outputs": [
    {
     "name": "stdout",
     "output_type": "stream",
     "text": [
      "[[11 22 33]\n",
      " [10 20 30]]\n",
      "-------------------\n",
      "Cumulative sum along each col:\n",
      " [[11 22 33]\n",
      " [21 42 63]]\n"
     ]
    }
   ],
   "source": [
    "print(ar)\n",
    "print('-------------------')\n",
    "print (\"Cumulative sum along each col:\\n\", ar.cumsum(axis = 0))\n",
    "# col1  11 10\n",
    "   11  11+10\n",
    "#col2   22 20\n",
    "    22   22+20\n",
    "\n",
    "#col3  33 30\n",
    "    33   33+30"
   ]
  },
  {
   "cell_type": "code",
   "execution_count": null,
   "id": "bda5bcc7-7e81-40b2-a51c-48175239a951",
   "metadata": {},
   "outputs": [],
   "source": [
    "ar= [[10,11],\n",
    "     [20,22],\n",
    "     [30,33],\n",
    "     [40,44]]\n",
    "\n",
    "# 1. find shape \n",
    "# 2. find dimension\n",
    "# 3. find type of element\n",
    "# 4. find size of array\n",
    "# 5. find minimum element\n",
    "# 6. find max element\n",
    "# 7. find minimum element along row and col\n",
    "# 8. find minimum element in row 3rd\n",
    "# 9. find max element along row and col\n",
    "# 8. find max element in col 2nd\n",
    "# 9. find sum of all element\n",
    "# 10. find cumilative sum of  of all \n",
    "\n"
   ]
  }
 ],
 "metadata": {
  "kernelspec": {
   "display_name": "Python 3 (ipykernel)",
   "language": "python",
   "name": "python3"
  },
  "language_info": {
   "codemirror_mode": {
    "name": "ipython",
    "version": 3
   },
   "file_extension": ".py",
   "mimetype": "text/x-python",
   "name": "python",
   "nbconvert_exporter": "python",
   "pygments_lexer": "ipython3",
   "version": "3.13.2"
  }
 },
 "nbformat": 4,
 "nbformat_minor": 5
}
