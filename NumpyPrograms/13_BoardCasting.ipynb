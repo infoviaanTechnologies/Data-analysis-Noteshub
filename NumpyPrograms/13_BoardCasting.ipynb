{
 "cells": [
  {
   "cell_type": "markdown",
   "id": "935a2c8c-d04f-4846-aae0-21c2761f5b77",
   "metadata": {},
   "source": [
    "#### Boardcastiong"
   ]
  },
  {
   "cell_type": "code",
   "execution_count": 6,
   "id": "c30df7ce-7e83-48c7-b73a-c9f2064186ef",
   "metadata": {},
   "outputs": [],
   "source": [
    "import numpy as np"
   ]
  },
  {
   "cell_type": "code",
   "execution_count": 21,
   "id": "33e1d76d-5116-4d24-9dcd-ce51e8a755fa",
   "metadata": {},
   "outputs": [
    {
     "name": "stdout",
     "output_type": "stream",
     "text": [
      "[[ 1  2  3  4  5]\n",
      " [11 22 33 44 55]]\n",
      "-------------------\n",
      "(2, 5)\n"
     ]
    }
   ],
   "source": [
    "ar1=np.array([[1,2,3,4,5],\n",
    "             [11,22,33,44,55]])\n",
    "print(ar1)\n",
    "print('-------------------')\n",
    "print(ar1.shape)"
   ]
  },
  {
   "cell_type": "code",
   "execution_count": 22,
   "id": "599a9f68-03e2-449e-89a6-d6a5a438f687",
   "metadata": {},
   "outputs": [
    {
     "name": "stdout",
     "output_type": "stream",
     "text": [
      "[[11 12 13 14 15]\n",
      " [21 32 43 54 65]]\n"
     ]
    }
   ],
   "source": [
    "print(ar1+10)"
   ]
  },
  {
   "cell_type": "code",
   "execution_count": 23,
   "id": "61b781de-d5b5-4f19-84cc-ad0d9a64cf35",
   "metadata": {},
   "outputs": [
    {
     "ename": "ValueError",
     "evalue": "operands could not be broadcast together with shapes (2,5) (2,) ",
     "output_type": "error",
     "traceback": [
      "\u001b[31m---------------------------------------------------------------------------\u001b[39m",
      "\u001b[31mValueError\u001b[39m                                Traceback (most recent call last)",
      "\u001b[36mCell\u001b[39m\u001b[36m \u001b[39m\u001b[32mIn[23]\u001b[39m\u001b[32m, line 2\u001b[39m\n\u001b[32m      1\u001b[39m ar2=np.array([\u001b[32m10\u001b[39m,\u001b[32m20\u001b[39m])   \u001b[38;5;66;03m#-->error      #shape (5,)\u001b[39;00m\n\u001b[32m----> \u001b[39m\u001b[32m2\u001b[39m \u001b[38;5;28mprint\u001b[39m(\u001b[43mar1\u001b[49m\u001b[43m+\u001b[49m\u001b[43mar2\u001b[49m)             \u001b[38;5;66;03m#[10 10 10 10 10]\u001b[39;00m\n\u001b[32m      3\u001b[39m \u001b[38;5;28mprint\u001b[39m(ar2.shape)\n",
      "\u001b[31mValueError\u001b[39m: operands could not be broadcast together with shapes (2,5) (2,) "
     ]
    }
   ],
   "source": [
    "ar2=np.array([10,20])   #-->error      #shape (5,)\n",
    "print(ar1+ar2)             #[10 10 10 10 10]\n",
    "print(ar2.shape)"
   ]
  },
  {
   "cell_type": "code",
   "execution_count": 24,
   "id": "f543100c-2d82-4474-8b7b-dbcd5e08ace4",
   "metadata": {},
   "outputs": [
    {
     "name": "stdout",
     "output_type": "stream",
     "text": [
      "[10 20 30 40 50]\n",
      "(5,)\n"
     ]
    }
   ],
   "source": [
    "ar3=np.array([10,20,30,40,50])\n",
    "print(ar3)\n",
    "print(ar3.shape)"
   ]
  },
  {
   "cell_type": "code",
   "execution_count": 25,
   "id": "676b0520-cad8-4572-a792-aa4568e917f5",
   "metadata": {},
   "outputs": [
    {
     "name": "stdout",
     "output_type": "stream",
     "text": [
      "[[ 11  22  33  44  55]\n",
      " [ 21  42  63  84 105]]\n"
     ]
    }
   ],
   "source": [
    "print(ar1+ar3)"
   ]
  },
  {
   "cell_type": "code",
   "execution_count": 32,
   "id": "cf030243-671a-449f-8ccf-913b0bd0550c",
   "metadata": {},
   "outputs": [
    {
     "name": "stdout",
     "output_type": "stream",
     "text": [
      "[1 2 3]\n",
      "---------------\n",
      "(3,)\n"
     ]
    }
   ],
   "source": [
    "a1=np.array([1,2,3])\n",
    "print(a1)\n",
    "print('---------------')\n",
    "print(a1.shape)"
   ]
  },
  {
   "cell_type": "code",
   "execution_count": 31,
   "id": "b5bc4a97-8bb2-4beb-8bfa-17f123daeafb",
   "metadata": {},
   "outputs": [
    {
     "name": "stdout",
     "output_type": "stream",
     "text": [
      "[[10]\n",
      " [20]\n",
      " [30]]\n",
      "-----------\n",
      "(3, 1)\n"
     ]
    }
   ],
   "source": [
    "a2=np.array([\n",
    "             [10],\n",
    "             [20],\n",
    "             [30]\n",
    "            ])\n",
    "print(a2)\n",
    "print('-----------')\n",
    "print(a2.shape)"
   ]
  },
  {
   "cell_type": "code",
   "execution_count": 34,
   "id": "92910716-4f42-4e33-a307-13e8db820985",
   "metadata": {},
   "outputs": [
    {
     "name": "stdout",
     "output_type": "stream",
     "text": [
      "[[11 12 13]\n",
      " [21 22 23]\n",
      " [31 32 33]]\n",
      "(3, 3)\n"
     ]
    }
   ],
   "source": [
    "#print(a1+a2)\n",
    "x=a1+a2\n",
    "print(x)\n",
    "print(x.shape)"
   ]
  },
  {
   "cell_type": "code",
   "execution_count": null,
   "id": "6d3d39c2-e0cf-4c04-b7a9-53fbc7fb662e",
   "metadata": {},
   "outputs": [],
   "source": [
    "#BoardCastable\n",
    "# n-->row\n",
    "# m--> col\n",
    "\n",
    "#(n,m) --> (n,m)\n",
    "# (n,m) --> (n,1)\n",
    "# (n,m) --> (m,)"
   ]
  },
  {
   "cell_type": "code",
   "execution_count": 38,
   "id": "f70e07e1-df2a-4f9a-be1b-157e1b62c637",
   "metadata": {},
   "outputs": [
    {
     "name": "stdout",
     "output_type": "stream",
     "text": [
      "[[11 22]\n",
      " [33 44]]\n"
     ]
    }
   ],
   "source": [
    "#(n,m) --> (n,m)\n",
    "\n",
    "a1=np.array([[1,2],    #shape --> (2,2)\n",
    "             [3,4]])\n",
    "\n",
    "a2=np.array([[10,20],   #shape --> (2,2)\n",
    "            [30,40]])\n",
    "print(a1+a2)"
   ]
  },
  {
   "cell_type": "code",
   "execution_count": 39,
   "id": "83340774-0b5f-4a77-a2d3-2d55ce646e6a",
   "metadata": {},
   "outputs": [
    {
     "name": "stdout",
     "output_type": "stream",
     "text": [
      "[[11 12]\n",
      " [23 24]]\n"
     ]
    }
   ],
   "source": [
    "# (n,m) --> (n,1)\n",
    "\n",
    "a1=np.array([[1,2],    #shape --> (2,2)\n",
    "             [3,4]])\n",
    "\n",
    "a2=np.array([[10],    #shape -->(2,1)\n",
    "             [20]])\n",
    "\n",
    "print(a1+a2)"
   ]
  },
  {
   "cell_type": "code",
   "execution_count": 40,
   "id": "b5c6c406-bbd2-460a-bf18-193651233357",
   "metadata": {},
   "outputs": [
    {
     "name": "stdout",
     "output_type": "stream",
     "text": [
      "[[11 22]\n",
      " [13 24]]\n"
     ]
    }
   ],
   "source": [
    "# (n,m) --> (m,)\n",
    "\n",
    "a1=np.array([[1,2],    #shape --> (2,2)\n",
    "             [3,4]])\n",
    "\n",
    "a2=np.array([10,20])  #shape(2,)\n",
    "print(a1+a2)"
   ]
  },
  {
   "cell_type": "code",
   "execution_count": 42,
   "id": "f851efb3-cf77-43d3-afa1-e0c176719608",
   "metadata": {},
   "outputs": [
    {
     "name": "stdout",
     "output_type": "stream",
     "text": [
      "[1 2 3]\n",
      "[4 5]\n",
      "(3,)\n"
     ]
    }
   ],
   "source": [
    "import numpy as np \n",
    "\n",
    "v = np.array([1, 2, 3]) \n",
    "w = np.array([4, 5])\t \n",
    "\n",
    "print(v)\n",
    "print(w)\n",
    "\n",
    "print(v.shape)\n"
   ]
  },
  {
   "cell_type": "code",
   "execution_count": 43,
   "id": "5312d12c-2a4c-47a1-8e29-d24cb94fe84a",
   "metadata": {},
   "outputs": [
    {
     "name": "stdout",
     "output_type": "stream",
     "text": [
      "[[1]\n",
      " [2]\n",
      " [3]]\n"
     ]
    }
   ],
   "source": [
    "re=np.reshape(v, (3, 1))\n",
    "print(re)"
   ]
  },
  {
   "cell_type": "code",
   "execution_count": 44,
   "id": "75e16e20-4924-426d-bfda-b8b7b15b1289",
   "metadata": {},
   "outputs": [
    {
     "name": "stdout",
     "output_type": "stream",
     "text": [
      "[[ 4  5]\n",
      " [ 8 10]\n",
      " [12 15]]\n"
     ]
    }
   ],
   "source": [
    "# Outer product of vectors v and w \n",
    "print(np.reshape(v, (3, 1)) * w) \n",
    "\n"
   ]
  },
  {
   "cell_type": "code",
   "execution_count": 45,
   "id": "3c261a4f-8a90-42d4-bd41-9b88b9561e9c",
   "metadata": {},
   "outputs": [
    {
     "name": "stdout",
     "output_type": "stream",
     "text": [
      "[[2 4 6]\n",
      " [5 7 9]]\n"
     ]
    }
   ],
   "source": [
    "x = np.array([[1, 2, 3], \n",
    "              [4, 5, 6]]) \n",
    "\n",
    "# # Broadcasting vector v to matrix x \n",
    "print(x + v) \n"
   ]
  },
  {
   "cell_type": "code",
   "execution_count": null,
   "id": "0c85b477-2658-41b8-a13b-986529bd7dee",
   "metadata": {},
   "outputs": [],
   "source": []
  }
 ],
 "metadata": {
  "kernelspec": {
   "display_name": "Python 3 (ipykernel)",
   "language": "python",
   "name": "python3"
  },
  "language_info": {
   "codemirror_mode": {
    "name": "ipython",
    "version": 3
   },
   "file_extension": ".py",
   "mimetype": "text/x-python",
   "name": "python",
   "nbconvert_exporter": "python",
   "pygments_lexer": "ipython3",
   "version": "3.13.2"
  }
 },
 "nbformat": 4,
 "nbformat_minor": 5
}
