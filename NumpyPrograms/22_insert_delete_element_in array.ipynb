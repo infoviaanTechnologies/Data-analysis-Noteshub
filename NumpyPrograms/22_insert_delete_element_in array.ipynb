{
 "cells": [
  {
   "cell_type": "markdown",
   "id": "0c3fbefa-7068-4aa9-9691-428c7b82d117",
   "metadata": {},
   "source": [
    "#### np.insert()"
   ]
  },
  {
   "cell_type": "code",
   "execution_count": 2,
   "id": "dabeab3f-9560-4899-9d84-a9517b86cc34",
   "metadata": {},
   "outputs": [],
   "source": [
    "import numpy as np"
   ]
  },
  {
   "cell_type": "code",
   "execution_count": 3,
   "id": "38fb0a58-a2e9-4f33-bebe-15c03622c4c2",
   "metadata": {},
   "outputs": [
    {
     "name": "stdout",
     "output_type": "stream",
     "text": [
      "[10 20 30 40]\n"
     ]
    }
   ],
   "source": [
    "ar=np.array([10,20,30,40])\n",
    "print(ar)"
   ]
  },
  {
   "cell_type": "code",
   "execution_count": 5,
   "id": "d48f6c4f-63c1-4f60-b9d1-db4a1ef45095",
   "metadata": {},
   "outputs": [
    {
     "name": "stdout",
     "output_type": "stream",
     "text": [
      "[10 20 30 40]\n",
      "[10 20 11 22 30 40]\n"
     ]
    }
   ],
   "source": [
    "# index 2 insert [11,22]\n",
    "new_ar=np.insert(ar,2,[11,22])\n",
    "print(ar)\n",
    "print(new_ar)"
   ]
  },
  {
   "cell_type": "code",
   "execution_count": 6,
   "id": "9453c8f8-3424-4a57-bf2c-83dddfc290c8",
   "metadata": {},
   "outputs": [
    {
     "name": "stdout",
     "output_type": "stream",
     "text": [
      "[[1 2]\n",
      " [3 4]]\n"
     ]
    }
   ],
   "source": [
    "ar=np.array([[1,2],\n",
    "             [3,4]])\n",
    "print(ar)"
   ]
  },
  {
   "cell_type": "code",
   "execution_count": 11,
   "id": "fb8b4baf-5639-4748-9989-7c3ec6eb2b40",
   "metadata": {},
   "outputs": [
    {
     "name": "stdout",
     "output_type": "stream",
     "text": [
      "[[ 1 10  2]\n",
      " [ 3 20  4]]\n"
     ]
    }
   ],
   "source": [
    "#insert elements along the rows\n",
    "new_ar=np.insert(ar,1,[10,20],axis=1)\n",
    "print(new_ar)"
   ]
  },
  {
   "cell_type": "code",
   "execution_count": 13,
   "id": "b6cceb3b-002f-4d93-b94c-76af9223847f",
   "metadata": {},
   "outputs": [
    {
     "name": "stdout",
     "output_type": "stream",
     "text": [
      "[[11 22]\n",
      " [ 1  2]\n",
      " [ 3  4]]\n"
     ]
    }
   ],
   "source": [
    "#insert elemnts along the rows\n",
    "new_ar2=np.insert(ar,0,[11,22],axis=0)\n",
    "print(new_ar2)"
   ]
  },
  {
   "cell_type": "code",
   "execution_count": 16,
   "id": "4808bc2b-ef72-4b19-9d22-25d204802d7f",
   "metadata": {},
   "outputs": [
    {
     "name": "stdout",
     "output_type": "stream",
     "text": [
      "[ 5  0 10 15  0 20 25]\n"
     ]
    }
   ],
   "source": [
    "#. Inserting using a boolean mask\n",
    "arr = np.array([5, 10, 15, 20, 25])\n",
    "\n",
    "# Insert 0 before all even numbers\n",
    "mask = arr % 2 == 0        #even condition\n",
    "new_arr = np.insert(arr,np.flatnonzero(mask),0)\n",
    "print(new_arr)  \n"
   ]
  },
  {
   "cell_type": "code",
   "execution_count": 18,
   "id": "5f11bfc9-5c96-4568-afe3-bcebaba376ea",
   "metadata": {},
   "outputs": [
    {
     "name": "stdout",
     "output_type": "stream",
     "text": [
      "[10 50 60]\n"
     ]
    }
   ],
   "source": [
    "#1. Deleting a range of elements:\n",
    "arr = np.array([10, 20, 30, 40, 50, 60])\n",
    "\n",
    "# Delete elements from index 1 to 3 (exclusive)\n",
    "new_arr = np.delete(arr, slice(1, 4))\n",
    "print(new_arr)  # Output: [1 5 6]\n",
    "\n"
   ]
  },
  {
   "cell_type": "code",
   "execution_count": 19,
   "id": "0e70b38b-c77e-49eb-a36e-7e320784f7d3",
   "metadata": {},
   "outputs": [
    {
     "name": "stdout",
     "output_type": "stream",
     "text": [
      "[10  5  2]\n"
     ]
    }
   ],
   "source": [
    "#2. Deleting elements based on a condition:\n",
    "arr = np.array([10, 5, 15, 20, 2, 25])\n",
    "\n",
    "# Delete elements greater than 10\n",
    "new_arr = np.delete(arr, np.where(arr > 10))\n",
    "print(new_arr)  # Output: [5 2 25]\n"
   ]
  },
  {
   "cell_type": "code",
   "execution_count": 20,
   "id": "15fea7ee-4283-4841-b52d-4901a4071e9f",
   "metadata": {},
   "outputs": [
    {
     "name": "stdout",
     "output_type": "stream",
     "text": [
      "[[1 2 3]\n",
      " [7 8 9]]\n"
     ]
    }
   ],
   "source": [
    "#3. Deleting along a specific axis (2D array):\n",
    "\n",
    "\n",
    "arr = np.array([[1, 2, 3],\n",
    "                [4, 5, 6], \n",
    "                [7, 8, 9]])\n",
    "\n",
    "# Delete the second row\n",
    "new_arr = np.delete(arr, 1, axis=0)\n",
    "print(new_arr)  \n"
   ]
  },
  {
   "cell_type": "code",
   "execution_count": 21,
   "id": "ae2b95bb-353e-421d-8819-6eaaf42a9bbd",
   "metadata": {},
   "outputs": [
    {
     "name": "stdout",
     "output_type": "stream",
     "text": [
      "[[1 2]\n",
      " [4 5]\n",
      " [7 8]]\n"
     ]
    }
   ],
   "source": [
    "# Delete the 3rd col\n",
    "new_arr = np.delete(arr, 2, axis=1)\n",
    "print(new_arr)  \n"
   ]
  },
  {
   "cell_type": "code",
   "execution_count": null,
   "id": "2649036f-7643-4244-bdc4-a31578380a11",
   "metadata": {},
   "outputs": [],
   "source": []
  }
 ],
 "metadata": {
  "kernelspec": {
   "display_name": "Python 3 (ipykernel)",
   "language": "python",
   "name": "python3"
  },
  "language_info": {
   "codemirror_mode": {
    "name": "ipython",
    "version": 3
   },
   "file_extension": ".py",
   "mimetype": "text/x-python",
   "name": "python",
   "nbconvert_exporter": "python",
   "pygments_lexer": "ipython3",
   "version": "3.13.2"
  }
 },
 "nbformat": 4,
 "nbformat_minor": 5
}
