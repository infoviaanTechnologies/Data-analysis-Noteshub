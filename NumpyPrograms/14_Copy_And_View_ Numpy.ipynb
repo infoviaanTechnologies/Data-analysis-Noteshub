{
 "cells": [
  {
   "cell_type": "code",
   "execution_count": 1,
   "id": "ad2e7167-ebd6-4d9d-ab72-e8b16b54b8e8",
   "metadata": {},
   "outputs": [],
   "source": [
    "import numpy as np"
   ]
  },
  {
   "cell_type": "code",
   "execution_count": 2,
   "id": "ccda3c29-0e5d-4ebe-be69-8fd52547acd4",
   "metadata": {},
   "outputs": [
    {
     "name": "stdout",
     "output_type": "stream",
     "text": [
      "[ 2  4  6  8 10]\n",
      "[ 2  4  6  8 10]\n"
     ]
    }
   ],
   "source": [
    "# Making a view and changing the original array\n",
    "# # creating array \n",
    "\n",
    "ar = np.array([2, 4, 6, 8, 10]) \n",
    "# creating view \n",
    "v = ar.view() \n",
    "\n",
    "print(ar)\n",
    "print(v)"
   ]
  },
  {
   "cell_type": "code",
   "execution_count": 4,
   "id": "50abb64e-8864-4d30-ae17-1048870f7321",
   "metadata": {},
   "outputs": [
    {
     "name": "stdout",
     "output_type": "stream",
     "text": [
      "id of arr 2426433123984\n",
      "id of v 2426638517904\n"
     ]
    }
   ],
   "source": [
    "# both arr and v have different id \n",
    "print(\"id of arr\", id(ar)) \n",
    "print(\"id of v\", id(v)) \n"
   ]
  },
  {
   "cell_type": "code",
   "execution_count": 5,
   "id": "4bed4bc4-7d8c-4fdd-98f6-f0c4749eb44e",
   "metadata": {},
   "outputs": [
    {
     "name": "stdout",
     "output_type": "stream",
     "text": [
      "original array-  [12  4  6  8 10]\n",
      "view-  [12  4  6  8 10]\n"
     ]
    }
   ],
   "source": [
    "# changing original array \n",
    "# will effect view \n",
    "ar[0] = 12\n",
    "\n",
    "# printing array and view \n",
    "print(\"original array- \", ar) \n",
    "print(\"view- \", v)\n"
   ]
  },
  {
   "cell_type": "code",
   "execution_count": 6,
   "id": "924f9b70-5329-438b-a02a-3af41cb3b98d",
   "metadata": {},
   "outputs": [
    {
     "name": "stdout",
     "output_type": "stream",
     "text": [
      "original array-  [12  4 56  8 10]\n",
      "view-  [12  4 56  8 10]\n"
     ]
    }
   ],
   "source": [
    "v[2]=56\n",
    "print(\"original array- \", ar) \n",
    "print(\"view- \", v)\n"
   ]
  },
  {
   "cell_type": "markdown",
   "id": "c38794db-3fc6-47dc-aea1-2dfc936f6be3",
   "metadata": {},
   "source": [
    "#### copy array"
   ]
  },
  {
   "cell_type": "code",
   "execution_count": 9,
   "id": "6b68156e-e13b-4dcf-8833-84f41398770e",
   "metadata": {},
   "outputs": [
    {
     "name": "stdout",
     "output_type": "stream",
     "text": [
      "[11 22 33 44]\n",
      "[11 22 33 44]\n"
     ]
    }
   ],
   "source": [
    "#original array\n",
    "ar=np.array([11,22,33,44])\n",
    "print(ar)\n",
    "\n",
    "#copy array\n",
    "cp=ar.copy()\n",
    "print(cp)"
   ]
  },
  {
   "cell_type": "code",
   "execution_count": 11,
   "id": "984410b7-afba-4ceb-a61f-5ced05978e9a",
   "metadata": {},
   "outputs": [
    {
     "name": "stdout",
     "output_type": "stream",
     "text": [
      "Original array id->  2426639560176\n",
      "Copy array id ->  2426639558448\n"
     ]
    }
   ],
   "source": [
    "print('Original array id-> ',id(ar))\n",
    "print('Copy array id -> ',id(cp))"
   ]
  },
  {
   "cell_type": "code",
   "execution_count": 14,
   "id": "17dad7dd-b804-43bd-baf0-1e84b503ff99",
   "metadata": {},
   "outputs": [
    {
     "name": "stdout",
     "output_type": "stream",
     "text": [
      "Original-->  [99 22 33 44]\n",
      "Copy Array-->  [11 22 33 44]\n"
     ]
    }
   ],
   "source": [
    "ar[0]=99\n",
    "print('Original--> ',ar)\n",
    "print('Copy Array--> ',cp)"
   ]
  },
  {
   "cell_type": "code",
   "execution_count": 15,
   "id": "6971efda-a255-4438-ad71-cf791fc9fb0f",
   "metadata": {},
   "outputs": [
    {
     "name": "stdout",
     "output_type": "stream",
     "text": [
      "Original-->  [99 22 33 44]\n",
      "Copy Array-->  [11 22 88 44]\n"
     ]
    }
   ],
   "source": [
    "cp[2]=88\n",
    "print('Original--> ',ar)\n",
    "print('Copy Array--> ',cp)"
   ]
  },
  {
   "cell_type": "markdown",
   "id": "185864de-7683-4962-89c0-d98974eea01e",
   "metadata": {},
   "source": [
    "#### Swiping Array"
   ]
  },
  {
   "cell_type": "code",
   "execution_count": 16,
   "id": "7d63c845-ceef-47e9-bb95-4b1644a6c8b4",
   "metadata": {},
   "outputs": [
    {
     "name": "stdout",
     "output_type": "stream",
     "text": [
      "Original array:\n",
      "[ 0  1  2  3  4  5  6  7  8  9 10 11]\n"
     ]
    }
   ],
   "source": [
    "#Swapping the column of an array. \n",
    "\n",
    "# creating array with shape(4,3)\n",
    "ar = np.arange(12)\n",
    "print(\"Original array:\")\n",
    "print(ar)\n",
    "\n"
   ]
  },
  {
   "cell_type": "code",
   "execution_count": 17,
   "id": "a25a4d1e-a38f-4303-a59b-58b95c90df29",
   "metadata": {},
   "outputs": [
    {
     "name": "stdout",
     "output_type": "stream",
     "text": [
      "Original array:\n",
      "[[ 0  1  2]\n",
      " [ 3  4  5]\n",
      " [ 6  7  8]\n",
      " [ 9 10 11]]\n"
     ]
    }
   ],
   "source": [
    "ar = np.arange(12).reshape(4,3)\n",
    "print(\"Original array:\")\n",
    "print(ar)\n"
   ]
  },
  {
   "cell_type": "code",
   "execution_count": 22,
   "id": "f6c897a2-7329-464e-8dea-17a5b374fbb1",
   "metadata": {},
   "outputs": [
    {
     "name": "stdout",
     "output_type": "stream",
     "text": [
      "[[ 0  2]\n",
      " [ 3  5]\n",
      " [ 6  8]\n",
      " [ 9 11]]\n"
     ]
    }
   ],
   "source": [
    "#Swiping The array \n",
    "print(ar[:,[0,2]])"
   ]
  },
  {
   "cell_type": "code",
   "execution_count": 23,
   "id": "31ce38f0-1af8-40e4-a34c-da89df6ec7e0",
   "metadata": {},
   "outputs": [
    {
     "name": "stdout",
     "output_type": "stream",
     "text": [
      "After swiping \n",
      "[[ 2  1  0]\n",
      " [ 5  4  3]\n",
      " [ 8  7  6]\n",
      " [11 10  9]]\n"
     ]
    }
   ],
   "source": [
    "ar[:,[0,2]] = ar[:,[2,0]]\n",
    "print('After swiping ')\n",
    "print(ar)"
   ]
  },
  {
   "cell_type": "code",
   "execution_count": 24,
   "id": "f5f2cb87-73b2-4091-b92a-6d284cfa5d16",
   "metadata": {},
   "outputs": [
    {
     "name": "stdout",
     "output_type": "stream",
     "text": [
      "[[11 22]\n",
      " [23 24]\n",
      " [10 20]]\n"
     ]
    }
   ],
   "source": [
    "#swiping in row\n",
    "ar=np.array([[11,22],\n",
    "             [23,24],\n",
    "             [10,20]])\n",
    "print(ar)"
   ]
  },
  {
   "cell_type": "code",
   "execution_count": 25,
   "id": "a929a97b-6d0d-41b1-9ac2-6e3c0dbd3794",
   "metadata": {},
   "outputs": [
    {
     "name": "stdout",
     "output_type": "stream",
     "text": [
      "[[11 22]\n",
      " [10 20]]\n"
     ]
    }
   ],
   "source": [
    "print(ar[[0,2],])"
   ]
  },
  {
   "cell_type": "code",
   "execution_count": 26,
   "id": "84236ff3-4299-43a1-8a73-923ddce6c01a",
   "metadata": {},
   "outputs": [
    {
     "name": "stdout",
     "output_type": "stream",
     "text": [
      "Array after swiping\n",
      "[[10 20]\n",
      " [23 24]\n",
      " [11 22]]\n"
     ]
    }
   ],
   "source": [
    "ar[[0,2],] =ar[[2,0],]\n",
    "print('Array after swiping')\n",
    "print(ar)"
   ]
  },
  {
   "cell_type": "code",
   "execution_count": 29,
   "id": "3cb9f01e-fdbc-4787-badb-cd0dd7a8784d",
   "metadata": {},
   "outputs": [
    {
     "name": "stdout",
     "output_type": "stream",
     "text": [
      "[[ 0  1  2  3  4]\n",
      " [ 5  6  7  8  9]\n",
      " [10 11 12 13 14]\n",
      " [15 16 17 18 19]\n",
      " [20 21 22 23 24]]\n",
      "(5, 5)\n"
     ]
    }
   ],
   "source": [
    "import numpy as np\n",
    "\n",
    "arr = np.arange(5*5).reshape(5, 5)\n",
    "print(arr)\n",
    "print(arr.shape)        #2d array\n",
    "\n"
   ]
  },
  {
   "cell_type": "code",
   "execution_count": 32,
   "id": "247e2049-fadc-455d-8159-b0d1eb1f46bb",
   "metadata": {},
   "outputs": [
    {
     "name": "stdout",
     "output_type": "stream",
     "text": [
      "(1, 5, 5)\n"
     ]
    }
   ],
   "source": [
    "# promoting 2D array to a 3D array\n",
    "# arr[None, ..., None, None]\n",
    "arr_3D = arr[np.newaxis]\n",
    "\n",
    "print(arr_3D.shape)\n"
   ]
  },
  {
   "cell_type": "code",
   "execution_count": 33,
   "id": "d5341949-4dec-4af0-80a7-59d2bb3dd888",
   "metadata": {},
   "outputs": [
    {
     "name": "stdout",
     "output_type": "stream",
     "text": [
      "(1, 1, 5, 5)\n"
     ]
    }
   ],
   "source": [
    "# promoting 2D array to a 4D array\n",
    "# arr[None, ..., None, None]\n",
    "arr_4D = arr[np.newaxis,np.newaxis]\n",
    "\n",
    "print(arr_4D.shape)\n"
   ]
  },
  {
   "cell_type": "code",
   "execution_count": 34,
   "id": "1eea1f2a-5519-44ee-83e5-6461f2654ec7",
   "metadata": {},
   "outputs": [
    {
     "name": "stdout",
     "output_type": "stream",
     "text": [
      "(1, 1, 1, 5, 5)\n"
     ]
    }
   ],
   "source": [
    "# promoting 2D array to a 5D array\n",
    "# arr[None, ..., None, None]\n",
    "arr_5D = arr[np.newaxis,np.newaxis,np.newaxis]\n",
    "\n",
    "print(arr_5D.shape)\n"
   ]
  },
  {
   "cell_type": "code",
   "execution_count": null,
   "id": "2489e47f-7bfc-4405-824a-b3a1999876ac",
   "metadata": {},
   "outputs": [],
   "source": []
  }
 ],
 "metadata": {
  "kernelspec": {
   "display_name": "Python 3 (ipykernel)",
   "language": "python",
   "name": "python3"
  },
  "language_info": {
   "codemirror_mode": {
    "name": "ipython",
    "version": 3
   },
   "file_extension": ".py",
   "mimetype": "text/x-python",
   "name": "python",
   "nbconvert_exporter": "python",
   "pygments_lexer": "ipython3",
   "version": "3.13.2"
  }
 },
 "nbformat": 4,
 "nbformat_minor": 5
}
