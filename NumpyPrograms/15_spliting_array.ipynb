{
 "cells": [
  {
   "cell_type": "code",
   "execution_count": 1,
   "id": "d2f6e4a9-938d-4667-bfb0-85bd7c2a5154",
   "metadata": {},
   "outputs": [],
   "source": [
    "import numpy as np"
   ]
  },
  {
   "cell_type": "code",
   "execution_count": 17,
   "id": "6a7e3c09-eb96-4f02-91fb-0bf58a636184",
   "metadata": {},
   "outputs": [
    {
     "name": "stdout",
     "output_type": "stream",
     "text": [
      "[1 2 3 4 5 6 7]\n"
     ]
    }
   ],
   "source": [
    "ar=np.array([1,2,3,4,5,6,7])\n",
    "print(ar)"
   ]
  },
  {
   "cell_type": "code",
   "execution_count": 18,
   "id": "d12b9cb6-8323-4a0b-a46c-370935b99de1",
   "metadata": {},
   "outputs": [
    {
     "name": "stdout",
     "output_type": "stream",
     "text": [
      "[array([1, 2, 3]), array([4, 5]), array([6, 7])]\n"
     ]
    }
   ],
   "source": [
    "#unequal spling\n",
    "x=np.array_split(ar,3)\n",
    "print(x)"
   ]
  },
  {
   "cell_type": "code",
   "execution_count": 9,
   "id": "0cc6b21c-88a9-41fa-b837-22530a49b746",
   "metadata": {},
   "outputs": [
    {
     "name": "stdout",
     "output_type": "stream",
     "text": [
      "[1 2]\n",
      "[3 4]\n",
      "[5 6]\n"
     ]
    }
   ],
   "source": [
    "print(x[0])\n",
    "print(x[1])\n",
    "print(x[2])"
   ]
  },
  {
   "cell_type": "code",
   "execution_count": 20,
   "id": "b1d47d6d-9478-4d47-bc01-4dff4826b49c",
   "metadata": {},
   "outputs": [
    {
     "name": "stdout",
     "output_type": "stream",
     "text": [
      "[10 20 30 40 50 60 40 50]\n"
     ]
    }
   ],
   "source": [
    "#equal spliting\n",
    "ar=np.array([10,20,30,40,50,60,40,50])\n",
    "print(ar)"
   ]
  },
  {
   "cell_type": "code",
   "execution_count": 21,
   "id": "35c81961-1d3e-4393-aaca-a0996baf961d",
   "metadata": {},
   "outputs": [
    {
     "name": "stdout",
     "output_type": "stream",
     "text": [
      "[array([10, 20]), array([30, 40]), array([50, 60]), array([40, 50])]\n"
     ]
    }
   ],
   "source": [
    "x=np.split(ar,4)\n",
    "print(x)"
   ]
  },
  {
   "cell_type": "code",
   "execution_count": 23,
   "id": "fb199cd2-ccf6-4f62-b1b8-354303f69243",
   "metadata": {},
   "outputs": [
    {
     "name": "stdout",
     "output_type": "stream",
     "text": [
      "2D Array:\n",
      "[[3 2 1]\n",
      " [8 9 7]\n",
      " [4 6 5]]\n"
     ]
    }
   ],
   "source": [
    "# Creating a 2D array\n",
    "array = np.array([[3, 2, 1], \n",
    "                  [8, 9, 7], \n",
    "                  [4, 6, 5]])\n",
    "\n",
    "print(\"2D Array:\")\n",
    "print(array)\n"
   ]
  },
  {
   "cell_type": "code",
   "execution_count": 26,
   "id": "5778b9e3-ea07-4d02-b517-8a2507bf7dc1",
   "metadata": {},
   "outputs": [
    {
     "name": "stdout",
     "output_type": "stream",
     "text": [
      "\n",
      "Result after numpy.split() along axis=1:\n",
      "[array([[3],\n",
      "       [8],\n",
      "       [4]]), array([[2],\n",
      "       [9],\n",
      "       [6]]), array([[1],\n",
      "       [7],\n",
      "       [5]])]\n"
     ]
    }
   ],
   "source": [
    "# Splitting the array into 3 equal parts along the second axis (axis=1)\n",
    "\n",
    "result = np.split(array,3,axis=1)\n",
    "\n",
    "print(\"\\nResult after numpy.split() along axis=1:\")\n",
    "print(result)\n"
   ]
  },
  {
   "cell_type": "code",
   "execution_count": 27,
   "id": "775e7e71-475a-43ba-87af-51f153efecb7",
   "metadata": {},
   "outputs": [
    {
     "name": "stdout",
     "output_type": "stream",
     "text": [
      "[[3]\n",
      " [8]\n",
      " [4]]\n"
     ]
    }
   ],
   "source": [
    "print(result[0])"
   ]
  },
  {
   "cell_type": "code",
   "execution_count": 28,
   "id": "51c7e49f-ea4a-460a-8465-5a37e4a8a993",
   "metadata": {},
   "outputs": [
    {
     "name": "stdout",
     "output_type": "stream",
     "text": [
      "[[2]\n",
      " [9]\n",
      " [6]]\n"
     ]
    }
   ],
   "source": [
    "print(result[1])"
   ]
  },
  {
   "cell_type": "code",
   "execution_count": 29,
   "id": "50529225-380c-42c4-9d2b-3e2f224354f5",
   "metadata": {},
   "outputs": [
    {
     "name": "stdout",
     "output_type": "stream",
     "text": [
      "[[1]\n",
      " [7]\n",
      " [5]]\n"
     ]
    }
   ],
   "source": [
    "print(result[2])"
   ]
  },
  {
   "cell_type": "code",
   "execution_count": 30,
   "id": "faf19be1-82dd-46f1-af84-ec6206023902",
   "metadata": {},
   "outputs": [
    {
     "name": "stdout",
     "output_type": "stream",
     "text": [
      "\n",
      "Result after numpy.split() along axis=0:\n",
      "[array([[3, 2, 1]]), array([[8, 9, 7]]), array([[4, 6, 5]])]\n"
     ]
    }
   ],
   "source": [
    "result = np.split(array,3,axis=0)\n",
    "\n",
    "print(\"\\nResult after numpy.split() along axis=0:\")\n",
    "print(result)\n"
   ]
  },
  {
   "cell_type": "code",
   "execution_count": null,
   "id": "02a12f7c-2529-4270-b88b-91bac9a3bc32",
   "metadata": {},
   "outputs": [],
   "source": []
  }
 ],
 "metadata": {
  "kernelspec": {
   "display_name": "Python 3 (ipykernel)",
   "language": "python",
   "name": "python3"
  },
  "language_info": {
   "codemirror_mode": {
    "name": "ipython",
    "version": 3
   },
   "file_extension": ".py",
   "mimetype": "text/x-python",
   "name": "python",
   "nbconvert_exporter": "python",
   "pygments_lexer": "ipython3",
   "version": "3.13.2"
  }
 },
 "nbformat": 4,
 "nbformat_minor": 5
}
