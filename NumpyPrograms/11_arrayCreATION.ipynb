{
 "cells": [
  {
   "cell_type": "code",
   "execution_count": 4,
   "id": "92166bfe-fe2c-4ae9-9915-a9d64bc8681b",
   "metadata": {},
   "outputs": [],
   "source": [
    "import numpy as np"
   ]
  },
  {
   "cell_type": "code",
   "execution_count": 5,
   "id": "b5f9c09a-bc9b-46fc-be62-d78003e2a505",
   "metadata": {},
   "outputs": [
    {
     "name": "stdout",
     "output_type": "stream",
     "text": [
      "<class 'list'>\n",
      "[[10 20 30]\n",
      " [11 22 33]]\n",
      "<class 'numpy.ndarray'>\n"
     ]
    }
   ],
   "source": [
    "li=[[10,20,30],\n",
    "    [11,22,33]]\n",
    "print(type(li))\n",
    "ar=np.asarray(li)\n",
    "print(ar)\n",
    "print(type(ar))"
   ]
  },
  {
   "cell_type": "code",
   "execution_count": 6,
   "id": "cb46efc5-d1ab-4ccb-9462-41a7dd0b98bb",
   "metadata": {},
   "outputs": [
    {
     "name": "stdout",
     "output_type": "stream",
     "text": [
      "[ 1  2  3  4  5  6  7  8  9 10]\n"
     ]
    }
   ],
   "source": [
    "ar=np.arange(1,11,1,dtype=int)\n",
    "print(ar)"
   ]
  },
  {
   "cell_type": "code",
   "execution_count": 7,
   "id": "94e43e38-3de6-44dd-8028-c81eaea97371",
   "metadata": {},
   "outputs": [
    {
     "name": "stdout",
     "output_type": "stream",
     "text": [
      "[ 1.  2.  3.  4.  5.  6.  7.  8.  9. 10.]\n"
     ]
    }
   ],
   "source": [
    "ar=np.arange(1,11,1,dtype=float)\n",
    "print(ar)"
   ]
  },
  {
   "cell_type": "code",
   "execution_count": 8,
   "id": "947f3426-fc47-402b-9e06-a057ce8c161d",
   "metadata": {},
   "outputs": [
    {
     "name": "stdout",
     "output_type": "stream",
     "text": [
      "[10  9  8  7  6  5  4  3  2  1]\n",
      "int64\n"
     ]
    }
   ],
   "source": [
    "ar=np.arange(10,0,-1,dtype='i8')\n",
    "print(ar)\n",
    "print(ar.dtype)"
   ]
  },
  {
   "cell_type": "code",
   "execution_count": 9,
   "id": "8e3c43b6-435b-480a-a350-408abe9390cb",
   "metadata": {},
   "outputs": [
    {
     "name": "stdout",
     "output_type": "stream",
     "text": [
      "[ 1.    3.25  5.5   7.75 10.  ]\n"
     ]
    }
   ],
   "source": [
    "ar=np.linspace(1,10,5)\n",
    "print(ar)"
   ]
  },
  {
   "cell_type": "code",
   "execution_count": 10,
   "id": "f4bfe900-d076-488d-8cb9-b978420a5600",
   "metadata": {},
   "outputs": [
    {
     "name": "stdout",
     "output_type": "stream",
     "text": [
      "[ 1  3  5  7 10]\n"
     ]
    }
   ],
   "source": [
    "ar=np.linspace(1,10,5,dtype=int)\n",
    "print(ar)"
   ]
  },
  {
   "cell_type": "code",
   "execution_count": 11,
   "id": "7bbb4b7a-e881-466e-8df0-54b81253ea39",
   "metadata": {},
   "outputs": [
    {
     "name": "stdout",
     "output_type": "stream",
     "text": [
      "[10.         10.20408163 10.40816327 10.6122449  10.81632653 11.02040816\n",
      " 11.2244898  11.42857143 11.63265306 11.83673469 12.04081633 12.24489796\n",
      " 12.44897959 12.65306122 12.85714286 13.06122449 13.26530612 13.46938776\n",
      " 13.67346939 13.87755102 14.08163265 14.28571429 14.48979592 14.69387755\n",
      " 14.89795918 15.10204082 15.30612245 15.51020408 15.71428571 15.91836735\n",
      " 16.12244898 16.32653061 16.53061224 16.73469388 16.93877551 17.14285714\n",
      " 17.34693878 17.55102041 17.75510204 17.95918367 18.16326531 18.36734694\n",
      " 18.57142857 18.7755102  18.97959184 19.18367347 19.3877551  19.59183673\n",
      " 19.79591837 20.        ]\n"
     ]
    }
   ],
   "source": [
    "ar=np.linspace(10,20)\n",
    "print(ar)"
   ]
  },
  {
   "cell_type": "code",
   "execution_count": 12,
   "id": "83648f05-c0ae-4292-9fec-f26d7659265b",
   "metadata": {},
   "outputs": [
    {
     "name": "stdout",
     "output_type": "stream",
     "text": [
      "[10 10 10 10 10 11 11 11 11 11 12 12 12 12 12 13 13 13 13 13 14 14 14 14\n",
      " 14 15 15 15 15 15 16 16 16 16 16 17 17 17 17 17 18 18 18 18 18 19 19 19\n",
      " 19 20]\n"
     ]
    }
   ],
   "source": [
    "ar=np.linspace(10,20,dtype=int)\n",
    "print(ar)"
   ]
  },
  {
   "cell_type": "code",
   "execution_count": 13,
   "id": "40aae025-1a9f-467f-a83c-9c12626aec76",
   "metadata": {},
   "outputs": [
    {
     "name": "stdout",
     "output_type": "stream",
     "text": [
      "[10.  12.5 15.  17.5 20. ]\n"
     ]
    }
   ],
   "source": [
    "ar=np.linspace(10,20,5)\n",
    "print(ar)"
   ]
  },
  {
   "cell_type": "code",
   "execution_count": 14,
   "id": "745e1426-7124-4203-995a-5a659b2ef779",
   "metadata": {},
   "outputs": [
    {
     "name": "stdout",
     "output_type": "stream",
     "text": [
      "[10. 12. 14. 16. 18.]\n"
     ]
    }
   ],
   "source": [
    "ar=np.linspace(10,20,5,endpoint=False)\n",
    "print(ar)"
   ]
  },
  {
   "cell_type": "code",
   "execution_count": 15,
   "id": "d7bca9ca-fdfb-4b55-a9fa-e06823e035b7",
   "metadata": {},
   "outputs": [
    {
     "name": "stdout",
     "output_type": "stream",
     "text": [
      "(array([10., 12., 14., 16., 18.]), np.float64(2.0))\n",
      "[10. 12. 14. 16. 18.]\n",
      "2.0\n"
     ]
    }
   ],
   "source": [
    "ar=np.linspace(10,20,5,endpoint=False,retstep=True)\n",
    "print(ar)\n",
    "print(ar[0])\n",
    "print(ar[1])\n"
   ]
  },
  {
   "cell_type": "code",
   "execution_count": 16,
   "id": "7870f31a-3dd6-4373-876c-99479045e191",
   "metadata": {},
   "outputs": [
    {
     "name": "stdout",
     "output_type": "stream",
     "text": [
      "[10. 12. 14. 16. 18.]\n",
      "interval size:  2.0\n"
     ]
    }
   ],
   "source": [
    "ar,step=np.linspace(10,20,5,endpoint=False,retstep=True)\n",
    "print(ar)\n",
    "print(\"interval size: \",step)\n"
   ]
  },
  {
   "cell_type": "code",
   "execution_count": 17,
   "id": "87c58ed2-c81c-4307-a2cf-63e0a25d76c7",
   "metadata": {},
   "outputs": [
    {
     "name": "stdout",
     "output_type": "stream",
     "text": [
      "10\n",
      "20\n",
      "30\n"
     ]
    }
   ],
   "source": [
    "a,b,c=(10,20,30)\n",
    "print(a)\n",
    "print(b)\n",
    "print(c)"
   ]
  },
  {
   "cell_type": "code",
   "execution_count": 18,
   "id": "e45a4ee3-e861-4f93-8390-244ee9525b8d",
   "metadata": {},
   "outputs": [
    {
     "name": "stdout",
     "output_type": "stream",
     "text": [
      "b'hello world'\n"
     ]
    }
   ],
   "source": [
    "s= b'hello world'\n",
    "print(s)"
   ]
  },
  {
   "cell_type": "code",
   "execution_count": 19,
   "id": "062e24fe-72a5-48fe-9620-7a9fa4355a81",
   "metadata": {},
   "outputs": [
    {
     "name": "stdout",
     "output_type": "stream",
     "text": [
      "<class 'bytes'>\n"
     ]
    }
   ],
   "source": [
    "print(type(s))"
   ]
  },
  {
   "cell_type": "code",
   "execution_count": 20,
   "id": "80ac11bf-3786-450a-98ee-2b5b5fb5ad7c",
   "metadata": {},
   "outputs": [
    {
     "name": "stdout",
     "output_type": "stream",
     "text": [
      "b'\\n\\x14\\x1e'\n",
      "[10, 20, 30]\n"
     ]
    }
   ],
   "source": [
    "bb=[10,20,30]      #range(0,256)\n",
    "print(bytes(bb)) \n",
    "print(bb)"
   ]
  },
  {
   "cell_type": "code",
   "execution_count": 21,
   "id": "1221a01e-e991-471c-8366-cb0164d922fc",
   "metadata": {},
   "outputs": [
    {
     "name": "stdout",
     "output_type": "stream",
     "text": [
      "<class 'bytes'>\n",
      "[b'h' b'e' b'l' b'l' b'o' b' ' b'w' b'o' b'r' b'l' b'd']\n",
      "<class 'numpy.ndarray'>\n"
     ]
    }
   ],
   "source": [
    "s = b'hello world'            #A --> 65  B --> 66..  ASCCI 0 to 256 \n",
    "print(type(s))                \n",
    "a = np.frombuffer(s, dtype = \"S1\")  \n",
    "print(a)  \n",
    "print(type(a))  \n",
    "\n"
   ]
  },
  {
   "cell_type": "code",
   "execution_count": 22,
   "id": "8aae9894-748c-4298-afa9-c6ce8eebc8c0",
   "metadata": {},
   "outputs": [
    {
     "name": "stdout",
     "output_type": "stream",
     "text": [
      "b'h'\n",
      "b'e'\n"
     ]
    }
   ],
   "source": [
    "print(a[0])\n",
    "print(a[1])"
   ]
  },
  {
   "cell_type": "markdown",
   "id": "12f8607f-3228-4034-9dc8-853ce2fe239c",
   "metadata": {},
   "source": [
    "## array cration  fromiter function"
   ]
  },
  {
   "cell_type": "code",
   "execution_count": 27,
   "id": "baa146d5-a0b2-4375-99e9-fb6c6b88f49c",
   "metadata": {},
   "outputs": [
    {
     "name": "stdout",
     "output_type": "stream",
     "text": [
      "10\n",
      "20\n",
      "30\n"
     ]
    }
   ],
   "source": [
    "li=[10,20,30,40,50]\n",
    "\n",
    "ii=iter(li)\n",
    "print(next(ii))\n",
    "print(next(ii))\n",
    "print(next(ii))"
   ]
  },
  {
   "cell_type": "code",
   "execution_count": 28,
   "id": "351405e5-91ab-4b75-a9a6-86a3d74c186c",
   "metadata": {},
   "outputs": [
    {
     "name": "stdout",
     "output_type": "stream",
     "text": [
      "[40. 50.]\n"
     ]
    }
   ],
   "source": [
    "ar=np.fromiter(ii,dtype=float)\n",
    "print(ar)"
   ]
  },
  {
   "cell_type": "code",
   "execution_count": null,
   "id": "76bc52c3-cc8a-4a24-be94-3c7dd68fa1b6",
   "metadata": {},
   "outputs": [],
   "source": []
  }
 ],
 "metadata": {
  "kernelspec": {
   "display_name": "Python 3 (ipykernel)",
   "language": "python",
   "name": "python3"
  },
  "language_info": {
   "codemirror_mode": {
    "name": "ipython",
    "version": 3
   },
   "file_extension": ".py",
   "mimetype": "text/x-python",
   "name": "python",
   "nbconvert_exporter": "python",
   "pygments_lexer": "ipython3",
   "version": "3.13.2"
  }
 },
 "nbformat": 4,
 "nbformat_minor": 5
}
