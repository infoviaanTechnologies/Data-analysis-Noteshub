{
 "cells": [
  {
   "cell_type": "markdown",
   "id": "ad97b37e-0c92-44ae-9b4f-528e21d4d7dc",
   "metadata": {},
   "source": [
    "### Maths functions"
   ]
  },
  {
   "cell_type": "code",
   "execution_count": 3,
   "id": "08a51466-f042-43c0-913b-808cda6ba00f",
   "metadata": {},
   "outputs": [
    {
     "name": "stdout",
     "output_type": "stream",
     "text": [
      "[123.222  23.222]\n"
     ]
    }
   ],
   "source": [
    "import numpy as np\n",
    "ar=np.array([123.222,23.222])\n",
    "print(ar)"
   ]
  },
  {
   "cell_type": "code",
   "execution_count": 6,
   "id": "645e6fa9-8d7e-4499-9f3e-46244e633398",
   "metadata": {},
   "outputs": [
    {
     "name": "stdout",
     "output_type": "stream",
     "text": [
      "[123.  23.]\n"
     ]
    }
   ],
   "source": [
    "print(np.around(ar))"
   ]
  },
  {
   "cell_type": "code",
   "execution_count": 8,
   "id": "a072c563-cab0-4f8e-a8de-3e7dfddb38c1",
   "metadata": {},
   "outputs": [
    {
     "name": "stdout",
     "output_type": "stream",
     "text": [
      "[123.222  23.222]\n"
     ]
    }
   ],
   "source": [
    "print(np.around(ar,3))"
   ]
  },
  {
   "cell_type": "code",
   "execution_count": 10,
   "id": "8fce0c1d-94db-446f-b6a3-dd707e461eae",
   "metadata": {},
   "outputs": [
    {
     "name": "stdout",
     "output_type": "stream",
     "text": [
      "[123.  23.]\n"
     ]
    }
   ],
   "source": [
    "print(np.floor(ar))"
   ]
  },
  {
   "cell_type": "code",
   "execution_count": 11,
   "id": "f532b490-4976-4fe4-8ce8-06457f970745",
   "metadata": {},
   "outputs": [
    {
     "name": "stdout",
     "output_type": "stream",
     "text": [
      "[124.  24.]\n"
     ]
    }
   ],
   "source": [
    "print(np.ceil(ar))"
   ]
  },
  {
   "cell_type": "code",
   "execution_count": 12,
   "id": "1a61964e-a396-4f3a-847d-6566187492d9",
   "metadata": {},
   "outputs": [
    {
     "name": "stdout",
     "output_type": "stream",
     "text": [
      "[ 23.2   0.    1.  100. ]\n"
     ]
    }
   ],
   "source": [
    "ar=np.array([23.2,0,1,100])\n",
    "print(ar)"
   ]
  },
  {
   "cell_type": "code",
   "execution_count": 13,
   "id": "340ab62b-9e11-4939-b5bb-b389c4bfc200",
   "metadata": {},
   "outputs": [
    {
     "name": "stdout",
     "output_type": "stream",
     "text": [
      "[0.04310345        inf 1.         0.01      ]\n"
     ]
    },
    {
     "name": "stderr",
     "output_type": "stream",
     "text": [
      "C:\\Users\\HP\\AppData\\Local\\Temp\\ipykernel_24580\\432736108.py:1: RuntimeWarning: divide by zero encountered in reciprocal\n",
      "  print(np.reciprocal(ar))\n"
     ]
    }
   ],
   "source": [
    "print(np.reciprocal(ar))"
   ]
  },
  {
   "cell_type": "code",
   "execution_count": null,
   "id": "92141f71-6d49-43ce-b224-ee0d75887523",
   "metadata": {},
   "outputs": [],
   "source": [
    "1/2   --> 2/1 "
   ]
  }
 ],
 "metadata": {
  "kernelspec": {
   "display_name": "Python 3 (ipykernel)",
   "language": "python",
   "name": "python3"
  },
  "language_info": {
   "codemirror_mode": {
    "name": "ipython",
    "version": 3
   },
   "file_extension": ".py",
   "mimetype": "text/x-python",
   "name": "python",
   "nbconvert_exporter": "python",
   "pygments_lexer": "ipython3",
   "version": "3.13.2"
  }
 },
 "nbformat": 4,
 "nbformat_minor": 5
}
