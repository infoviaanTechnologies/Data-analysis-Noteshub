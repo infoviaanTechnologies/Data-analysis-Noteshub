{
 "cells": [
  {
   "cell_type": "code",
   "execution_count": 1,
   "id": "46744487-2670-4336-96b4-e7948812d9de",
   "metadata": {},
   "outputs": [],
   "source": [
    "import numpy as np"
   ]
  },
  {
   "cell_type": "code",
   "execution_count": 17,
   "id": "9bbe1c7f-43bb-4280-b1e9-35c4e8cb02d3",
   "metadata": {},
   "outputs": [
    {
     "name": "stdout",
     "output_type": "stream",
     "text": [
      "(2, 2)\n",
      "[[0 1]\n",
      " [2 3]]\n"
     ]
    }
   ],
   "source": [
    "arr = np.arange(2*2).reshape(2,2)\n",
    "print(arr.shape)\n",
    "print(arr)\n"
   ]
  },
  {
   "cell_type": "code",
   "execution_count": 24,
   "id": "572aaf7b-062e-4f58-bf28-8fa983bdda63",
   "metadata": {},
   "outputs": [
    {
     "name": "stdout",
     "output_type": "stream",
     "text": [
      "(1, 1, 2, 2)\n",
      "[[[[0 1]\n",
      "   [2 3]]]]\n"
     ]
    }
   ],
   "source": [
    "newaxes = (1,0)\n",
    "arr_5D = np.expand_dims(arr, axis=newaxes)\n",
    "print(arr_5D.shape)\n",
    "print(arr_5D)\n"
   ]
  },
  {
   "cell_type": "markdown",
   "id": "84890316-1292-4412-9920-173ee58e5ef2",
   "metadata": {},
   "source": [
    "#### numpy.hstack"
   ]
  },
  {
   "cell_type": "code",
   "execution_count": 28,
   "id": "fb1d5d85-668f-4198-8938-fba9c74e4d68",
   "metadata": {},
   "outputs": [
    {
     "name": "stdout",
     "output_type": "stream",
     "text": [
      "[1 2 3 4]\n",
      "[10 20 30]\n"
     ]
    }
   ],
   "source": [
    "a1=np.array([1,2,3,4])\n",
    "print(a1)\n",
    "\n",
    "a2=np.array([10,20,30])\n",
    "print(a2)"
   ]
  },
  {
   "cell_type": "code",
   "execution_count": 30,
   "id": "2d3dda70-855f-49b8-8283-cfb7d857194a",
   "metadata": {},
   "outputs": [
    {
     "name": "stdout",
     "output_type": "stream",
     "text": [
      "[ 1  2  3  4 10 20 30]\n"
     ]
    }
   ],
   "source": [
    "new_ar=np.hstack((a1,a2))\n",
    "print(new_ar)"
   ]
  },
  {
   "cell_type": "code",
   "execution_count": 32,
   "id": "d517229b-2bca-4df4-ba1e-6a481c2337f1",
   "metadata": {},
   "outputs": [
    {
     "name": "stdout",
     "output_type": "stream",
     "text": [
      "[[10 20  1  2]\n",
      " [11 22  3  4]]\n",
      "(2, 4)\n"
     ]
    }
   ],
   "source": [
    "#2D array\n",
    "\n",
    "a1=np.array([[10,20],\n",
    "             [11,22]])\n",
    "a2=np.array([[1,2],\n",
    "             [3,4]])\n",
    "\n",
    "new_ar=np.hstack((a1,a2))\n",
    "print(new_ar)\n",
    "print(new_ar.shape)"
   ]
  },
  {
   "cell_type": "markdown",
   "id": "e65795a3-5362-4500-8e43-197ca5d0a1aa",
   "metadata": {},
   "source": [
    "#### vstack"
   ]
  },
  {
   "cell_type": "code",
   "execution_count": 38,
   "id": "04a3012f-7e7e-46c3-9b1f-febee4ed875a",
   "metadata": {},
   "outputs": [
    {
     "name": "stdout",
     "output_type": "stream",
     "text": [
      "[1 2 3 4]\n",
      "[10 20 30 50]\n",
      "[11 22 33 44]\n"
     ]
    }
   ],
   "source": [
    "a1=np.array([1,2,3,4])\n",
    "print(a1)\n",
    "\n",
    "a2=np.array([10,20,30,50])\n",
    "print(a2)\n",
    "\n",
    "a3=np.array([11,22,33,44])\n",
    "print(a3)"
   ]
  },
  {
   "cell_type": "code",
   "execution_count": 40,
   "id": "52a684a0-75a2-4431-a167-c34e5990de2f",
   "metadata": {},
   "outputs": [
    {
     "name": "stdout",
     "output_type": "stream",
     "text": [
      "[[ 1  2  3  4]\n",
      " [10 20 30 50]\n",
      " [11 22 33 44]]\n",
      "(3, 4)\n"
     ]
    }
   ],
   "source": [
    "v_arr=np.vstack((a1,a2,a3))\n",
    "print(v_arr)\n",
    "print(v_arr.shape)"
   ]
  },
  {
   "cell_type": "code",
   "execution_count": 41,
   "id": "e9013170-d3ab-4963-a292-e82fef8fb1bb",
   "metadata": {},
   "outputs": [
    {
     "name": "stdout",
     "output_type": "stream",
     "text": [
      "[[ 1  2]\n",
      " [ 3  4]\n",
      " [-1 -2]\n",
      " [-3 -4]\n",
      " [ 3  5]\n",
      " [ 7  9]]\n"
     ]
    }
   ],
   "source": [
    "#2d array  vertically merge\n",
    "\n",
    "a1=np.array([[1,2],\n",
    "             [3,4]])\n",
    "a2=np.array([[-1,-2],\n",
    "             [-3,-4]])\n",
    "\n",
    "a3=np.array([[3,5],\n",
    "             [7,9]])\n",
    "\n",
    "new_ar=np.vstack((a1,a2,a3))\n",
    "print(new_ar)\n",
    "\n"
   ]
  },
  {
   "cell_type": "code",
   "execution_count": 42,
   "id": "1a592ce0-934f-4860-bfb7-3a6b975a7c1b",
   "metadata": {},
   "outputs": [
    {
     "name": "stdout",
     "output_type": "stream",
     "text": [
      "[1 2 3 4]\n"
     ]
    }
   ],
   "source": [
    "#Method 1: Using numpy.concatenate()\n",
    "ar_1 = np.array([1, 2]) \n",
    "ar_2 = np.array([3, 4]) \n",
    "\n",
    "ar_new = np.concatenate((ar_1, ar_2)) \n",
    "print(ar_new) \n"
   ]
  },
  {
   "cell_type": "code",
   "execution_count": 43,
   "id": "197fc451-83eb-454f-bb89-f43d1675ae78",
   "metadata": {},
   "outputs": [
    {
     "name": "stdout",
     "output_type": "stream",
     "text": [
      "[[1 2 5 6]\n",
      " [3 4 7 8]]\n"
     ]
    }
   ],
   "source": [
    "array_1 = np.array([[1, 2], \n",
    "                    [3, 4]]) \n",
    "array_2 = np.array([[5, 6], \n",
    "                    [7, 8]]) \n",
    "\n",
    "array_new = np.concatenate((array_1,array_2), axis=1) \n",
    "print(array_new) \n"
   ]
  },
  {
   "cell_type": "code",
   "execution_count": 44,
   "id": "cd458425-ea9e-41ec-8f08-be72819b0fd9",
   "metadata": {},
   "outputs": [
    {
     "name": "stdout",
     "output_type": "stream",
     "text": [
      "[[1 2]\n",
      " [3 4]\n",
      " [5 6]\n",
      " [7 8]]\n"
     ]
    }
   ],
   "source": [
    "array_new = np.concatenate((array_1,array_2), axis=0) \n",
    "print(array_new) \n"
   ]
  },
  {
   "cell_type": "code",
   "execution_count": 49,
   "id": "9fecb034-a022-4697-ba39-c2ef8aaad0e8",
   "metadata": {},
   "outputs": [
    {
     "name": "stdout",
     "output_type": "stream",
     "text": [
      "[[1 5]\n",
      " [2 6]\n",
      " [3 7]\n",
      " [4 8]]\n"
     ]
    }
   ],
   "source": [
    "#Method 2: Using numpy.stack()\n",
    "import numpy as np \n",
    "\n",
    "array_1 = np.array([1, 2, 3, 4]) \n",
    "\n",
    "array_2 = np.array([5, 6, 7, 8]) \n",
    "\n",
    "array_new = np.stack((array_1, array_2),axis=1) \n",
    "print(array_new) \n"
   ]
  },
  {
   "cell_type": "code",
   "execution_count": 46,
   "id": "474f6f7d-192d-48cc-868e-8bd63e010e68",
   "metadata": {},
   "outputs": [
    {
     "name": "stdout",
     "output_type": "stream",
     "text": [
      "[[1 2 3 4]\n",
      " [5 6 7 8]]\n"
     ]
    }
   ],
   "source": [
    "array_new = np.stack((array_1, array_2),axis=1) \n",
    "print(array_new) \n"
   ]
  },
  {
   "cell_type": "code",
   "execution_count": 50,
   "id": "f9b06874-b7de-4b0a-ac21-8a0ce35e34fd",
   "metadata": {},
   "outputs": [
    {
     "name": "stdout",
     "output_type": "stream",
     "text": [
      "[[[1 5]\n",
      "  [2 6]\n",
      "  [3 7]\n",
      "  [4 8]]]\n"
     ]
    }
   ],
   "source": [
    "#numpy.dstack() -> combined array index by index and store like a stack\n",
    "print(np.dstack((array_1,array_2))) \n"
   ]
  },
  {
   "cell_type": "code",
   "execution_count": 51,
   "id": "2aa1f279-9538-4da2-bd8f-7e2dd2b4210d",
   "metadata": {},
   "outputs": [
    {
     "name": "stdout",
     "output_type": "stream",
     "text": [
      "[[1 1 2 2 2]\n",
      " [1 1 2 2 2]\n",
      " [3 3 4 4 4]\n",
      " [3 3 4 4 4]\n",
      " [3 3 4 4 4]]\n"
     ]
    }
   ],
   "source": [
    "#Method 3: numpy.block()\n",
    "\n",
    "\n",
    "block_1 = np.array([[1, 1], [1, 1]])   #--2x2\n",
    "\n",
    "block_2 = np.array([[2, 2, 2], [2, 2, 2]])   #-->2x3\n",
    "\n",
    "block_3 = np.array([[3, 3],[3, 3],[3, 3]])  #   3x2\n",
    "\n",
    "block_4 = np.array([[4, 4, 4], [4, 4, 4], [4, 4, 4]])  #3x3 \n",
    "\n",
    "block_new = np.block([[block_1,block_2],\n",
    "                      [block_3,block_4]])\n",
    "print(block_new)\n"
   ]
  },
  {
   "cell_type": "code",
   "execution_count": null,
   "id": "a13c9e84-d5f0-41e2-b97f-3af95519bf12",
   "metadata": {},
   "outputs": [],
   "source": []
  }
 ],
 "metadata": {
  "kernelspec": {
   "display_name": "Python 3 (ipykernel)",
   "language": "python",
   "name": "python3"
  },
  "language_info": {
   "codemirror_mode": {
    "name": "ipython",
    "version": 3
   },
   "file_extension": ".py",
   "mimetype": "text/x-python",
   "name": "python",
   "nbconvert_exporter": "python",
   "pygments_lexer": "ipython3",
   "version": "3.13.2"
  }
 },
 "nbformat": 4,
 "nbformat_minor": 5
}
