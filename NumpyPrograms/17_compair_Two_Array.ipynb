{
 "cells": [
  {
   "cell_type": "code",
   "execution_count": 1,
   "id": "d2f6e4a9-938d-4667-bfb0-85bd7c2a5154",
   "metadata": {},
   "outputs": [],
   "source": [
    "import numpy as np"
   ]
  },
  {
   "cell_type": "code",
   "execution_count": 11,
   "id": "c4aaa1e0-01d6-47b8-a193-b237856777ac",
   "metadata": {},
   "outputs": [
    {
     "name": "stdout",
     "output_type": "stream",
     "text": [
      "[[ True  True  True]\n",
      " [ True  True  True]]\n"
     ]
    }
   ],
   "source": [
    "a1=np.array([[1,2,3],\n",
    "            [4,5,6]])\n",
    "a2=np.array([[1,2,3],\n",
    "            [4,5,6],\n",
    "            ])\n",
    "\n",
    "#print(a1==a2)\n",
    "comperision_array = a1==a2\n",
    "print(comperision_array)"
   ]
  },
  {
   "cell_type": "code",
   "execution_count": 9,
   "id": "c26e26a0-f8cd-4f64-bc39-6d6a0c8cd6b4",
   "metadata": {},
   "outputs": [
    {
     "name": "stdout",
     "output_type": "stream",
     "text": [
      "True\n"
     ]
    }
   ],
   "source": [
    "equal_arrays = comperision_array.all()\n",
    "print(equal_arrays)\n"
   ]
  },
  {
   "cell_type": "code",
   "execution_count": 16,
   "id": "2cc70a46-1689-4d8c-bdbf-143ebd1c4a90",
   "metadata": {},
   "outputs": [
    {
     "name": "stdout",
     "output_type": "stream",
     "text": [
      "[[ True  True]\n",
      " [False False]]\n",
      "----------\n",
      "False\n"
     ]
    }
   ],
   "source": [
    "a1=np.array([[1,1],[2,2]])\n",
    "a2=np.array([[1,1],[3,3]])\n",
    "\n",
    "x=a1==a2\n",
    "print(x)\n",
    "print('----------')\n",
    "print(x.all())"
   ]
  },
  {
   "cell_type": "code",
   "execution_count": 17,
   "id": "437e3446-8fbe-44a7-b4f2-654520743b2c",
   "metadata": {},
   "outputs": [
    {
     "name": "stdout",
     "output_type": "stream",
     "text": [
      "[ True False]\n"
     ]
    }
   ],
   "source": [
    "print(x.all(axis=1))  #col 1 "
   ]
  },
  {
   "cell_type": "code",
   "execution_count": 18,
   "id": "8759be21-1ee9-4cce-b092-36f08e4f4aa8",
   "metadata": {},
   "outputs": [
    {
     "name": "stdout",
     "output_type": "stream",
     "text": [
      "[False False]\n"
     ]
    }
   ],
   "source": [
    "print(x.all(axis=0))  #col 2"
   ]
  },
  {
   "cell_type": "code",
   "execution_count": 21,
   "id": "6b3f2c11-fd6f-45e4-bbad-84dba616c540",
   "metadata": {},
   "outputs": [
    {
     "name": "stdout",
     "output_type": "stream",
     "text": [
      "True\n"
     ]
    }
   ],
   "source": [
    "print(x[0].all())"
   ]
  },
  {
   "cell_type": "code",
   "execution_count": 20,
   "id": "0225d7f3-eedb-4a1b-a996-8fa9fdf7c051",
   "metadata": {},
   "outputs": [
    {
     "name": "stdout",
     "output_type": "stream",
     "text": [
      "False\n"
     ]
    }
   ],
   "source": [
    "print(x[1].all())"
   ]
  },
  {
   "cell_type": "code",
   "execution_count": 24,
   "id": "ffd07509-4aec-4321-b1b2-f76ef945e8e2",
   "metadata": {},
   "outputs": [],
   "source": [
    "a1=np.array([[1,1],[10,2]])\n",
    "a2=np.array([[1,1],[3,3]])"
   ]
  },
  {
   "cell_type": "code",
   "execution_count": 28,
   "id": "56d1b99d-48e5-4e4a-8432-7d4648edbb43",
   "metadata": {},
   "outputs": [
    {
     "name": "stdout",
     "output_type": "stream",
     "text": [
      "[[False False]\n",
      " [ True False]]\n",
      "[[False False]\n",
      " [ True False]]\n"
     ]
    }
   ],
   "source": [
    "print(a1>a2)\n",
    "print(np.greater(a1,a2))\n",
    "\n"
   ]
  },
  {
   "cell_type": "code",
   "execution_count": 31,
   "id": "5af00882-5079-41a3-9be0-e73ccf58710b",
   "metadata": {},
   "outputs": [
    {
     "name": "stdout",
     "output_type": "stream",
     "text": [
      "[[False False]\n",
      " [False  True]]\n",
      "[[False False]\n",
      " [False  True]]\n"
     ]
    }
   ],
   "source": [
    "print(a1<a2)\n",
    "print(np.less(a1,a2))      "
   ]
  },
  {
   "cell_type": "code",
   "execution_count": null,
   "id": "045b6b94-89b8-4613-87f3-a5cd4f7c82bc",
   "metadata": {},
   "outputs": [],
   "source": [
    "#a1 >= a2    or    np.greater_equal()\n",
    "#a1 <=a2     or    np.less_equal()\n"
   ]
  },
  {
   "cell_type": "code",
   "execution_count": 36,
   "id": "c362c656-7fba-46b6-baf2-c66f20b082cb",
   "metadata": {},
   "outputs": [
    {
     "name": "stdout",
     "output_type": "stream",
     "text": [
      "True\n",
      "Equal\n"
     ]
    }
   ],
   "source": [
    "arr1 = np.array([[1, 2], [3, 4]])\n",
    "arr2 = np.array([[1, 2], [3, 4]])\n",
    "\n",
    "x=np.array_equal(arr1, arr2)\n",
    "print(x)\n",
    "# # Comparing the arrays\n",
    "if x:\n",
    " \tprint(\"Equal\")\n",
    "else:\n",
    " \tprint(\"Not Equal\")\n"
   ]
  },
  {
   "cell_type": "markdown",
   "id": "3ae0ea86-8ed0-45e3-91ec-acce5912dcae",
   "metadata": {},
   "source": [
    "#### Find union of Two numpy array"
   ]
  },
  {
   "cell_type": "code",
   "execution_count": 37,
   "id": "3d20fd28-26b6-4b19-a153-031b5ca179cd",
   "metadata": {},
   "outputs": [
    {
     "name": "stdout",
     "output_type": "stream",
     "text": [
      "array1  [10 20 30 40]\n",
      "array2  [20 40 60 80]\n"
     ]
    }
   ],
   "source": [
    "arr1 = np.array([10, 20, 30, 40]) \n",
    "print(\"array1 \", arr1) \n",
    "\n",
    "arr2 = np.array([20, 40, 60, 80]) \n",
    "print(\"array2 \", arr2) \n"
   ]
  },
  {
   "cell_type": "code",
   "execution_count": 38,
   "id": "96232c60-1188-49c5-b1e9-943f55c34050",
   "metadata": {},
   "outputs": [
    {
     "name": "stdout",
     "output_type": "stream",
     "text": [
      "Union of two arrays : [10 20 30 40 60 80]\n"
     ]
    }
   ],
   "source": [
    "\n",
    "# print union of the two arrays \n",
    "print(\"Union of two arrays :\", np.union1d(arr1, arr2)) \n"
   ]
  },
  {
   "cell_type": "code",
   "execution_count": 41,
   "id": "97232c4c-668e-4711-a8af-abbe7a6cf396",
   "metadata": {},
   "outputs": [
    {
     "name": "stdout",
     "output_type": "stream",
     "text": [
      "array1  [10 20 30 40]\n",
      "array2  [20 40 60 80]\n",
      "array3  [34 20 30 18]\n",
      "array4  [17 40 60 72]\n"
     ]
    }
   ],
   "source": [
    "arr1 = np.array([10, 20, 30, 40]) \n",
    "print(\"array1 \", arr1) \n",
    "\n",
    "arr2 = np.array([20, 40, 60, 80]) \n",
    "print(\"array2 \", arr2) \n",
    "\n",
    "arr3 = np.array([34, 20, 30, 18]) \n",
    "print(\"array3 \", arr3) \n",
    "\n",
    "arr4 = np.array([17, 40, 60, 72]) \n",
    "print(\"array4 \", arr4) \n"
   ]
  },
  {
   "cell_type": "code",
   "execution_count": 52,
   "id": "3c8d0bea-a334-43a2-8158-dc7da87fa167",
   "metadata": {},
   "outputs": [
    {
     "name": "stdout",
     "output_type": "stream",
     "text": [
      "Union of arrays : [10 17 18 20 30 34 40 60 72 80]\n"
     ]
    }
   ],
   "source": [
    "# print union of the multipal arrays \n",
    "print(\"Union of arrays :\", np.union1d(arr1,(arr2,arr3,arr4))) \n"
   ]
  },
  {
   "cell_type": "code",
   "execution_count": 51,
   "id": "ea8f123d-51bf-4b87-8baa-d40ab081f259",
   "metadata": {},
   "outputs": [
    {
     "name": "stdout",
     "output_type": "stream",
     "text": [
      "[10 17 18 20 30 34 40 60 72 80]\n"
     ]
    }
   ],
   "source": [
    "from functools import reduce\n",
    "x=reduce(np.union1d,(arr1,arr2,arr3,arr4))\n",
    "print(x)"
   ]
  },
  {
   "cell_type": "markdown",
   "id": "e2e7f8e2-23c5-4370-8c04-9e700fd9c5d6",
   "metadata": {},
   "source": [
    "#### Find Unque rows and cols"
   ]
  },
  {
   "cell_type": "code",
   "execution_count": 54,
   "id": "2d335cfd-6d5f-40e7-a361-dba7c4a12985",
   "metadata": {},
   "outputs": [
    {
     "name": "stdout",
     "output_type": "stream",
     "text": [
      "Unique Rows:\n",
      "[[11 11 12 11]\n",
      " [13 11 12 11]\n",
      " [16 11 12 11]]\n"
     ]
    }
   ],
   "source": [
    "# Create a 2D numpy array\n",
    "arr2D = np.array([[11, 11, 12, 11],\n",
    "        \t\t  [13, 11, 12, 11],\n",
    "        \t\t  [16, 11, 12, 11],\n",
    "            \t  [11, 11, 12, 11]])\n",
    "uniqueRows = np.unique(arr2D, axis=0)\n",
    "# print the output result\n",
    "print('Unique Rows:',uniqueRows, sep = '\\n')\n"
   ]
  },
  {
   "cell_type": "code",
   "execution_count": 59,
   "id": "45690b0c-0633-4c02-b54a-267d0696f58c",
   "metadata": {},
   "outputs": [
    {
     "name": "stdout",
     "output_type": "stream",
     "text": [
      "Unique Rows:\n",
      " [[11 11 12]\n",
      " [11 13 12]\n",
      " [11 16 12]\n",
      " [11 11 12]]\n"
     ]
    }
   ],
   "source": [
    "uniqueRows = np.unique(arr2D, axis=1)\n",
    "# print the output result\n",
    "print('Unique Rows:\\n',uniqueRows)\n"
   ]
  },
  {
   "cell_type": "markdown",
   "id": "b6a11b42-3a77-4eb6-8045-5ec43995ac4f",
   "metadata": {},
   "source": [
    "#### trim_Zero"
   ]
  },
  {
   "cell_type": "code",
   "execution_count": 63,
   "id": "6afa4e13-f59e-4568-9ff4-c1594745bc8f",
   "metadata": {},
   "outputs": [
    {
     "name": "stdout",
     "output_type": "stream",
     "text": [
      "[ 0  0  0  0  1  5  7  0  6  2  9  0 10  0  0]\n"
     ]
    }
   ],
   "source": [
    "ar= np.array([0, 0, 0, 0, 1, 5, 7, 0, 6, 2, 9, 0, 10, 0, 0]) \n",
    "print(ar)\n"
   ]
  },
  {
   "cell_type": "code",
   "execution_count": 64,
   "id": "d75d6ecc-b386-42b6-b8a1-86db1da4a3e3",
   "metadata": {},
   "outputs": [
    {
     "name": "stdout",
     "output_type": "stream",
     "text": [
      "[ 1  5  7  0  6  2  9  0 10]\n"
     ]
    }
   ],
   "source": [
    "# without trim parameter \n",
    "# returns an array without leading and trailing zeros \n",
    "res = np.trim_zeros(ar) \n",
    "print(res) \n"
   ]
  },
  {
   "cell_type": "code",
   "execution_count": null,
   "id": "900c940f-4300-4ea0-a101-b3ebc905fdf3",
   "metadata": {},
   "outputs": [],
   "source": []
  }
 ],
 "metadata": {
  "kernelspec": {
   "display_name": "Python 3 (ipykernel)",
   "language": "python",
   "name": "python3"
  },
  "language_info": {
   "codemirror_mode": {
    "name": "ipython",
    "version": 3
   },
   "file_extension": ".py",
   "mimetype": "text/x-python",
   "name": "python",
   "nbconvert_exporter": "python",
   "pygments_lexer": "ipython3",
   "version": "3.13.2"
  }
 },
 "nbformat": 4,
 "nbformat_minor": 5
}
