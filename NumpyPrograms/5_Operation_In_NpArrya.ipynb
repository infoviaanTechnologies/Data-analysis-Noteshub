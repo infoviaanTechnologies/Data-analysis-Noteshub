{
 "cells": [
  {
   "cell_type": "code",
   "execution_count": 1,
   "id": "a588a3dc-e0a4-4225-875d-6eaee970ef5b",
   "metadata": {},
   "outputs": [],
   "source": [
    "import numpy as np"
   ]
  },
  {
   "cell_type": "code",
   "execution_count": 2,
   "id": "c4921985-eb2c-4bc7-a519-eb1c03fbf9f3",
   "metadata": {},
   "outputs": [
    {
     "name": "stdout",
     "output_type": "stream",
     "text": [
      "[10 20 30 40]\n"
     ]
    }
   ],
   "source": [
    "ar=np.array([10,20,30,40])\n",
    "print(ar)"
   ]
  },
  {
   "cell_type": "code",
   "execution_count": 3,
   "id": "547ff287-5d02-4531-b373-fc1deecd6050",
   "metadata": {},
   "outputs": [
    {
     "name": "stdout",
     "output_type": "stream",
     "text": [
      "[12 22 32 42]\n"
     ]
    }
   ],
   "source": [
    "print(ar+2)"
   ]
  },
  {
   "cell_type": "code",
   "execution_count": 4,
   "id": "275108a8-725c-451d-a57d-566168a5fe70",
   "metadata": {},
   "outputs": [
    {
     "name": "stdout",
     "output_type": "stream",
     "text": [
      "[ 8 18 28 38]\n"
     ]
    }
   ],
   "source": [
    "print(ar-2)"
   ]
  },
  {
   "cell_type": "code",
   "execution_count": 5,
   "id": "e671b9fd-1532-43eb-a4c8-70a5dd334581",
   "metadata": {},
   "outputs": [
    {
     "name": "stdout",
     "output_type": "stream",
     "text": [
      "[20 40 60 80]\n"
     ]
    }
   ],
   "source": [
    "print(ar*2)"
   ]
  },
  {
   "cell_type": "code",
   "execution_count": 6,
   "id": "b6e17ee7-51c0-4cb3-89a2-a2511ca8e344",
   "metadata": {},
   "outputs": [
    {
     "name": "stdout",
     "output_type": "stream",
     "text": [
      "[ 100  400  900 1600]\n"
     ]
    }
   ],
   "source": [
    "print(ar**2)"
   ]
  },
  {
   "cell_type": "code",
   "execution_count": 8,
   "id": "4f2e3c62-bb4c-4af4-856c-4903d6c74e3d",
   "metadata": {},
   "outputs": [
    {
     "name": "stdout",
     "output_type": "stream",
     "text": [
      "10\n",
      "30\n"
     ]
    }
   ],
   "source": [
    "x=10\n",
    "print(x)\n",
    "x+=20\n",
    "print(x)"
   ]
  },
  {
   "cell_type": "code",
   "execution_count": 9,
   "id": "17f8873d-8364-4062-a153-4f58388ee3e5",
   "metadata": {},
   "outputs": [
    {
     "name": "stdout",
     "output_type": "stream",
     "text": [
      "[20 30 40 50]\n"
     ]
    }
   ],
   "source": [
    "#Modification in existing array\n",
    "ar+=10\n",
    "print(ar)"
   ]
  },
  {
   "cell_type": "code",
   "execution_count": 10,
   "id": "d8c474cd-f708-4f74-a8e3-f8c26c15ed19",
   "metadata": {},
   "outputs": [
    {
     "name": "stdout",
     "output_type": "stream",
     "text": [
      "[19 29 39 49]\n"
     ]
    }
   ],
   "source": [
    "print(ar-1)"
   ]
  },
  {
   "cell_type": "code",
   "execution_count": null,
   "id": "d4fda4b7-51d9-46e2-a72d-6a6b1b0b5a5b",
   "metadata": {},
   "outputs": [],
   "source": []
  }
 ],
 "metadata": {
  "kernelspec": {
   "display_name": "Python 3 (ipykernel)",
   "language": "python",
   "name": "python3"
  },
  "language_info": {
   "codemirror_mode": {
    "name": "ipython",
    "version": 3
   },
   "file_extension": ".py",
   "mimetype": "text/x-python",
   "name": "python",
   "nbconvert_exporter": "python",
   "pygments_lexer": "ipython3",
   "version": "3.13.2"
  }
 },
 "nbformat": 4,
 "nbformat_minor": 5
}
