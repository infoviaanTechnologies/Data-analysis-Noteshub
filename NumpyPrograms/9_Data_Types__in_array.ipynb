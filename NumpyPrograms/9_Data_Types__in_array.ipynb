{
 "cells": [
  {
   "cell_type": "code",
   "execution_count": 1,
   "id": "4e0b53ed-b442-46e7-a0a5-b22874aaa546",
   "metadata": {},
   "outputs": [],
   "source": [
    "import numpy as np"
   ]
  },
  {
   "cell_type": "code",
   "execution_count": 3,
   "id": "0de61e99-9299-4923-a9ba-3485b8d312e9",
   "metadata": {},
   "outputs": [
    {
     "name": "stdout",
     "output_type": "stream",
     "text": [
      "[10 20 30 40]\n",
      "int64\n"
     ]
    }
   ],
   "source": [
    "ar=np.array([10,20,30,40])\n",
    "print(ar)\n",
    "print(ar.dtype)"
   ]
  },
  {
   "cell_type": "code",
   "execution_count": 5,
   "id": "6ab8449f-738c-4a50-a5e1-278efdb807aa",
   "metadata": {},
   "outputs": [
    {
     "name": "stdout",
     "output_type": "stream",
     "text": [
      "[10. 20. 30. 40.]\n",
      "float64\n"
     ]
    }
   ],
   "source": [
    "ar=np.array([10,20,30,40],dtype='float')\n",
    "print(ar)\n",
    "print(ar.dtype)"
   ]
  },
  {
   "cell_type": "code",
   "execution_count": 6,
   "id": "9d17346c-477a-4fa2-a0ff-5665689e8b5f",
   "metadata": {},
   "outputs": [
    {
     "name": "stdout",
     "output_type": "stream",
     "text": [
      "[10 20 30 40]\n",
      "int64\n"
     ]
    }
   ],
   "source": [
    "ar=np.array([10,20,30,40])\n",
    "print(ar)\n",
    "print(ar.dtype)"
   ]
  },
  {
   "cell_type": "code",
   "execution_count": 9,
   "id": "e90eab1a-97ac-4ed0-8218-f9e48dd2aebc",
   "metadata": {},
   "outputs": [
    {
     "name": "stdout",
     "output_type": "stream",
     "text": [
      "int16\n"
     ]
    }
   ],
   "source": [
    "datatype1=np.dtype(np.int16)\n",
    "print(datatype1)\n",
    "\n"
   ]
  },
  {
   "cell_type": "code",
   "execution_count": 10,
   "id": "3a71ee43-7d7e-44bb-b911-212fb5ad7cf4",
   "metadata": {},
   "outputs": [
    {
     "name": "stdout",
     "output_type": "stream",
     "text": [
      "int16\n"
     ]
    }
   ],
   "source": [
    "ar=np.array([10,20,30,40],dtype=datatype1)\n",
    "print(ar.dtype)"
   ]
  },
  {
   "cell_type": "code",
   "execution_count": 14,
   "id": "74c282d3-350d-41aa-80ff-6715697ea989",
   "metadata": {},
   "outputs": [
    {
     "name": "stdout",
     "output_type": "stream",
     "text": [
      "Byte order is: >\n",
      "Size is: 4  Bytes\n",
      "Data type is: int32\n"
     ]
    }
   ],
   "source": [
    "dt = np.dtype('>i4')\n",
    "print(\"Byte order is:\",dt.byteorder)\n",
    "print(\"Size is:\",dt.itemsize,' Bytes')\n",
    "print(\"Data type is:\",dt.name)\n"
   ]
  },
  {
   "cell_type": "code",
   "execution_count": 26,
   "id": "db961b36-deac-4992-9f43-f29d02e934a0",
   "metadata": {},
   "outputs": [
    {
     "name": "stdout",
     "output_type": "stream",
     "text": [
      "[('Sara', [8., 7.]) ('John', [6., 7.])]\n",
      "('Sara', [8.0, 7.0])\n",
      "('John', [6.0, 7.0])\n"
     ]
    }
   ],
   "source": [
    "\n",
    "# the use of data type object with structured array.\n",
    "\n",
    "dt = np.dtype([('name', np.str_,16), ('marks', np.float64,2)])\n",
    "\n",
    "# x is a structured array with names and marks of students.\n",
    "# Data type of name of the student is np.unicode_ and\n",
    "# data type of marks is np.float64\n",
    "\n",
    "data=[('Sara', (8.0, 7.0)), \n",
    "      ('John', (6.0, 7.0))]\n",
    "\n",
    "x = np.array(data, dtype=dt)\n",
    "\n",
    "print(x)\n",
    "print(x[0])\n",
    "print(x[1])"
   ]
  },
  {
   "cell_type": "code",
   "execution_count": 20,
   "id": "56a45465-ba7e-4e55-901d-afcbd60348ca",
   "metadata": {},
   "outputs": [
    {
     "name": "stdout",
     "output_type": "stream",
     "text": [
      "('John', [6.0, 7.0])\n",
      "Marks of John are:  [6. 7.]\n"
     ]
    }
   ],
   "source": [
    "print(x[1])\n",
    "print(\"Marks of John are: \",x[1]['marks'])\n"
   ]
  },
  {
   "cell_type": "code",
   "execution_count": 21,
   "id": "6f3b35c8-0711-4ea4-b96d-79867a373404",
   "metadata": {},
   "outputs": [
    {
     "name": "stdout",
     "output_type": "stream",
     "text": [
      "Names are:  ['Sarah' 'John']\n"
     ]
    }
   ],
   "source": [
    "print(\"Names are: \",x['name'])\n"
   ]
  },
  {
   "cell_type": "code",
   "execution_count": 22,
   "id": "2a354f0b-498f-46d1-8d2e-a269a4c2ba95",
   "metadata": {},
   "outputs": [
    {
     "name": "stdout",
     "output_type": "stream",
     "text": [
      "Makrs:  [[8. 7.]\n",
      " [6. 7.]]\n"
     ]
    }
   ],
   "source": [
    "print(\"Makrs: \",x['marks'])"
   ]
  },
  {
   "cell_type": "code",
   "execution_count": null,
   "id": "e319f266-e6ad-4a0e-8e82-b99fe4cdc03f",
   "metadata": {},
   "outputs": [],
   "source": []
  }
 ],
 "metadata": {
  "kernelspec": {
   "display_name": "Python 3 (ipykernel)",
   "language": "python",
   "name": "python3"
  },
  "language_info": {
   "codemirror_mode": {
    "name": "ipython",
    "version": 3
   },
   "file_extension": ".py",
   "mimetype": "text/x-python",
   "name": "python",
   "nbconvert_exporter": "python",
   "pygments_lexer": "ipython3",
   "version": "3.13.2"
  }
 },
 "nbformat": 4,
 "nbformat_minor": 5
}
