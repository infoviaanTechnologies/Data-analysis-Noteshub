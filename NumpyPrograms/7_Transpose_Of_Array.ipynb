{
 "cells": [
  {
   "cell_type": "code",
   "execution_count": 1,
   "id": "fc98608b-fbd9-4f6b-b8d9-5e7e0c7f0df5",
   "metadata": {},
   "outputs": [],
   "source": [
    "import numpy as np"
   ]
  },
  {
   "cell_type": "code",
   "execution_count": 8,
   "id": "311d9c93-c26d-4168-a569-956a1ff886c9",
   "metadata": {},
   "outputs": [
    {
     "name": "stdout",
     "output_type": "stream",
     "text": [
      "[[11 10]\n",
      " [22 20]\n",
      " [33 30]]\n",
      "----------------\n",
      "(3, 2)\n"
     ]
    }
   ],
   "source": [
    "ar=np.array([[11,10],\n",
    "             [22,20],\n",
    "             [33,30]])\n",
    "print(ar)\n",
    "print('----------------')\n",
    "print(ar.shape)"
   ]
  },
  {
   "cell_type": "code",
   "execution_count": 3,
   "id": "6cd9ce2f-14fa-4612-b7b9-992903b4e918",
   "metadata": {},
   "outputs": [
    {
     "name": "stdout",
     "output_type": "stream",
     "text": [
      "[[11 22 33]\n",
      " [10 20 30]]\n"
     ]
    }
   ],
   "source": [
    "print(ar.T)"
   ]
  },
  {
   "cell_type": "code",
   "execution_count": 4,
   "id": "632795a9-b3f9-48b6-b733-f411e476609b",
   "metadata": {},
   "outputs": [
    {
     "name": "stdout",
     "output_type": "stream",
     "text": [
      "[[11 10]\n",
      " [22 20]\n",
      " [33 30]]\n"
     ]
    }
   ],
   "source": [
    "print(ar)"
   ]
  },
  {
   "cell_type": "code",
   "execution_count": 10,
   "id": "4cd2a838-dc0a-4f0d-ab51-4e102dd8e90f",
   "metadata": {},
   "outputs": [
    {
     "name": "stdout",
     "output_type": "stream",
     "text": [
      "[[11 22 33]\n",
      " [10 20 30]]\n",
      "(2, 3)\n"
     ]
    }
   ],
   "source": [
    "ar=ar.T     #modify in existing array\n",
    "print(ar)\n",
    "print(ar.shape)"
   ]
  },
  {
   "cell_type": "code",
   "execution_count": null,
   "id": "fbea9a61-3a7c-4958-976a-54d2c5bfc107",
   "metadata": {},
   "outputs": [],
   "source": []
  },
  {
   "cell_type": "code",
   "execution_count": null,
   "id": "7f7e19ce-bc12-4a7e-8a5a-ba3df7773cd5",
   "metadata": {},
   "outputs": [],
   "source": []
  }
 ],
 "metadata": {
  "kernelspec": {
   "display_name": "Python 3 (ipykernel)",
   "language": "python",
   "name": "python3"
  },
  "language_info": {
   "codemirror_mode": {
    "name": "ipython",
    "version": 3
   },
   "file_extension": ".py",
   "mimetype": "text/x-python",
   "name": "python",
   "nbconvert_exporter": "python",
   "pygments_lexer": "ipython3",
   "version": "3.13.2"
  }
 },
 "nbformat": 4,
 "nbformat_minor": 5
}
