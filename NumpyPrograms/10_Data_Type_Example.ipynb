{
 "cells": [
  {
   "cell_type": "code",
   "execution_count": null,
   "id": "6caf3626-7c0b-489f-b9db-7ca45ccd604c",
   "metadata": {},
   "outputs": [],
   "source": [
    "#name = ('AAAA','BBBB','DDDD','FFFF')   --> Datatype  np.str_\n",
    "#age  = (23,24,15,16)                   -->           np.int8\n",
    "#marks = (89.28,87.23,89.,24.25)         -->           np.float16"
   ]
  },
  {
   "cell_type": "code",
   "execution_count": 1,
   "id": "0dc20ab5-a70e-4e03-ac8d-6349ca9adc5d",
   "metadata": {},
   "outputs": [],
   "source": [
    "import numpy as np"
   ]
  },
  {
   "cell_type": "code",
   "execution_count": 20,
   "id": "85eb7341-a69e-48fb-b0c7-c63a5d97fcec",
   "metadata": {},
   "outputs": [
    {
     "name": "stdout",
     "output_type": "stream",
     "text": [
      "[('AAAA', 24, 89.25) ('BBBB', 22, 85.25) ('CCCC', 24, 81.25)\n",
      " ('DDDD', 24, 86.25)]\n"
     ]
    }
   ],
   "source": [
    "#create datatype for student data structure\n",
    "li=[('name',np.str_,20),\n",
    "    ('age',np.int8),\n",
    "   ('marks',np.float16)]\n",
    "\n",
    "dt_student=np.dtype(li)\n",
    "\n",
    "#Create Array\n",
    "data= [('AAAA',24,89.23),\n",
    "       ('BBBB',22,85.23),\n",
    "       ('CCCC',24,81.23),\n",
    "       ('DDDD',24,86.23)\n",
    "       ]\n",
    "\n",
    "ar=np.array(data,dt_student)\n",
    "print(ar)"
   ]
  },
  {
   "cell_type": "code",
   "execution_count": 21,
   "id": "e4f0c2db-71f8-4492-a440-f10639752df1",
   "metadata": {},
   "outputs": [
    {
     "name": "stdout",
     "output_type": "stream",
     "text": [
      "<class 'numpy.dtype'>\n"
     ]
    }
   ],
   "source": [
    "print(np.dtype)"
   ]
  },
  {
   "cell_type": "code",
   "execution_count": 24,
   "id": "75d8702f-e014-47c6-b516-451b7b990f63",
   "metadata": {},
   "outputs": [
    {
     "name": "stdout",
     "output_type": "stream",
     "text": [
      "AAAA\n"
     ]
    }
   ],
   "source": [
    "print(ar[0]['name'])"
   ]
  },
  {
   "cell_type": "code",
   "execution_count": 25,
   "id": "40ceccac-b43c-4e88-bfb3-dd47e05d77ad",
   "metadata": {},
   "outputs": [
    {
     "name": "stdout",
     "output_type": "stream",
     "text": [
      "['AAAA' 'BBBB' 'CCCC' 'DDDD']\n"
     ]
    }
   ],
   "source": [
    "print(ar['name'])"
   ]
  },
  {
   "cell_type": "code",
   "execution_count": 26,
   "id": "f390a44e-ab25-41bc-b09e-4683963112e2",
   "metadata": {},
   "outputs": [
    {
     "name": "stdout",
     "output_type": "stream",
     "text": [
      "[24 22 24 24]\n"
     ]
    }
   ],
   "source": [
    "print(ar['age'])"
   ]
  },
  {
   "cell_type": "code",
   "execution_count": 31,
   "id": "73cbda32-6fde-45df-9df1-c0790b40cdb0",
   "metadata": {},
   "outputs": [
    {
     "name": "stdout",
     "output_type": "stream",
     "text": [
      "Matrix b : \n",
      " [[1. 0.]\n",
      " [0. 1.]]\n"
     ]
    }
   ],
   "source": [
    "# Python Programming illustrating\n",
    "# numpy.eye method\n",
    "\n",
    "import numpy as np\n",
    "\n",
    "# 2x2 matrix with 1's on main diagonal\n",
    "b = np.eye(2,)\n",
    "print(\"Matrix b : \\n\", b)\n",
    "\n"
   ]
  },
  {
   "cell_type": "code",
   "execution_count": 28,
   "id": "85bb30a3-1975-420c-bd26-80d252dc5570",
   "metadata": {},
   "outputs": [
    {
     "name": "stdout",
     "output_type": "stream",
     "text": [
      "\n",
      "Matrix a : \n",
      " [[0. 0. 0. 0. 0.]\n",
      " [1. 0. 0. 0. 0.]\n",
      " [0. 1. 0. 0. 0.]\n",
      " [0. 0. 1. 0. 0.]]\n"
     ]
    }
   ],
   "source": [
    "# matrix with R=4 C=5 and 1 on diagonal\n",
    "# below main diagonal\n",
    "a = np.eye(4, 5, k = -1)\n",
    "print(\"\\nMatrix a : \\n\", a)\n"
   ]
  },
  {
   "cell_type": "code",
   "execution_count": 29,
   "id": "20573435-bd9a-4d2e-8675-3c45a76e2ef6",
   "metadata": {},
   "outputs": [
    {
     "name": "stdout",
     "output_type": "stream",
     "text": [
      "\n",
      "Matrix a : \n",
      " [[0. 1. 0. 0. 0.]\n",
      " [0. 0. 1. 0. 0.]\n",
      " [0. 0. 0. 1. 0.]\n",
      " [0. 0. 0. 0. 1.]]\n"
     ]
    }
   ],
   "source": [
    "# matrix with R=4 C=5 and 1 on diagonal\n",
    "# below main diagonal\n",
    "a = np.eye(4, 5, k = 1)\n",
    "print(\"\\nMatrix a : \\n\", a)\n"
   ]
  },
  {
   "cell_type": "code",
   "execution_count": null,
   "id": "7aacfbda-b9b1-45d0-bab6-b68476b183d4",
   "metadata": {},
   "outputs": [],
   "source": []
  }
 ],
 "metadata": {
  "kernelspec": {
   "display_name": "Python 3 (ipykernel)",
   "language": "python",
   "name": "python3"
  },
  "language_info": {
   "codemirror_mode": {
    "name": "ipython",
    "version": 3
   },
   "file_extension": ".py",
   "mimetype": "text/x-python",
   "name": "python",
   "nbconvert_exporter": "python",
   "pygments_lexer": "ipython3",
   "version": "3.13.2"
  }
 },
 "nbformat": 4,
 "nbformat_minor": 5
}
