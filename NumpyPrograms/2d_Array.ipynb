{
 "cells": [
  {
   "cell_type": "code",
   "execution_count": 1,
   "id": "54f17a89-8f05-4c13-a0ba-2f7b27345c05",
   "metadata": {},
   "outputs": [],
   "source": [
    "import numpy as np"
   ]
  },
  {
   "cell_type": "code",
   "execution_count": 5,
   "id": "5f280855-49ac-4d60-993f-4972e0aa11c6",
   "metadata": {},
   "outputs": [
    {
     "name": "stdout",
     "output_type": "stream",
     "text": [
      "[10 20 30 40]\n",
      "10\n",
      "20\n",
      "40\n"
     ]
    }
   ],
   "source": [
    "#1-d array\n",
    "ar=np.array([10,20,30,40])\n",
    "print(ar)\n",
    "print(ar[0])\n",
    "print(ar[1])\n",
    "print(ar[-1])"
   ]
  },
  {
   "cell_type": "code",
   "execution_count": 6,
   "id": "3706d8df-6801-451c-b074-d7f4585aa61c",
   "metadata": {},
   "outputs": [
    {
     "name": "stdout",
     "output_type": "stream",
     "text": [
      "[10 20]\n"
     ]
    }
   ],
   "source": [
    "print(ar[0:2])"
   ]
  },
  {
   "cell_type": "code",
   "execution_count": 13,
   "id": "d599c46f-2866-4534-a527-278c39d8fa4f",
   "metadata": {},
   "outputs": [
    {
     "name": "stdout",
     "output_type": "stream",
     "text": [
      "[[11 22 33]\n",
      " [10 20 30]]\n",
      "----------\n",
      "[11 22 33]\n",
      "[10 20 30]\n",
      "------------\n",
      "11\n",
      "10\n"
     ]
    }
   ],
   "source": [
    "#2-d Array\n",
    "ar=np.array([[11,22,33],\n",
    "             [10,20,30]])\n",
    "\n",
    "print(ar)\n",
    "print('----------')\n",
    "print(ar[0])\n",
    "print(ar[1])\n",
    "print('------------')\n",
    "print(ar[0][0])\n",
    "print(ar[1][0])"
   ]
  },
  {
   "cell_type": "code",
   "execution_count": 14,
   "id": "edbd8746-f960-4d33-b880-632614e4e682",
   "metadata": {},
   "outputs": [
    {
     "name": "stdout",
     "output_type": "stream",
     "text": [
      "2\n"
     ]
    }
   ],
   "source": [
    "print(len(ar))"
   ]
  },
  {
   "cell_type": "code",
   "execution_count": 16,
   "id": "d526bebe-6889-4df6-be88-f9629944c2d8",
   "metadata": {},
   "outputs": [
    {
     "name": "stdout",
     "output_type": "stream",
     "text": [
      "3\n",
      "3\n"
     ]
    }
   ],
   "source": [
    "print(len(ar[0]))\n",
    "print(len(ar[1]))"
   ]
  },
  {
   "cell_type": "code",
   "execution_count": 19,
   "id": "a0c63d38-c26b-4534-9bf6-da8b70fcc138",
   "metadata": {},
   "outputs": [
    {
     "name": "stdout",
     "output_type": "stream",
     "text": [
      "11 22 33 \n",
      "10 20 30 \n"
     ]
    }
   ],
   "source": [
    "#i -->row  j--> col\n",
    "for i in range(0,len(ar)):\n",
    "    for j in range(0,len(ar[i])):\n",
    "        print(ar[i][j],end=' ')\n",
    "    print()"
   ]
  },
  {
   "cell_type": "code",
   "execution_count": 20,
   "id": "180da299-9720-47e2-9450-8404784c8572",
   "metadata": {},
   "outputs": [
    {
     "name": "stdout",
     "output_type": "stream",
     "text": [
      "[[11 22 33]]\n"
     ]
    }
   ],
   "source": [
    "#Slicing\n",
    "print(ar[0:1])"
   ]
  },
  {
   "cell_type": "code",
   "execution_count": 21,
   "id": "5cbedf96-dc9c-4c88-ac49-803078d22cd5",
   "metadata": {},
   "outputs": [
    {
     "name": "stdout",
     "output_type": "stream",
     "text": [
      "[[11 22 33]\n",
      " [10 20 30]]\n"
     ]
    }
   ],
   "source": [
    "print(ar[0:2])"
   ]
  },
  {
   "cell_type": "code",
   "execution_count": 23,
   "id": "f5ceaeed-09fd-4b82-95d7-7c986725b04c",
   "metadata": {},
   "outputs": [
    {
     "name": "stdout",
     "output_type": "stream",
     "text": [
      "[[11 22]\n",
      " [10 20]]\n"
     ]
    }
   ],
   "source": [
    "print(ar[0:2,0:2])"
   ]
  },
  {
   "cell_type": "code",
   "execution_count": 24,
   "id": "ed95fd3e-610f-42bf-b0aa-5f93944e07d4",
   "metadata": {},
   "outputs": [
    {
     "name": "stdout",
     "output_type": "stream",
     "text": [
      "[[11]\n",
      " [10]]\n"
     ]
    }
   ],
   "source": [
    "print(ar[0:2,0:1])"
   ]
  },
  {
   "cell_type": "code",
   "execution_count": 27,
   "id": "09e75d92-2825-4c6c-8155-25a4b49f2ce9",
   "metadata": {},
   "outputs": [
    {
     "name": "stdout",
     "output_type": "stream",
     "text": [
      "[[11 22 33]\n",
      " [10 20 30]\n",
      " [21 22 33]\n",
      " [24 25 26]]\n",
      "[11 22 33]\n"
     ]
    }
   ],
   "source": [
    "ar=np.array([\n",
    "             [11,22,33],\n",
    "             [10,20,30],\n",
    "             [21,22,33],\n",
    "             [24,25,26]\n",
    "            ])\n",
    "#rows--> 4 col-->3\n",
    "\n",
    "print(ar)\n"
   ]
  },
  {
   "cell_type": "code",
   "execution_count": 29,
   "id": "3c846eda-8282-4ce8-8dd2-dea79ef310a3",
   "metadata": {},
   "outputs": [
    {
     "name": "stdout",
     "output_type": "stream",
     "text": [
      "[11 22 33]\n",
      "[10 20 30]\n"
     ]
    }
   ],
   "source": [
    "print(ar[0])\n",
    "print(ar[1])"
   ]
  },
  {
   "cell_type": "code",
   "execution_count": 30,
   "id": "e16c1e53-3d2b-4835-890c-11ff5e5ba868",
   "metadata": {},
   "outputs": [
    {
     "name": "stdout",
     "output_type": "stream",
     "text": [
      "[[11 22 33]\n",
      " [10 20 30]\n",
      " [21 22 33]]\n"
     ]
    }
   ],
   "source": [
    "print(ar[0:3])"
   ]
  },
  {
   "cell_type": "code",
   "execution_count": 31,
   "id": "70c670e1-006a-40af-8874-e8289b291a1d",
   "metadata": {},
   "outputs": [
    {
     "name": "stdout",
     "output_type": "stream",
     "text": [
      "[[11 22 33]\n",
      " [10 20 30]\n",
      " [21 22 33]\n",
      " [24 25 26]]\n"
     ]
    }
   ],
   "source": [
    "print(ar[0:4])"
   ]
  },
  {
   "cell_type": "code",
   "execution_count": 32,
   "id": "0f98d470-2e43-44d4-b4fe-988367e31d46",
   "metadata": {},
   "outputs": [
    {
     "name": "stdout",
     "output_type": "stream",
     "text": [
      "[[11]\n",
      " [10]\n",
      " [21]\n",
      " [24]]\n"
     ]
    }
   ],
   "source": [
    "print(ar[0:4,0:1])"
   ]
  },
  {
   "cell_type": "code",
   "execution_count": 34,
   "id": "579af216-4cd7-4280-8090-761960fef2c9",
   "metadata": {},
   "outputs": [
    {
     "name": "stdout",
     "output_type": "stream",
     "text": [
      "[[22]\n",
      " [20]\n",
      " [22]\n",
      " [25]]\n"
     ]
    }
   ],
   "source": [
    "print(ar[0:4,1:2])"
   ]
  },
  {
   "cell_type": "code",
   "execution_count": 35,
   "id": "f693e5f6-ff6e-4199-8c29-51b3616b7490",
   "metadata": {},
   "outputs": [
    {
     "name": "stdout",
     "output_type": "stream",
     "text": [
      "[[11 22]\n",
      " [10 20]\n",
      " [21 22]\n",
      " [24 25]]\n"
     ]
    }
   ],
   "source": [
    "print(ar[0:4,0:2])"
   ]
  },
  {
   "cell_type": "code",
   "execution_count": 37,
   "id": "0699e33c-ad01-47b8-9f4c-07e6174b376e",
   "metadata": {},
   "outputs": [
    {
     "name": "stdout",
     "output_type": "stream",
     "text": [
      "[[22 33]\n",
      " [20 30]\n",
      " [22 33]\n",
      " [25 26]]\n"
     ]
    }
   ],
   "source": [
    "print(ar[0:4,1:3])"
   ]
  },
  {
   "cell_type": "code",
   "execution_count": 38,
   "id": "60cce104-cad2-4af9-8948-a1a3a3a9a74e",
   "metadata": {},
   "outputs": [
    {
     "name": "stdout",
     "output_type": "stream",
     "text": [
      "[24 25 26]\n"
     ]
    }
   ],
   "source": [
    "print(ar[3])"
   ]
  },
  {
   "cell_type": "code",
   "execution_count": 39,
   "id": "eb4f5c12-fab8-4ee8-90b3-ae86246035ec",
   "metadata": {},
   "outputs": [
    {
     "name": "stdout",
     "output_type": "stream",
     "text": [
      "25\n"
     ]
    }
   ],
   "source": [
    "print(ar[3][1])"
   ]
  },
  {
   "cell_type": "code",
   "execution_count": null,
   "id": "c8bb1291-0a58-41ad-ab36-f173649a86b3",
   "metadata": {},
   "outputs": [],
   "source": []
  }
 ],
 "metadata": {
  "kernelspec": {
   "display_name": "Python 3 (ipykernel)",
   "language": "python",
   "name": "python3"
  },
  "language_info": {
   "codemirror_mode": {
    "name": "ipython",
    "version": 3
   },
   "file_extension": ".py",
   "mimetype": "text/x-python",
   "name": "python",
   "nbconvert_exporter": "python",
   "pygments_lexer": "ipython3",
   "version": "3.13.2"
  }
 },
 "nbformat": 4,
 "nbformat_minor": 5
}
