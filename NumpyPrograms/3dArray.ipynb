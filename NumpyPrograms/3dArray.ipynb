{
 "cells": [
  {
   "cell_type": "code",
   "execution_count": 1,
   "id": "dab55f96-0fee-43b7-acc9-92e13f3cb2ff",
   "metadata": {},
   "outputs": [],
   "source": [
    "import numpy as np"
   ]
  },
  {
   "cell_type": "code",
   "execution_count": 2,
   "id": "6d6d712f-7ad7-4628-b0b0-dc3972d9afd4",
   "metadata": {},
   "outputs": [
    {
     "name": "stdout",
     "output_type": "stream",
     "text": [
      "[[[10 20]\n",
      "  [30 40]]\n",
      "\n",
      " [[33 44]\n",
      "  [55 66]]\n",
      "\n",
      " [[21 22]\n",
      "  [23 24]]]\n"
     ]
    }
   ],
   "source": [
    "ar=np.array([\n",
    "            [[10,20],[30,40]],\n",
    "            [[33,44],[55,66]],\n",
    "            [[21,22],[23,24]]\n",
    "            ])\n",
    "print(ar)"
   ]
  },
  {
   "cell_type": "code",
   "execution_count": 6,
   "id": "4c4e82d8-1043-4068-8b8d-1bc7905d1fdb",
   "metadata": {},
   "outputs": [
    {
     "name": "stdout",
     "output_type": "stream",
     "text": [
      "[[10 20]\n",
      " [30 40]]\n"
     ]
    }
   ],
   "source": [
    "print(ar[0])   #layer1"
   ]
  },
  {
   "cell_type": "code",
   "execution_count": 4,
   "id": "f5e47642-5bc3-4cf5-bd49-e53b3a1f1b48",
   "metadata": {},
   "outputs": [
    {
     "name": "stdout",
     "output_type": "stream",
     "text": [
      "[[33 44]\n",
      " [55 66]]\n"
     ]
    }
   ],
   "source": [
    "print(ar[1])   #layer2"
   ]
  },
  {
   "cell_type": "code",
   "execution_count": 5,
   "id": "1ef62316-2f9c-4219-854c-78932d80247a",
   "metadata": {},
   "outputs": [
    {
     "name": "stdout",
     "output_type": "stream",
     "text": [
      "[[21 22]\n",
      " [23 24]]\n"
     ]
    }
   ],
   "source": [
    "print(ar[2]) #laryer3"
   ]
  },
  {
   "cell_type": "code",
   "execution_count": 7,
   "id": "bcf3ce0c-29fb-4551-83fc-d9e45dc9e286",
   "metadata": {},
   "outputs": [
    {
     "name": "stdout",
     "output_type": "stream",
     "text": [
      "[10 20]\n"
     ]
    }
   ],
   "source": [
    "print(ar[0][0])"
   ]
  },
  {
   "cell_type": "code",
   "execution_count": 8,
   "id": "68cec04f-0542-48d8-a8b7-662335991176",
   "metadata": {},
   "outputs": [
    {
     "name": "stdout",
     "output_type": "stream",
     "text": [
      "10\n"
     ]
    }
   ],
   "source": [
    "print(ar[0][0][0])"
   ]
  },
  {
   "cell_type": "code",
   "execution_count": 9,
   "id": "924fe2b8-0279-4187-95db-4b2fe8233365",
   "metadata": {},
   "outputs": [
    {
     "name": "stdout",
     "output_type": "stream",
     "text": [
      "20\n"
     ]
    }
   ],
   "source": [
    "print(ar[0][0][1])"
   ]
  },
  {
   "cell_type": "code",
   "execution_count": 13,
   "id": "46f28abe-41f5-4ecd-8b0d-fb1c85b462c8",
   "metadata": {},
   "outputs": [
    {
     "name": "stdout",
     "output_type": "stream",
     "text": [
      "[[[10 20]\n",
      "  [30 40]]\n",
      "\n",
      " [[33 44]\n",
      "  [55 66]]]\n"
     ]
    }
   ],
   "source": [
    "print(ar[0:2])"
   ]
  },
  {
   "cell_type": "code",
   "execution_count": 14,
   "id": "9fb1f7f7-ba00-401b-83a8-f32a2ef212d8",
   "metadata": {},
   "outputs": [
    {
     "name": "stdout",
     "output_type": "stream",
     "text": [
      "[[[10 20]]\n",
      "\n",
      " [[33 44]]]\n"
     ]
    }
   ],
   "source": [
    "print(ar[0:2,0:1])"
   ]
  },
  {
   "cell_type": "code",
   "execution_count": 15,
   "id": "c28aed81-725c-4dae-8f4f-4f047b3266d3",
   "metadata": {},
   "outputs": [
    {
     "name": "stdout",
     "output_type": "stream",
     "text": [
      "[[[10]]\n",
      "\n",
      " [[33]]]\n"
     ]
    }
   ],
   "source": [
    "print(ar[0:2,0:1,0:1])"
   ]
  },
  {
   "cell_type": "code",
   "execution_count": 17,
   "id": "73a154c3-4190-40c5-89f3-f2902c28ac6c",
   "metadata": {},
   "outputs": [
    {
     "name": "stdout",
     "output_type": "stream",
     "text": [
      "[[11 22 33]\n",
      " [10 20 30]\n",
      " [21 22 23]]\n",
      "Shape:  (3, 3)\n"
     ]
    }
   ],
   "source": [
    "l1=[11,22,33]\n",
    "l2=[10,20,30]\n",
    "l3=[21,22,23]\n",
    "\n",
    "#2d array\n",
    "ar=np.array([l1,\n",
    "             l2,\n",
    "             l3])   \n",
    "print(ar)\n",
    "print(\"Shape: \",ar.shape)"
   ]
  },
  {
   "cell_type": "code",
   "execution_count": 24,
   "id": "08b7afd3-0b35-4e5e-9655-02dd9308bf27",
   "metadata": {},
   "outputs": [
    {
     "name": "stdout",
     "output_type": "stream",
     "text": [
      "(3, 3, 2)\n"
     ]
    }
   ],
   "source": [
    "ar_3d=np.array([\n",
    "            [[10,20],\n",
    "             [30,40],\n",
    "             [30,40]],\n",
    "              \n",
    "             [[33,44],\n",
    "             [55,66],\n",
    "             [30,40]],\n",
    "            \n",
    "            [[21,22],\n",
    "             [23,24],\n",
    "             [30,40]]\n",
    "            \n",
    "           ])\n",
    "print(ar_3d.shape)    #shape 3 layer 2 rows 2 col"
   ]
  },
  {
   "cell_type": "code",
   "execution_count": 27,
   "id": "c3a9d57a-c288-4ba0-9451-ec07aa6ebde6",
   "metadata": {},
   "outputs": [
    {
     "name": "stdout",
     "output_type": "stream",
     "text": [
      "[[10 20 30]\n",
      " [11 22 33]]\n",
      "(2, 3)\n"
     ]
    }
   ],
   "source": [
    "x=np.array([[10,20,30],\n",
    "            [11,22,33]])\n",
    "print(x)\n",
    "print(x.shape)\n"
   ]
  },
  {
   "cell_type": "code",
   "execution_count": 29,
   "id": "c8549c56-141e-4dc6-8d3a-327cd46d2268",
   "metadata": {},
   "outputs": [
    {
     "name": "stdout",
     "output_type": "stream",
     "text": [
      "[10 20 30]\n",
      "int64\n"
     ]
    }
   ],
   "source": [
    "#identify the type data \n",
    "a1=np.array([10,20,30])\n",
    "print(a1)\n",
    "print(a1.dtype)"
   ]
  },
  {
   "cell_type": "code",
   "execution_count": 31,
   "id": "4cc7cd56-bf19-41fd-9449-537100a37951",
   "metadata": {},
   "outputs": [
    {
     "name": "stdout",
     "output_type": "stream",
     "text": [
      "[10.23 19.24 23.24]\n",
      "float64\n"
     ]
    }
   ],
   "source": [
    "a2=np.array([10.23,19.24,23.24])\n",
    "print(a2)\n",
    "print(a2.dtype)"
   ]
  },
  {
   "cell_type": "code",
   "execution_count": 37,
   "id": "a2e78184-3595-4156-ba25-695798300fa6",
   "metadata": {},
   "outputs": [
    {
     "name": "stdout",
     "output_type": "stream",
     "text": [
      "['Abc' '10.23' '30']\n",
      "<U32\n"
     ]
    }
   ],
   "source": [
    "a3=np.array(['Abc',10.23,30])\n",
    "print(a3)\n",
    "print(a3.dtype)\n"
   ]
  },
  {
   "cell_type": "code",
   "execution_count": null,
   "id": "5e824415-306c-4cc8-afea-f15f70c1ba67",
   "metadata": {},
   "outputs": [],
   "source": []
  }
 ],
 "metadata": {
  "kernelspec": {
   "display_name": "Python 3 (ipykernel)",
   "language": "python",
   "name": "python3"
  },
  "language_info": {
   "codemirror_mode": {
    "name": "ipython",
    "version": 3
   },
   "file_extension": ".py",
   "mimetype": "text/x-python",
   "name": "python",
   "nbconvert_exporter": "python",
   "pygments_lexer": "ipython3",
   "version": "3.13.2"
  }
 },
 "nbformat": 4,
 "nbformat_minor": 5
}
