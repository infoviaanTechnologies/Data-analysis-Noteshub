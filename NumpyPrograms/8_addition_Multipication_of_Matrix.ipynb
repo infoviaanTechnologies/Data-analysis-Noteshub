{
 "cells": [
  {
   "cell_type": "code",
   "execution_count": 1,
   "id": "4e0b53ed-b442-46e7-a0a5-b22874aaa546",
   "metadata": {},
   "outputs": [],
   "source": [
    "import numpy as np"
   ]
  },
  {
   "cell_type": "code",
   "execution_count": 2,
   "id": "ced8f2b4-ec73-4c7e-a575-fea4565fec1b",
   "metadata": {},
   "outputs": [
    {
     "name": "stdout",
     "output_type": "stream",
     "text": [
      "[10 20]\n",
      "[11 22]\n"
     ]
    }
   ],
   "source": [
    "#1d - Array\n",
    "a1=np.array([10,20])\n",
    "a2=np.array([11,22])\n",
    "print(a1)\n",
    "print(a2)"
   ]
  },
  {
   "cell_type": "code",
   "execution_count": 3,
   "id": "50067ce6-511a-4d3e-85a1-4e8fe3e96d06",
   "metadata": {},
   "outputs": [
    {
     "name": "stdout",
     "output_type": "stream",
     "text": [
      "[21 42]\n"
     ]
    }
   ],
   "source": [
    "print(a1+a2)"
   ]
  },
  {
   "cell_type": "code",
   "execution_count": 4,
   "id": "d493568b-b09d-4584-8893-fd89fa5f6343",
   "metadata": {},
   "outputs": [
    {
     "name": "stdout",
     "output_type": "stream",
     "text": [
      "[110 440]\n"
     ]
    }
   ],
   "source": [
    "print(a1*a2)"
   ]
  },
  {
   "cell_type": "code",
   "execution_count": null,
   "id": "81080447-6623-411d-95a9-afbd694d1546",
   "metadata": {},
   "outputs": [],
   "source": []
  },
  {
   "cell_type": "code",
   "execution_count": 5,
   "id": "009b5212-3c6a-4ecd-ad70-e5606fabb51a",
   "metadata": {},
   "outputs": [
    {
     "name": "stdout",
     "output_type": "stream",
     "text": [
      "[[1 2]\n",
      " [3 4]]\n",
      "[[10 20]\n",
      " [11 22]]\n"
     ]
    }
   ],
   "source": [
    "#2d -->Array\n",
    "a1=np.array([[1,2],\n",
    "             [3,4]])\n",
    "a2=np.array([[10,20],\n",
    "             [11,22]])\n",
    "\n",
    "print(a1)\n",
    "print(a2)"
   ]
  },
  {
   "cell_type": "code",
   "execution_count": 6,
   "id": "65214587-f059-4384-a1c9-0016bf1d8ce3",
   "metadata": {},
   "outputs": [
    {
     "name": "stdout",
     "output_type": "stream",
     "text": [
      "[[11 22]\n",
      " [14 26]]\n"
     ]
    }
   ],
   "source": [
    "print(a1+a2)"
   ]
  },
  {
   "cell_type": "code",
   "execution_count": 7,
   "id": "39bd1833-f6e9-4ace-b60f-42d3f20d52df",
   "metadata": {},
   "outputs": [
    {
     "name": "stdout",
     "output_type": "stream",
     "text": [
      "[[10 40]\n",
      " [33 88]]\n"
     ]
    }
   ],
   "source": [
    "#Normal multipication\n",
    "print(a1*a2)"
   ]
  },
  {
   "cell_type": "code",
   "execution_count": 9,
   "id": "9efe840d-d5f8-4da5-890a-e56c18dd2306",
   "metadata": {},
   "outputs": [
    {
     "name": "stdout",
     "output_type": "stream",
     "text": [
      "[[ 32  64]\n",
      " [ 74 148]]\n"
     ]
    }
   ],
   "source": [
    "#matrix multipication\n",
    "print(a1.dot(a2))"
   ]
  },
  {
   "cell_type": "code",
   "execution_count": null,
   "id": "92364e21-deb4-410f-a88c-b6a6b090e343",
   "metadata": {},
   "outputs": [],
   "source": [
    "a1 ==> 1 2\n",
    "a2 ==> 10 11\n",
    "\n",
    "1*10 + 2*11\n",
    "\n",
    "10+22 =32\n",
    "#---------------------\n",
    "\n",
    "a1 ==> 1 2\n",
    "a2 ==> 20 22\n",
    "\n",
    "1*20 + 2*22 = 62"
   ]
  },
  {
   "cell_type": "code",
   "execution_count": 10,
   "id": "fa317a7a-73a6-40ca-9b0f-b5f2d6b57320",
   "metadata": {},
   "outputs": [
    {
     "name": "stdout",
     "output_type": "stream",
     "text": [
      "3.141592653589793\n"
     ]
    }
   ],
   "source": [
    "#pi value\n",
    "print(np.pi)"
   ]
  },
  {
   "cell_type": "code",
   "execution_count": 16,
   "id": "e9b36b46-dfda-478d-8dc7-f162c4b5140e",
   "metadata": {},
   "outputs": [
    {
     "name": "stdout",
     "output_type": "stream",
     "text": [
      "[0.         1.57079633 1.04719755 0.78539816]\n"
     ]
    }
   ],
   "source": [
    "pi=np.pi\n",
    "ar=np.array([0,pi/2,pi/3,pi/4]) \n",
    "print(ar)"
   ]
  },
  {
   "cell_type": "code",
   "execution_count": 17,
   "id": "4148b30c-dca4-452d-a6f3-b4cb33a94a7f",
   "metadata": {},
   "outputs": [
    {
     "name": "stdout",
     "output_type": "stream",
     "text": [
      "[0.         1.         0.8660254  0.70710678]\n",
      "[1.00000000e+00 6.12323400e-17 5.00000000e-01 7.07106781e-01]\n",
      "[0.00000000e+00 1.63312394e+16 1.73205081e+00 1.00000000e+00]\n"
     ]
    }
   ],
   "source": [
    "print(np.sin(ar))\n",
    "print(np.cos(ar))\n",
    "print(np.tan(ar))"
   ]
  },
  {
   "cell_type": "code",
   "execution_count": 18,
   "id": "ee2e22db-b2c2-4ac6-b2c1-370729efb7e6",
   "metadata": {},
   "outputs": [
    {
     "name": "stdout",
     "output_type": "stream",
     "text": [
      "[  2.71828183   7.3890561   20.08553692  54.59815003 148.4131591 ]\n"
     ]
    }
   ],
   "source": [
    "#exponatial value\n",
    "ar=np.array([1,2,3,4,5])\n",
    "print(np.exp(ar))"
   ]
  },
  {
   "cell_type": "code",
   "execution_count": 19,
   "id": "1eaaa754-1919-49ad-b608-3ee5351595a7",
   "metadata": {},
   "outputs": [
    {
     "name": "stdout",
     "output_type": "stream",
     "text": [
      "[1.         1.41421356 1.73205081 2.         2.23606798]\n"
     ]
    }
   ],
   "source": [
    "#Squer root\n",
    "print(np.sqrt(ar))"
   ]
  },
  {
   "cell_type": "code",
   "execution_count": 28,
   "id": "3b965f65-da32-46f4-bf9f-e45cdb37026d",
   "metadata": {},
   "outputs": [
    {
     "name": "stdout",
     "output_type": "stream",
     "text": [
      "[11 22 33]\n",
      "[ 9 18 27]\n",
      "[10 40 90]\n",
      "[0.1 0.1 0.1]\n"
     ]
    }
   ],
   "source": [
    "a1=np.array([10,20,30])\n",
    "a2=np.array([1,2,3])\n",
    "print(np.add(a1,a2))\n",
    "print(np.subtract(a1,a2))\n",
    "print(np.multiply(a1,a2))\n",
    "print(np.divide(a2,a1))"
   ]
  },
  {
   "cell_type": "code",
   "execution_count": null,
   "id": "dfe7f849-0228-482f-ab4a-e3b0c876f5a1",
   "metadata": {},
   "outputs": [],
   "source": []
  }
 ],
 "metadata": {
  "kernelspec": {
   "display_name": "Python 3 (ipykernel)",
   "language": "python",
   "name": "python3"
  },
  "language_info": {
   "codemirror_mode": {
    "name": "ipython",
    "version": 3
   },
   "file_extension": ".py",
   "mimetype": "text/x-python",
   "name": "python",
   "nbconvert_exporter": "python",
   "pygments_lexer": "ipython3",
   "version": "3.13.2"
  }
 },
 "nbformat": 4,
 "nbformat_minor": 5
}
