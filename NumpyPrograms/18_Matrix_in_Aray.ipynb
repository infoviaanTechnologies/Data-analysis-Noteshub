{
 "cells": [
  {
   "cell_type": "code",
   "execution_count": 1,
   "id": "ddc7cd2d-06bd-4e58-8ca9-b516bad30bc3",
   "metadata": {},
   "outputs": [],
   "source": [
    "import numpy as np"
   ]
  },
  {
   "cell_type": "code",
   "execution_count": 2,
   "id": "9a943954-f1ce-4c17-ac90-0a029b5a9c25",
   "metadata": {},
   "outputs": [
    {
     "name": "stdout",
     "output_type": "stream",
     "text": [
      "[[ 5 12]\n",
      " [21 32]]\n"
     ]
    }
   ],
   "source": [
    "a1=np.array([[1,2],\n",
    "           [3,4]])\n",
    "\n",
    "a2=np.array([[5,6],\n",
    "             [7,8]])\n",
    "\n",
    "#element wise multipication\n",
    "print(np.multiply(a1,a2))"
   ]
  },
  {
   "cell_type": "code",
   "execution_count": 3,
   "id": "ac42555c-5d63-4dd1-b148-6ab8fa8ef62e",
   "metadata": {},
   "outputs": [
    {
     "name": "stdout",
     "output_type": "stream",
     "text": [
      "[[19 22]\n",
      " [43 50]]\n"
     ]
    }
   ],
   "source": [
    "#matrix multipication\n",
    "print(np.dot(a1,a2))"
   ]
  },
  {
   "cell_type": "markdown",
   "id": "220f6e1d-e4f1-4c3a-8104-a4c94860fecc",
   "metadata": {},
   "source": [
    "#### Matrix Manuplation"
   ]
  },
  {
   "cell_type": "code",
   "execution_count": 5,
   "id": "835c1ec2-f4d7-481b-995e-c3c1be750fa8",
   "metadata": {},
   "outputs": [
    {
     "name": "stdout",
     "output_type": "stream",
     "text": [
      "[[2.23606798 2.44948974]\n",
      " [2.64575131 2.82842712]]\n"
     ]
    }
   ],
   "source": [
    "print(np.sqrt(a2))"
   ]
  },
  {
   "cell_type": "code",
   "execution_count": 10,
   "id": "d6bd3963-e161-4777-b3b4-3241a3fc205c",
   "metadata": {},
   "outputs": [
    {
     "name": "stdout",
     "output_type": "stream",
     "text": [
      "[[5 6]\n",
      " [7 8]]\n"
     ]
    }
   ],
   "source": [
    "print(a2)"
   ]
  },
  {
   "cell_type": "code",
   "execution_count": 6,
   "id": "0beae9a7-6452-4dbf-8f1c-53deb5f8b7da",
   "metadata": {},
   "outputs": [
    {
     "name": "stdout",
     "output_type": "stream",
     "text": [
      "26\n"
     ]
    }
   ],
   "source": [
    "print(np.sum(a2))"
   ]
  },
  {
   "cell_type": "code",
   "execution_count": 7,
   "id": "e2bce14e-5e4b-4dfe-9d92-4edd295974c4",
   "metadata": {},
   "outputs": [
    {
     "name": "stdout",
     "output_type": "stream",
     "text": [
      "[12 14]\n"
     ]
    }
   ],
   "source": [
    "print(np.sum(a2,axis=0))  "
   ]
  },
  {
   "cell_type": "code",
   "execution_count": 8,
   "id": "e6bf820f-6b16-453c-a9e1-9845104777ab",
   "metadata": {},
   "outputs": [
    {
     "name": "stdout",
     "output_type": "stream",
     "text": [
      "[11 15]\n"
     ]
    }
   ],
   "source": [
    "print(np.sum(a2,axis=1))"
   ]
  },
  {
   "cell_type": "code",
   "execution_count": 11,
   "id": "b5b43db0-3225-4d71-acb9-46cece51ef97",
   "metadata": {},
   "outputs": [
    {
     "name": "stdout",
     "output_type": "stream",
     "text": [
      "[[10 20]\n",
      " [30 40]]\n"
     ]
    }
   ],
   "source": [
    "ar=np.array([[10,20],\n",
    "             [30,40]])\n",
    "print(ar)"
   ]
  },
  {
   "cell_type": "code",
   "execution_count": 12,
   "id": "557addef-52a0-4fca-b750-d2f008884a33",
   "metadata": {},
   "outputs": [
    {
     "name": "stdout",
     "output_type": "stream",
     "text": [
      "[[10 30]\n",
      " [20 40]]\n"
     ]
    }
   ],
   "source": [
    "print(ar.T)"
   ]
  },
  {
   "cell_type": "code",
   "execution_count": 13,
   "id": "8f1dbb35-a478-4b42-aa8a-2293fc41b892",
   "metadata": {},
   "outputs": [
    {
     "name": "stdout",
     "output_type": "stream",
     "text": [
      "length of row:  2\n",
      "length of col:  3\n"
     ]
    }
   ],
   "source": [
    "ar=np.array([[11,22,33],\n",
    "             [10,20,30]])\n",
    "\n",
    "rl=len(ar)\n",
    "cl=len(ar[0])\n",
    "print('length of row: ',rl)\n",
    "print('length of col: ',cl)"
   ]
  },
  {
   "cell_type": "code",
   "execution_count": 16,
   "id": "db25051a-029d-4fb2-a48d-8505f9791826",
   "metadata": {},
   "outputs": [
    {
     "name": "stdout",
     "output_type": "stream",
     "text": [
      "[11 22 33]\n",
      "[10 20 30]\n"
     ]
    }
   ],
   "source": [
    "rl=len(ar)\n",
    "cl=len(ar[0])\n",
    "\n",
    "for i in range(0,rl):\n",
    "    print(ar[i])"
   ]
  },
  {
   "cell_type": "code",
   "execution_count": 18,
   "id": "0aa05561-78b5-42ae-addf-f27521a761f0",
   "metadata": {},
   "outputs": [
    {
     "name": "stdout",
     "output_type": "stream",
     "text": [
      "11\n",
      "22\n",
      "33\n",
      "\n",
      "10\n",
      "20\n",
      "30\n",
      "\n"
     ]
    }
   ],
   "source": [
    "for row in range(0,rl):\n",
    "    for col in range(0,cl):\n",
    "        print(ar[row][col])\n",
    "    print()    \n",
    "    "
   ]
  },
  {
   "cell_type": "code",
   "execution_count": 20,
   "id": "edaf33fd-d8a7-4e55-847e-37b5a44f37c7",
   "metadata": {},
   "outputs": [
    {
     "name": "stdout",
     "output_type": "stream",
     "text": [
      "[[11, 22], [34, 45]]\n"
     ]
    }
   ],
   "source": [
    "A = [[1,2],\n",
    "     [4,5]] \n",
    "B = [[10,20],\n",
    "     [30,40]]\n",
    "\n",
    "C=[[0,0],\n",
    "   [0,0]]\n",
    "for row in range(0,2):\n",
    "    for col in range(0,2):\n",
    "        C[row][col]=A[row][col] + B[row][col]\n",
    "\n",
    "print(C)    "
   ]
  },
  {
   "cell_type": "code",
   "execution_count": 21,
   "id": "130937b3-6fb2-44c6-813d-d84c46d09c22",
   "metadata": {},
   "outputs": [
    {
     "name": "stdout",
     "output_type": "stream",
     "text": [
      "[[0, 0], [0, 0]]\n"
     ]
    }
   ],
   "source": [
    "rows = len(A) \n",
    "cols = len(A[0]) \n",
    "\n",
    "# Element wise addition \n",
    "C = [[0 for i in range(cols)] for j in range(rows)] \n",
    "print(C)\n"
   ]
  },
  {
   "cell_type": "code",
   "execution_count": 23,
   "id": "6a466d95-c7ff-4ffe-be80-2ad7b405f85a",
   "metadata": {},
   "outputs": [
    {
     "name": "stdout",
     "output_type": "stream",
     "text": [
      "Addition of matrices: \n",
      " [[0.1, 0.1], [0.13333333333333333, 0.125]]\n"
     ]
    }
   ],
   "source": [
    "for i in range(rows): \n",
    "    for j in range(cols): \n",
    "        C[i][j] = A[i][j] / B[i][j] \n",
    "print(\"Addition of matrices: \\n\", C) \n"
   ]
  },
  {
   "cell_type": "markdown",
   "id": "af89711f-3bf7-4f27-9c78-4bd0622ac269",
   "metadata": {},
   "source": [
    "#### Matlib"
   ]
  },
  {
   "cell_type": "code",
   "execution_count": 26,
   "id": "bb809ca5-b662-4936-b97a-68f75a98b9cf",
   "metadata": {},
   "outputs": [
    {
     "name": "stdout",
     "output_type": "stream",
     "text": [
      "[[   4294967296 2875398470112             0]\n",
      " [            0             0             0]]\n"
     ]
    }
   ],
   "source": [
    "from numpy import matlib as mt\n",
    "\n",
    "x=mt.empty((2,3),dtype=int,order='C')\n",
    "print(x)"
   ]
  },
  {
   "cell_type": "code",
   "execution_count": 27,
   "id": "f7c1a73a-a360-41f7-a2d0-38004d24c1c3",
   "metadata": {},
   "outputs": [
    {
     "name": "stdout",
     "output_type": "stream",
     "text": [
      "[[1. 1. 1.]\n",
      " [1. 1. 1.]]\n"
     ]
    }
   ],
   "source": [
    "ones=mt.ones((2,3))\n",
    "print(ones)"
   ]
  },
  {
   "cell_type": "code",
   "execution_count": 30,
   "id": "582fa3ba-b34b-4d55-a135-2982bdeb7138",
   "metadata": {},
   "outputs": [
    {
     "name": "stdout",
     "output_type": "stream",
     "text": [
      "[[0. 0.]\n",
      " [0. 0.]]\n"
     ]
    }
   ],
   "source": [
    "zeros=mt.zeros((2,2))\n",
    "print(zeros)"
   ]
  },
  {
   "cell_type": "code",
   "execution_count": 32,
   "id": "b9ea31e3-e56d-4e81-be11-64e386a9fdd4",
   "metadata": {},
   "outputs": [
    {
     "name": "stdout",
     "output_type": "stream",
     "text": [
      "[[1. 0. 0.]\n",
      " [0. 1. 0.]\n",
      " [0. 0. 1.]]\n"
     ]
    }
   ],
   "source": [
    "ii=mt.identity(3)\n",
    "print(ii)"
   ]
  },
  {
   "cell_type": "code",
   "execution_count": 33,
   "id": "46e02b95-e48a-48ac-b484-4876798daa8a",
   "metadata": {},
   "outputs": [
    {
     "name": "stdout",
     "output_type": "stream",
     "text": [
      "[[0. 0. 0.]\n",
      " [1. 0. 0.]\n",
      " [0. 1. 0.]]\n"
     ]
    }
   ],
   "source": [
    "ii=mt.eye(3,k=-1)\n",
    "print(ii)"
   ]
  },
  {
   "cell_type": "code",
   "execution_count": null,
   "id": "e1fb1fd9-b8ca-4c47-b578-26985f36fd63",
   "metadata": {},
   "outputs": [],
   "source": []
  }
 ],
 "metadata": {
  "kernelspec": {
   "display_name": "Python 3 (ipykernel)",
   "language": "python",
   "name": "python3"
  },
  "language_info": {
   "codemirror_mode": {
    "name": "ipython",
    "version": 3
   },
   "file_extension": ".py",
   "mimetype": "text/x-python",
   "name": "python",
   "nbconvert_exporter": "python",
   "pygments_lexer": "ipython3",
   "version": "3.13.2"
  }
 },
 "nbformat": 4,
 "nbformat_minor": 5
}
