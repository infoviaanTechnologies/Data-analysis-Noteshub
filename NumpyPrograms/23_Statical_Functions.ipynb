{
 "cells": [
  {
   "cell_type": "markdown",
   "id": "c8f85e12-266b-4acb-91d0-d43e8e47eb98",
   "metadata": {},
   "source": [
    "#### Statistics functions in numpy"
   ]
  },
  {
   "cell_type": "code",
   "execution_count": null,
   "id": "27d3337a-08ef-47ff-8bb3-ae27166bf49e",
   "metadata": {},
   "outputs": [],
   "source": [
    "# np.mean()  # to Airhtemetic mean\n",
    "# np.median() # to find median\n",
    "# np.std()    # to find standart devioation\n",
    "# np.var()    # to find variance\n",
    "# np.min()\n",
    "# np.max()\n",
    "# np.percentile()   # give percentile value\n",
    "# np.avrage()     # mean with optional weights\n",
    "# np.argmax()     # index of max value\n",
    "# np.argmin()     # index of min"
   ]
  },
  {
   "cell_type": "code",
   "execution_count": 15,
   "id": "1dd1c7aa-bb36-4b9a-9aa7-b03e76d9104d",
   "metadata": {},
   "outputs": [
    {
     "name": "stdout",
     "output_type": "stream",
     "text": [
      "31.666666666666668\n"
     ]
    }
   ],
   "source": [
    "import numpy as np\n",
    "ar=np.array([10,20,40,30,40,50,])\n",
    "print(np.mean(ar))\n"
   ]
  },
  {
   "cell_type": "code",
   "execution_count": 3,
   "id": "efe9e639-7739-48c6-9802-8322c9d460be",
   "metadata": {},
   "outputs": [
    {
     "name": "stdout",
     "output_type": "stream",
     "text": [
      "30.0\n"
     ]
    }
   ],
   "source": [
    "print(np.median(ar))"
   ]
  },
  {
   "cell_type": "code",
   "execution_count": 4,
   "id": "4f8c5c35-e085-45a8-a4a7-5078c29b34e5",
   "metadata": {},
   "outputs": [
    {
     "name": "stdout",
     "output_type": "stream",
     "text": [
      "14.142135623730951\n"
     ]
    }
   ],
   "source": [
    "print(np.std(ar))"
   ]
  },
  {
   "cell_type": "code",
   "execution_count": 5,
   "id": "5b219bc0-7ba8-461a-9d5c-90823ce12aa8",
   "metadata": {},
   "outputs": [
    {
     "name": "stdout",
     "output_type": "stream",
     "text": [
      "200.0\n"
     ]
    }
   ],
   "source": [
    "print(np.var(ar))"
   ]
  },
  {
   "cell_type": "code",
   "execution_count": 6,
   "id": "11cd099a-8de8-450f-9258-cd4417420728",
   "metadata": {},
   "outputs": [
    {
     "name": "stdout",
     "output_type": "stream",
     "text": [
      "50\n"
     ]
    }
   ],
   "source": [
    "print(np.max(ar))"
   ]
  },
  {
   "cell_type": "code",
   "execution_count": 7,
   "id": "29e64c14-7173-43c5-a928-8646bcc6bc42",
   "metadata": {},
   "outputs": [
    {
     "name": "stdout",
     "output_type": "stream",
     "text": [
      "10\n"
     ]
    }
   ],
   "source": [
    "print(np.min(ar))"
   ]
  },
  {
   "cell_type": "code",
   "execution_count": 8,
   "id": "2d808f4f-f9e1-48b9-9d3c-afb2e7f5366e",
   "metadata": {},
   "outputs": [
    {
     "name": "stdout",
     "output_type": "stream",
     "text": [
      "4\n"
     ]
    }
   ],
   "source": [
    "#index of max value\n",
    "print(np.argmax(ar))"
   ]
  },
  {
   "cell_type": "code",
   "execution_count": 9,
   "id": "cad62470-c3b2-4a64-a8d1-2b2e04da25ff",
   "metadata": {},
   "outputs": [
    {
     "name": "stdout",
     "output_type": "stream",
     "text": [
      "0\n"
     ]
    }
   ],
   "source": [
    "#index of min\n",
    "print(np.argmin(ar))"
   ]
  },
  {
   "cell_type": "code",
   "execution_count": 12,
   "id": "dca5b001-65ab-4a08-a737-eab4012e1adf",
   "metadata": {},
   "outputs": [
    {
     "name": "stdout",
     "output_type": "stream",
     "text": [
      "46.0\n"
     ]
    }
   ],
   "source": [
    "print(np.percentile(ar,90))"
   ]
  },
  {
   "cell_type": "code",
   "execution_count": 16,
   "id": "d5546f8b-651e-4e9b-b092-cc1c9f918600",
   "metadata": {},
   "outputs": [
    {
     "name": "stdout",
     "output_type": "stream",
     "text": [
      "22.5\n"
     ]
    }
   ],
   "source": [
    "print(np.quantile(ar,0.25))   #0 to 1     \n",
    "                                   # 25%   0.25 1st quterlie\n",
    "                                   # 50%   0.5  2nd quterlie\n",
    "                                   # 75%   0.75  3rd  quterlie\n",
    "                                   # 100%  1.0   4th quterlie"
   ]
  },
  {
   "cell_type": "code",
   "execution_count": 17,
   "id": "aa06eb77-a8c2-434e-911f-55dc54762bb8",
   "metadata": {},
   "outputs": [
    {
     "name": "stdout",
     "output_type": "stream",
     "text": [
      "35.0\n"
     ]
    }
   ],
   "source": [
    "print(np.quantile(ar,0.50))   #0 to 1     \n",
    "                                   # 25%   0.25 1st quterlie\n",
    "                                   # 50%   0.5  2nd quterlie\n",
    "                                   # 75%   0.75  3rd  quterlie\n",
    "                                   # 100%  1.0   4th quterlie"
   ]
  },
  {
   "cell_type": "code",
   "execution_count": 18,
   "id": "fa555904-6128-4172-bf26-c06ecffecae8",
   "metadata": {},
   "outputs": [
    {
     "name": "stdout",
     "output_type": "stream",
     "text": [
      "[10 40 30 20 29]\n"
     ]
    }
   ],
   "source": [
    "ar=np.array([10,40,30,20,29])\n",
    "print(ar)"
   ]
  },
  {
   "cell_type": "code",
   "execution_count": 20,
   "id": "878df030-2b9d-4cc6-89ac-aed0ef3d9dc3",
   "metadata": {},
   "outputs": [
    {
     "name": "stdout",
     "output_type": "stream",
     "text": [
      "[10 20 29 30 40]\n"
     ]
    }
   ],
   "source": [
    "print(np.sort(ar))"
   ]
  },
  {
   "cell_type": "code",
   "execution_count": 19,
   "id": "21e63065-2031-4a02-a7ed-1f1c3334d3be",
   "metadata": {},
   "outputs": [
    {
     "name": "stdout",
     "output_type": "stream",
     "text": [
      "[0 3 4 2 1]\n"
     ]
    }
   ],
   "source": [
    "#index value with sorting\n",
    "print(np.argsort(ar))"
   ]
  },
  {
   "cell_type": "code",
   "execution_count": 22,
   "id": "3ab44e45-2687-4459-85aa-0dbdcb3073ef",
   "metadata": {},
   "outputs": [
    {
     "name": "stdout",
     "output_type": "stream",
     "text": [
      "[False  True False False False]\n"
     ]
    }
   ],
   "source": [
    "ar=np.array([10,np.nan,30,40,50])\n",
    "print(np.isnan(ar))"
   ]
  },
  {
   "cell_type": "code",
   "execution_count": null,
   "id": "e8d41fe9-7963-4fab-a644-0b98c4b54f3d",
   "metadata": {},
   "outputs": [],
   "source": []
  },
  {
   "cell_type": "code",
   "execution_count": null,
   "id": "745ac129-604f-469a-8120-93224d2be289",
   "metadata": {},
   "outputs": [],
   "source": []
  }
 ],
 "metadata": {
  "kernelspec": {
   "display_name": "Python 3 (ipykernel)",
   "language": "python",
   "name": "python3"
  },
  "language_info": {
   "codemirror_mode": {
    "name": "ipython",
    "version": 3
   },
   "file_extension": ".py",
   "mimetype": "text/x-python",
   "name": "python",
   "nbconvert_exporter": "python",
   "pygments_lexer": "ipython3",
   "version": "3.13.2"
  }
 },
 "nbformat": 4,
 "nbformat_minor": 5
}
