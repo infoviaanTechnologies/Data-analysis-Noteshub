{
 "cells": [
  {
   "cell_type": "code",
   "execution_count": 12,
   "id": "c1824b32-8120-4015-9e89-27fb3b9468b6",
   "metadata": {},
   "outputs": [],
   "source": [
    "import numpy as np"
   ]
  },
  {
   "cell_type": "code",
   "execution_count": 13,
   "id": "20c3ab95-77f0-426f-9836-efa3b70d7d5b",
   "metadata": {},
   "outputs": [
    {
     "name": "stdout",
     "output_type": "stream",
     "text": [
      "[10 20 30 40]\n"
     ]
    }
   ],
   "source": [
    "#1D array\n",
    "a=np.array([10,20,30,40])\n",
    "print(a)"
   ]
  },
  {
   "cell_type": "code",
   "execution_count": 14,
   "id": "63f67a0d-0be3-4af1-92c9-4905ec45df3d",
   "metadata": {},
   "outputs": [
    {
     "name": "stdout",
     "output_type": "stream",
     "text": [
      "[[11 22 30]\n",
      " [10 20 23]]\n"
     ]
    }
   ],
   "source": [
    "#2d - array\n",
    "a=np.array([[11,22,30],          #shape(2,3)\n",
    "            [10,20,23]])\n",
    "print(a)"
   ]
  },
  {
   "cell_type": "code",
   "execution_count": 15,
   "id": "ab815a13-2b59-421d-a3de-163aa6b792eb",
   "metadata": {},
   "outputs": [
    {
     "name": "stdout",
     "output_type": "stream",
     "text": [
      "[10 20 30]\n"
     ]
    }
   ],
   "source": [
    "li=[10,20,30]\n",
    "a=np.array(li)\n",
    "print(a)"
   ]
  },
  {
   "cell_type": "code",
   "execution_count": 16,
   "id": "f213a3d9-a28e-4f89-b4fe-0f22f98aac34",
   "metadata": {},
   "outputs": [
    {
     "name": "stdout",
     "output_type": "stream",
     "text": [
      "[11 22 33]\n"
     ]
    }
   ],
   "source": [
    "tt=(11,22,33)\n",
    "a=np.array(tt)\n",
    "print(a)"
   ]
  },
  {
   "cell_type": "code",
   "execution_count": 22,
   "id": "880765fd-98f1-4bf6-ace9-f00508331585",
   "metadata": {},
   "outputs": [
    {
     "name": "stdout",
     "output_type": "stream",
     "text": [
      "[11 22 33 44]\n",
      "11\n",
      "22\n",
      "-----------------\n",
      "11\n",
      "22\n",
      "33\n",
      "44\n"
     ]
    }
   ],
   "source": [
    "ar=np.array([11,22,33,44])\n",
    "print(ar)\n",
    "print(ar[0])\n",
    "print(ar[1])\n",
    "print('-----------------')\n",
    "for i in ar:\n",
    "    print(i)"
   ]
  },
  {
   "cell_type": "code",
   "execution_count": 26,
   "id": "42e2c648-765c-493f-bdf0-b34d8c966919",
   "metadata": {},
   "outputs": [
    {
     "name": "stdout",
     "output_type": "stream",
     "text": [
      "[10 20 30]\n",
      "[11 22 33]\n",
      "10\n",
      "20\n"
     ]
    }
   ],
   "source": [
    "ar=np.array([[10,20,30],\n",
    "             [11,22,33]])\n",
    "\n",
    "print(ar[0])\n",
    "print(ar[1])\n",
    "\n",
    "print(ar[0][0])\n",
    "print(ar[0][1])"
   ]
  },
  {
   "cell_type": "code",
   "execution_count": null,
   "id": "fd05f2eb-2b11-4ff2-aab1-9bd981ae0c03",
   "metadata": {},
   "outputs": [],
   "source": []
  }
 ],
 "metadata": {
  "kernelspec": {
   "display_name": "Python 3 (ipykernel)",
   "language": "python",
   "name": "python3"
  },
  "language_info": {
   "codemirror_mode": {
    "name": "ipython",
    "version": 3
   },
   "file_extension": ".py",
   "mimetype": "text/x-python",
   "name": "python",
   "nbconvert_exporter": "python",
   "pygments_lexer": "ipython3",
   "version": "3.13.2"
  }
 },
 "nbformat": 4,
 "nbformat_minor": 5
}
