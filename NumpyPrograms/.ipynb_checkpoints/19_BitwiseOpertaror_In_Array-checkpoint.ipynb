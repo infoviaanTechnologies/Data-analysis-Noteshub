{
 "cells": [
  {
   "cell_type": "code",
   "execution_count": 1,
   "id": "ddc7cd2d-06bd-4e58-8ca9-b516bad30bc3",
   "metadata": {},
   "outputs": [],
   "source": [
    "import numpy as np"
   ]
  },
  {
   "cell_type": "code",
   "execution_count": 2,
   "id": "505fd50a-eb7a-461c-a441-1a91859d8a1f",
   "metadata": {},
   "outputs": [
    {
     "name": "stdout",
     "output_type": "stream",
     "text": [
      "8\n"
     ]
    }
   ],
   "source": [
    "print(8&9)        #1000\n",
    "                  #1001\n",
    "                   ----\n",
    "                #  1000  -->8"
   ]
  },
  {
   "cell_type": "code",
   "execution_count": 6,
   "id": "2577f047-d98e-49e8-8173-1b481dbb3b1a",
   "metadata": {},
   "outputs": [],
   "source": [
    "a1=np.array([8,2,4])\n",
    "a2=np.array([9,3,5])"
   ]
  },
  {
   "cell_type": "code",
   "execution_count": 7,
   "id": "167f6657-3821-4db7-b282-78dd9e689075",
   "metadata": {},
   "outputs": [
    {
     "name": "stdout",
     "output_type": "stream",
     "text": [
      "[8 2 4]\n"
     ]
    }
   ],
   "source": [
    "print(np.bitwise_and(a1,a2))"
   ]
  },
  {
   "cell_type": "code",
   "execution_count": 10,
   "id": "449b4790-54e0-4f43-82ce-edadbe7a28c2",
   "metadata": {},
   "outputs": [
    {
     "name": "stdout",
     "output_type": "stream",
     "text": [
      "0b1001\n",
      "9\n"
     ]
    }
   ],
   "source": [
    "# # 8|9       1000\n",
    "#             1001\n",
    "#             ----\n",
    "#             1001  -->9\n",
    "print(bin(9))\n",
    "print(8|9)"
   ]
  },
  {
   "cell_type": "code",
   "execution_count": 13,
   "id": "e429304f-975e-4283-9cbb-59af94566e06",
   "metadata": {},
   "outputs": [
    {
     "name": "stdout",
     "output_type": "stream",
     "text": [
      "[9 7 5]\n"
     ]
    }
   ],
   "source": [
    "a1=np.array([8,4,5])\n",
    "a2=np.array([9,3,4])\n",
    "print(np.bitwise_or(a1,a2))"
   ]
  },
  {
   "cell_type": "code",
   "execution_count": 15,
   "id": "490c1837-7185-4ec3-ba27-e7c1debcc3c1",
   "metadata": {},
   "outputs": [
    {
     "name": "stdout",
     "output_type": "stream",
     "text": [
      "[1 7 1]\n"
     ]
    }
   ],
   "source": [
    "print(np.bitwise_xor(a1,a2))     #8^9   1000\n",
    "                                      # 1001\n",
    "                                     # ----\n",
    "                                      # 0001"
   ]
  },
  {
   "cell_type": "code",
   "execution_count": 18,
   "id": "e5345855-e4aa-4374-9cbb-4a5d56613ba1",
   "metadata": {},
   "outputs": [
    {
     "name": "stdout",
     "output_type": "stream",
     "text": [
      "[-9 -5 -6]\n"
     ]
    }
   ],
   "source": [
    "print(np.invert(a1))"
   ]
  },
  {
   "cell_type": "code",
   "execution_count": 19,
   "id": "f47ff7b9-7b82-49f1-9349-e86c93717eb3",
   "metadata": {},
   "outputs": [
    {
     "name": "stdout",
     "output_type": "stream",
     "text": [
      "[32 16 20]\n"
     ]
    }
   ],
   "source": [
    "print(np.left_shift(a1,2))"
   ]
  },
  {
   "cell_type": "code",
   "execution_count": 20,
   "id": "46fbd643-4bf4-4826-bf7a-b3608908f99f",
   "metadata": {},
   "outputs": [
    {
     "name": "stdout",
     "output_type": "stream",
     "text": [
      "[1 0 0]\n"
     ]
    }
   ],
   "source": [
    "print(np.right_shift(a1,3))"
   ]
  },
  {
   "cell_type": "code",
   "execution_count": 23,
   "id": "561b5e6f-31f2-4d42-b7f2-6480cb5f04c0",
   "metadata": {},
   "outputs": [
    {
     "name": "stdout",
     "output_type": "stream",
     "text": [
      "0b1001\n",
      "0b1000\n",
      "0b111\n"
     ]
    }
   ],
   "source": [
    "print(bin(9))\n",
    "print(bin(8))\n",
    "print(bin(7))"
   ]
  },
  {
   "cell_type": "code",
   "execution_count": 35,
   "id": "32315d02-b319-4924-af70-9cb63a7d2295",
   "metadata": {},
   "outputs": [
    {
     "name": "stdout",
     "output_type": "stream",
     "text": [
      "1000\n"
     ]
    }
   ],
   "source": [
    "ar=np.array([8,9,7,3,4])\n",
    "print(np.binary_repr(ar[0]))"
   ]
  },
  {
   "cell_type": "code",
   "execution_count": 37,
   "id": "2488d77e-b8ea-4904-8404-523420955165",
   "metadata": {},
   "outputs": [
    {
     "name": "stdout",
     "output_type": "stream",
     "text": [
      "01000\n"
     ]
    }
   ],
   "source": [
    "print(np.binary_repr(ar[0],width=5))"
   ]
  },
  {
   "cell_type": "code",
   "execution_count": 39,
   "id": "080dc900-c743-4430-864a-c8ecaf38a925",
   "metadata": {},
   "outputs": [
    {
     "name": "stdout",
     "output_type": "stream",
     "text": [
      "00001001\n"
     ]
    }
   ],
   "source": [
    "print(np.binary_repr(ar[1],width=8))"
   ]
  },
  {
   "cell_type": "code",
   "execution_count": 40,
   "id": "d01127ca-389d-4779-92ea-95fe44821ac9",
   "metadata": {},
   "outputs": [
    {
     "name": "stdout",
     "output_type": "stream",
     "text": [
      "1.0\n"
     ]
    }
   ],
   "source": [
    "print(np.sin(np.pi/2))"
   ]
  },
  {
   "cell_type": "code",
   "execution_count": 41,
   "id": "0bc3d48d-def2-4a4f-9dfb-4274497a3e80",
   "metadata": {},
   "outputs": [
    {
     "name": "stdout",
     "output_type": "stream",
     "text": [
      "1.2246467991473532e-16\n"
     ]
    }
   ],
   "source": [
    "print(np.sin(np.pi))"
   ]
  },
  {
   "cell_type": "code",
   "execution_count": 42,
   "id": "91d754e6-68c6-4aaa-b8cb-312ca1830adb",
   "metadata": {},
   "outputs": [
    {
     "name": "stdout",
     "output_type": "stream",
     "text": [
      "0.7071067811865476\n"
     ]
    }
   ],
   "source": [
    "print(np.sin(np.pi/4))"
   ]
  },
  {
   "cell_type": "code",
   "execution_count": 47,
   "id": "bc39f5b4-da45-4503-a3e5-6d0c7a79c64b",
   "metadata": {},
   "outputs": [
    {
     "name": "stdout",
     "output_type": "stream",
     "text": [
      "[ 0.         -0.98803162  0.85090352 -0.30481062  0.89399666]\n",
      "[ 1.          0.15425145  0.52532199 -0.95241298 -0.44807362]\n",
      "[ 0.         -6.4053312   1.61977519  0.32004039 -1.99520041]\n",
      "[ 0. nan nan nan nan]\n"
     ]
    },
    {
     "name": "stderr",
     "output_type": "stream",
     "text": [
      "C:\\Users\\HP\\AppData\\Local\\Temp\\ipykernel_29564\\241906998.py:5: RuntimeWarning: invalid value encountered in arcsin\n",
      "  print(np.arcsin(ar))   #cosec\n"
     ]
    }
   ],
   "source": [
    "ar=np.array([0,30,45,60,90])\n",
    "print(np.sin(ar))\n",
    "print(np.cos(ar))\n",
    "print(np.tan(ar))\n",
    "#print(np.arcsin(ar))   #cosec"
   ]
  },
  {
   "cell_type": "code",
   "execution_count": 52,
   "id": "9cc7727d-2ecf-4420-bd17-a69fd0565562",
   "metadata": {},
   "outputs": [
    {
     "name": "stdout",
     "output_type": "stream",
     "text": [
      "[0.         0.5        0.70710678 0.8660254  1.        ]\n"
     ]
    }
   ],
   "source": [
    "x=np.sin(ar* np.pi/180)\n",
    "print(x)"
   ]
  },
  {
   "cell_type": "code",
   "execution_count": 53,
   "id": "7dfe4844-855e-44d1-bb8f-e27ea181fce6",
   "metadata": {},
   "outputs": [
    {
     "name": "stdout",
     "output_type": "stream",
     "text": [
      "[0.         0.52359878 0.78539816 1.04719755 1.57079633]\n"
     ]
    }
   ],
   "source": [
    "print(\"Invercer of sin\")\n",
    "print(np.arcsin(x))          #cosec"
   ]
  },
  {
   "cell_type": "code",
   "execution_count": null,
   "id": "9f02a433-6ff0-4222-8558-d6b64c843110",
   "metadata": {},
   "outputs": [],
   "source": []
  }
 ],
 "metadata": {
  "kernelspec": {
   "display_name": "Python 3 (ipykernel)",
   "language": "python",
   "name": "python3"
  },
  "language_info": {
   "codemirror_mode": {
    "name": "ipython",
    "version": 3
   },
   "file_extension": ".py",
   "mimetype": "text/x-python",
   "name": "python",
   "nbconvert_exporter": "python",
   "pygments_lexer": "ipython3",
   "version": "3.13.2"
  }
 },
 "nbformat": 4,
 "nbformat_minor": 5
}
