{
 "cells": [
  {
   "cell_type": "markdown",
   "id": "d154d5a7-68d4-46ae-b806-6d192cce3e3e",
   "metadata": {},
   "source": [
    "#### NumPy Array Iteration  \n"
   ]
  },
  {
   "cell_type": "code",
   "execution_count": 1,
   "id": "cbd69e86-f0c5-425f-b72a-81f3ab26be67",
   "metadata": {},
   "outputs": [],
   "source": [
    "import numpy as np"
   ]
  },
  {
   "cell_type": "code",
   "execution_count": 6,
   "id": "09d8dcaa-488f-4391-97c5-92fa2cca5f97",
   "metadata": {},
   "outputs": [
    {
     "name": "stdout",
     "output_type": "stream",
     "text": [
      "10\n",
      "20\n",
      "30\n",
      "40\n"
     ]
    }
   ],
   "source": [
    "li=[10,20,30,40]\n",
    "ii=iter(li)\n",
    "print(next(ii))\n",
    "print(next(ii))\n",
    "print(next(ii))\n",
    "print(next(ii))"
   ]
  },
  {
   "cell_type": "code",
   "execution_count": 4,
   "id": "dedb72cf-befa-44e8-a431-f4932fc912d5",
   "metadata": {},
   "outputs": [
    {
     "name": "stdout",
     "output_type": "stream",
     "text": [
      "10\n",
      "20\n",
      "30\n",
      "40\n"
     ]
    }
   ],
   "source": [
    "for i in li:\n",
    "    print(i)"
   ]
  },
  {
   "cell_type": "code",
   "execution_count": 7,
   "id": "34951d3b-895d-4390-8575-8d40214dcd57",
   "metadata": {},
   "outputs": [
    {
     "name": "stdout",
     "output_type": "stream",
     "text": [
      "[[ 1  2  3]\n",
      " [10 20 30]]\n"
     ]
    }
   ],
   "source": [
    "ar=np.array([[1,2,3],\n",
    "             [10,20,30]])\n",
    "print(ar)"
   ]
  },
  {
   "cell_type": "code",
   "execution_count": 12,
   "id": "82a00892-2817-4f3a-a1b4-1ca76d3627a9",
   "metadata": {},
   "outputs": [
    {
     "name": "stdout",
     "output_type": "stream",
     "text": [
      "1\n",
      "2\n"
     ]
    }
   ],
   "source": [
    "ii=np.nditer(ar)\n",
    "print(next(ii))\n",
    "print(next(ii))\n"
   ]
  },
  {
   "cell_type": "code",
   "execution_count": 13,
   "id": "ed52ec21-4a4f-4cad-bfaf-660b68dceffe",
   "metadata": {},
   "outputs": [
    {
     "name": "stdout",
     "output_type": "stream",
     "text": [
      "3\n",
      "10\n",
      "20\n",
      "30\n"
     ]
    }
   ],
   "source": [
    "for i in ii:\n",
    "    print(i)"
   ]
  },
  {
   "cell_type": "code",
   "execution_count": 17,
   "id": "315da8d2-c474-4234-b0c0-146a353b3c17",
   "metadata": {},
   "outputs": [],
   "source": [
    "for i in ii:\n",
    "    print(i)"
   ]
  },
  {
   "cell_type": "code",
   "execution_count": 18,
   "id": "173fafc0-bc59-4574-ae61-1fbfee9497f4",
   "metadata": {},
   "outputs": [
    {
     "name": "stdout",
     "output_type": "stream",
     "text": [
      "Printing the array:\n",
      "[[ 1  2  3  4]\n",
      " [ 2  4  5  6]\n",
      " [10 20 39  3]]\n"
     ]
    }
   ],
   "source": [
    "\n",
    "a = np.array([[1,2,3,4],\n",
    "              [2,4,5,6],\n",
    "              [10,20,39,3]])  \n",
    "print(\"Printing the array:\")  \n",
    "print(a)  \n"
   ]
  },
  {
   "cell_type": "code",
   "execution_count": 19,
   "id": "d1e88634-0c9d-4d29-bf6a-f0a6f00ee759",
   "metadata": {},
   "outputs": [
    {
     "name": "stdout",
     "output_type": "stream",
     "text": [
      "Printing the transpose of the array:\n",
      "[[ 1  2 10]\n",
      " [ 2  4 20]\n",
      " [ 3  5 39]\n",
      " [ 4  6  3]]\n"
     ]
    }
   ],
   "source": [
    "print(\"Printing the transpose of the array:\")  \n",
    "at = a.T  \n",
    "print(at)  \n",
    "  \n"
   ]
  },
  {
   "cell_type": "code",
   "execution_count": 21,
   "id": "443a092a-dc48-4421-9d00-8275a060ccd1",
   "metadata": {},
   "outputs": [
    {
     "name": "stdout",
     "output_type": "stream",
     "text": [
      "1 2 3 4 2 4 5 6 10 20 39 3 "
     ]
    }
   ],
   "source": [
    "#this will be same as previous   \n",
    "for x in np.nditer(at):  \n",
    "    print(x,end=' ')  \n"
   ]
  },
  {
   "cell_type": "code",
   "execution_count": 22,
   "id": "2c9f77fd-8c5a-4562-9717-d6c25331dd94",
   "metadata": {},
   "outputs": [
    {
     "name": "stdout",
     "output_type": "stream",
     "text": [
      "1 2 3 4 2 4 5 6 10 20 39 3 "
     ]
    }
   ],
   "source": [
    "for x in np.nditer(a):  \n",
    "    print(x,end=' ')\n"
   ]
  },
  {
   "cell_type": "code",
   "execution_count": 23,
   "id": "6c9a4d47-f4e4-4b47-a5c5-59fafa50b0b7",
   "metadata": {},
   "outputs": [
    {
     "name": "stdout",
     "output_type": "stream",
     "text": [
      "[[ 1  2 10]\n",
      " [ 2  4 20]\n",
      " [ 3  5 39]\n",
      " [ 4  6  3]]\n"
     ]
    }
   ],
   "source": [
    "#sorting transpose array in c-style order\n",
    "c=at.copy(order='C')\n",
    "print(c)"
   ]
  },
  {
   "cell_type": "code",
   "execution_count": 24,
   "id": "6effe7c0-051b-4683-925e-87c64e442f06",
   "metadata": {},
   "outputs": [
    {
     "name": "stdout",
     "output_type": "stream",
     "text": [
      "1 2 3 4 2 4 5 6 10 20 39 3 "
     ]
    }
   ],
   "source": [
    "#itrate with col wise\n",
    "for x in np.nditer(a):  \n",
    "    print(x,end=' ')\n"
   ]
  },
  {
   "cell_type": "code",
   "execution_count": 25,
   "id": "8f3d8f13-d065-4211-979f-9e88f1af73c2",
   "metadata": {},
   "outputs": [
    {
     "name": "stdout",
     "output_type": "stream",
     "text": [
      "1 2 10 2 4 20 3 5 39 4 6 3 "
     ]
    }
   ],
   "source": [
    "#itrate with row wise\n",
    "for x in np.nditer(c):\n",
    "    print(x,end=' ')"
   ]
  },
  {
   "cell_type": "code",
   "execution_count": 26,
   "id": "410c08e8-41e2-456b-8ee6-a044c06dc44e",
   "metadata": {},
   "outputs": [
    {
     "name": "stdout",
     "output_type": "stream",
     "text": [
      "[[ 1  2 10]\n",
      " [ 2  4 20]\n",
      " [ 3  5 39]\n",
      " [ 4  6  3]]\n"
     ]
    }
   ],
   "source": [
    "#sorting transpose array in c-style order\n",
    "d=at.copy(order='F')\n",
    "print(d)"
   ]
  },
  {
   "cell_type": "code",
   "execution_count": 29,
   "id": "9ff3aa54-73f2-482c-a2c4-c110b74af779",
   "metadata": {},
   "outputs": [
    {
     "name": "stdout",
     "output_type": "stream",
     "text": [
      "1 2 3 4 2 4 5 6 10 20 39 3 "
     ]
    }
   ],
   "source": [
    "#itrate with row wise\n",
    "for i in np.nditer(d):\n",
    "    print(i,end=' ')"
   ]
  },
  {
   "cell_type": "code",
   "execution_count": 30,
   "id": "426052c2-9485-49e7-82c6-39ec733b829a",
   "metadata": {},
   "outputs": [
    {
     "name": "stdout",
     "output_type": "stream",
     "text": [
      "\n",
      "Printing the original array:\n",
      "\n",
      "[[ 1  2  3  4]\n",
      " [ 2  4  5  6]\n",
      " [10 20 39  3]]\n"
     ]
    }
   ],
   "source": [
    "import numpy as np  \n",
    "a = np.array([[1,2,3,4],[2,4,5,6],[10,20,39,3]])  \n",
    "print(\"\\nPrinting the original array:\\n\")  \n",
    "print(a)  \n"
   ]
  },
  {
   "cell_type": "code",
   "execution_count": 32,
   "id": "6d26c181-6f49-4514-95a1-2f1855cc152f",
   "metadata": {},
   "outputs": [
    {
     "ename": "ValueError",
     "evalue": "assignment destination is read-only",
     "output_type": "error",
     "traceback": [
      "\u001b[31m---------------------------------------------------------------------------\u001b[39m",
      "\u001b[31mValueError\u001b[39m                                Traceback (most recent call last)",
      "\u001b[36mCell\u001b[39m\u001b[36m \u001b[39m\u001b[32mIn[32]\u001b[39m\u001b[32m, line 3\u001b[39m\n\u001b[32m      1\u001b[39m \u001b[38;5;66;03m# print(\"\\nIterating over the modified array\\n\")  \u001b[39;00m\n\u001b[32m      2\u001b[39m \u001b[38;5;28;01mfor\u001b[39;00m x \u001b[38;5;129;01min\u001b[39;00m np.nditer(a):  \n\u001b[32m----> \u001b[39m\u001b[32m3\u001b[39m     \u001b[43mx\u001b[49m\u001b[43m[\u001b[49m\u001b[43m.\u001b[49m\u001b[43m.\u001b[49m\u001b[43m.\u001b[49m\u001b[43m]\u001b[49m = \u001b[32m3\u001b[39m * x;  \n\u001b[32m      4\u001b[39m     \u001b[38;5;28mprint\u001b[39m(x,end = \u001b[33m'\u001b[39m\u001b[33m \u001b[39m\u001b[33m'\u001b[39m) \n",
      "\u001b[31mValueError\u001b[39m: assignment destination is read-only"
     ]
    }
   ],
   "source": [
    "# print(\"\\nIterating over the modified array\\n\")  \n",
    "#without flag\n",
    "for x in np.nditer(a):  \n",
    "    x[...] = 3 * x;  \n",
    "    print(x,end = ' ') \n"
   ]
  },
  {
   "cell_type": "code",
   "execution_count": 33,
   "id": "5323a6f1-fe53-4aa6-bd4b-1f1c94154d48",
   "metadata": {},
   "outputs": [
    {
     "name": "stdout",
     "output_type": "stream",
     "text": [
      "9 18 27 36 18 36 45 54 90 180 351 27 "
     ]
    }
   ],
   "source": [
    "# using op_flags = ['readwrite']\n",
    "\n",
    "for x in np.nditer(a,op_flags = ['readwrite']):  \n",
    "    x[...] = 3 * x;  \n",
    "    print(x,end = ' ') \n"
   ]
  },
  {
   "cell_type": "code",
   "execution_count": 34,
   "id": "bfd5dac7-64d2-43f6-8b38-f77a4509ecec",
   "metadata": {},
   "outputs": [
    {
     "name": "stdout",
     "output_type": "stream",
     "text": [
      "[[  9  18  27  36]\n",
      " [ 18  36  45  54]\n",
      " [ 90 180 351  27]]\n"
     ]
    }
   ],
   "source": [
    "print(a)"
   ]
  },
  {
   "cell_type": "code",
   "execution_count": null,
   "id": "6d29fd42-483e-4aac-99a4-616d5f2ca363",
   "metadata": {},
   "outputs": [],
   "source": []
  }
 ],
 "metadata": {
  "kernelspec": {
   "display_name": "Python 3 (ipykernel)",
   "language": "python",
   "name": "python3"
  },
  "language_info": {
   "codemirror_mode": {
    "name": "ipython",
    "version": 3
   },
   "file_extension": ".py",
   "mimetype": "text/x-python",
   "name": "python",
   "nbconvert_exporter": "python",
   "pygments_lexer": "ipython3",
   "version": "3.13.2"
  }
 },
 "nbformat": 4,
 "nbformat_minor": 5
}
